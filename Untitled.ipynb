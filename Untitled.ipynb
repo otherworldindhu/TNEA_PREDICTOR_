{
 "cells": [
  {
   "cell_type": "code",
   "execution_count": 1,
   "id": "0c584091",
   "metadata": {},
   "outputs": [],
   "source": [
    "import pandas as pd"
   ]
  },
  {
   "cell_type": "code",
   "execution_count": 2,
   "id": "988104f9",
   "metadata": {},
   "outputs": [],
   "source": [
    "#importing 2017-2020 data\n",
    "df = pd.read_csv(\"data/2017-2020-Copy.csv\",low_memory=False)"
   ]
  },
  {
   "cell_type": "code",
   "execution_count": 3,
   "id": "542d9c6e",
   "metadata": {},
   "outputs": [
    {
     "data": {
      "text/html": [
       "<div>\n",
       "<style scoped>\n",
       "    .dataframe tbody tr th:only-of-type {\n",
       "        vertical-align: middle;\n",
       "    }\n",
       "\n",
       "    .dataframe tbody tr th {\n",
       "        vertical-align: top;\n",
       "    }\n",
       "\n",
       "    .dataframe thead th {\n",
       "        text-align: right;\n",
       "    }\n",
       "</style>\n",
       "<table border=\"1\" class=\"dataframe\">\n",
       "  <thead>\n",
       "    <tr style=\"text-align: right;\">\n",
       "      <th></th>\n",
       "      <th>Year</th>\n",
       "      <th>College Code</th>\n",
       "      <th>College_Name</th>\n",
       "      <th>Branch Code</th>\n",
       "      <th>Branch Name</th>\n",
       "      <th>OC</th>\n",
       "      <th>BC</th>\n",
       "      <th>BCM</th>\n",
       "      <th>MBC</th>\n",
       "      <th>SC</th>\n",
       "      <th>SCA</th>\n",
       "      <th>ST</th>\n",
       "    </tr>\n",
       "  </thead>\n",
       "  <tbody>\n",
       "    <tr>\n",
       "      <th>0</th>\n",
       "      <td>2017</td>\n",
       "      <td>1</td>\n",
       "      <td>UNIVERSITY DEPARTMENTS OF ANNA UNIVERSITY, CHE...</td>\n",
       "      <td>AI</td>\n",
       "      <td>Agricultural and Irrigation Engg.(SS)</td>\n",
       "      <td>196.25</td>\n",
       "      <td>195.25</td>\n",
       "      <td>193.25</td>\n",
       "      <td>194.25</td>\n",
       "      <td>188.75</td>\n",
       "      <td>185.75</td>\n",
       "      <td>175.25</td>\n",
       "    </tr>\n",
       "    <tr>\n",
       "      <th>1</th>\n",
       "      <td>2017</td>\n",
       "      <td>1</td>\n",
       "      <td>UNIVERSITY DEPARTMENTS OF ANNA UNIVERSITY, CHE...</td>\n",
       "      <td>BY</td>\n",
       "      <td>Bio Medical Engg(SS)</td>\n",
       "      <td>198.25</td>\n",
       "      <td>197.50</td>\n",
       "      <td>197.25</td>\n",
       "      <td>196.50</td>\n",
       "      <td>193.00</td>\n",
       "      <td>191.75</td>\n",
       "      <td>188.00</td>\n",
       "    </tr>\n",
       "    <tr>\n",
       "      <th>2</th>\n",
       "      <td>2017</td>\n",
       "      <td>1</td>\n",
       "      <td>UNIVERSITY DEPARTMENTS OF ANNA UNIVERSITY, CHE...</td>\n",
       "      <td>CE</td>\n",
       "      <td>Civil Engineering</td>\n",
       "      <td>198.50</td>\n",
       "      <td>198.00</td>\n",
       "      <td>197.50</td>\n",
       "      <td>197.50</td>\n",
       "      <td>196.00</td>\n",
       "      <td>193.50</td>\n",
       "      <td>196.00</td>\n",
       "    </tr>\n",
       "    <tr>\n",
       "      <th>3</th>\n",
       "      <td>2017</td>\n",
       "      <td>1</td>\n",
       "      <td>UNIVERSITY DEPARTMENTS OF ANNA UNIVERSITY, CHE...</td>\n",
       "      <td>CM</td>\n",
       "      <td>Computer Science and Engg.(SS)</td>\n",
       "      <td>199.00</td>\n",
       "      <td>198.75</td>\n",
       "      <td>199.00</td>\n",
       "      <td>197.75</td>\n",
       "      <td>193.50</td>\n",
       "      <td>190.50</td>\n",
       "      <td>193.33</td>\n",
       "    </tr>\n",
       "    <tr>\n",
       "      <th>4</th>\n",
       "      <td>2017</td>\n",
       "      <td>1</td>\n",
       "      <td>UNIVERSITY DEPARTMENTS OF ANNA UNIVERSITY, CHE...</td>\n",
       "      <td>CS</td>\n",
       "      <td>Computer Science and Engg.</td>\n",
       "      <td>199.75</td>\n",
       "      <td>199.50</td>\n",
       "      <td>199.50</td>\n",
       "      <td>199.00</td>\n",
       "      <td>197.50</td>\n",
       "      <td>196.25</td>\n",
       "      <td>193.75</td>\n",
       "    </tr>\n",
       "  </tbody>\n",
       "</table>\n",
       "</div>"
      ],
      "text/plain": [
       "   Year  College Code                                       College_Name  \\\n",
       "0  2017             1  UNIVERSITY DEPARTMENTS OF ANNA UNIVERSITY, CHE...   \n",
       "1  2017             1  UNIVERSITY DEPARTMENTS OF ANNA UNIVERSITY, CHE...   \n",
       "2  2017             1  UNIVERSITY DEPARTMENTS OF ANNA UNIVERSITY, CHE...   \n",
       "3  2017             1  UNIVERSITY DEPARTMENTS OF ANNA UNIVERSITY, CHE...   \n",
       "4  2017             1  UNIVERSITY DEPARTMENTS OF ANNA UNIVERSITY, CHE...   \n",
       "\n",
       "  Branch Code                            Branch Name      OC      BC     BCM  \\\n",
       "0          AI  Agricultural and Irrigation Engg.(SS)  196.25  195.25  193.25   \n",
       "1          BY                   Bio Medical Engg(SS)  198.25  197.50  197.25   \n",
       "2          CE                      Civil Engineering  198.50  198.00  197.50   \n",
       "3          CM         Computer Science and Engg.(SS)  199.00  198.75  199.00   \n",
       "4          CS             Computer Science and Engg.  199.75  199.50  199.50   \n",
       "\n",
       "      MBC      SC     SCA      ST  \n",
       "0  194.25  188.75  185.75  175.25  \n",
       "1  196.50  193.00  191.75  188.00  \n",
       "2  197.50  196.00  193.50  196.00  \n",
       "3  197.75  193.50  190.50  193.33  \n",
       "4  199.00  197.50  196.25  193.75  "
      ]
     },
     "execution_count": 3,
     "metadata": {},
     "output_type": "execute_result"
    }
   ],
   "source": [
    "df.head()"
   ]
  },
  {
   "cell_type": "code",
   "execution_count": 4,
   "id": "c27e0fe0",
   "metadata": {},
   "outputs": [
    {
     "name": "stdout",
     "output_type": "stream",
     "text": [
      "<class 'pandas.core.frame.DataFrame'>\n",
      "RangeIndex: 240 entries, 0 to 239\n",
      "Data columns (total 12 columns):\n",
      " #   Column        Non-Null Count  Dtype  \n",
      "---  ------        --------------  -----  \n",
      " 0   Year          240 non-null    int64  \n",
      " 1   College Code  240 non-null    int64  \n",
      " 2   College_Name  240 non-null    object \n",
      " 3   Branch Code   240 non-null    object \n",
      " 4   Branch Name   240 non-null    object \n",
      " 5   OC            240 non-null    float64\n",
      " 6   BC            227 non-null    float64\n",
      " 7   BCM           218 non-null    float64\n",
      " 8   MBC           228 non-null    float64\n",
      " 9   SC            228 non-null    float64\n",
      " 10  SCA           203 non-null    float64\n",
      " 11  ST            118 non-null    float64\n",
      "dtypes: float64(7), int64(2), object(3)\n",
      "memory usage: 22.6+ KB\n"
     ]
    }
   ],
   "source": [
    "df.info()"
   ]
  },
  {
   "cell_type": "code",
   "execution_count": 5,
   "id": "3ca76d31",
   "metadata": {},
   "outputs": [
    {
     "data": {
      "text/plain": [
       "<AxesSubplot:ylabel='Frequency'>"
      ]
     },
     "execution_count": 5,
     "metadata": {},
     "output_type": "execute_result"
    },
    {
     "data": {
      "image/png": "[encoded data removed]",
      "text/plain": [
       "<Figure size 640x480 with 1 Axes>"
      ]
     },
     "metadata": {},
     "output_type": "display_data"
    }
   ],
   "source": [
    "df.OC.plot.hist()"
   ]
  },
  {
   "cell_type": "code",
   "execution_count": 6,
   "id": "a482bccf",
   "metadata": {},
   "outputs": [
    {
     "data": {
      "text/plain": [
       "<AxesSubplot:ylabel='OC'>"
      ]
     },
     "execution_count": 6,
     "metadata": {},
     "output_type": "execute_result"
    },
    {
     "data": {
      "image/png": "[encoded data removed]",
      "text/plain": [
       "<Figure size 640x480 with 1 Axes>"
      ]
     },
     "metadata": {},
     "output_type": "display_data"
    }
   ],
   "source": [
    "df.groupby(['Year']).sum().plot(\n",
    "    kind='pie', y='OC', autopct='%1.0f%%')"
   ]
  },
  {
   "cell_type": "code",
   "execution_count": 7,
   "id": "0e62da9a",
   "metadata": {},
   "outputs": [
    {
     "data": {
      "text/plain": [
       "UNIVERSITY DEPARTMENTS OF ANNA UNIVERSITY, CHENNAI - CEG CAMPUS,SARDAR PATEL ROAD, GUINDY,CHENNAI DIST, PIN - 600025.             36\n",
       "University Departments of Anna University, Chennai - CEG Campus, Sardar Patel Road, Guindy, Chennai 600 025                       34\n",
       "UNIVERSITY DEPARTMENTS OF ANNA UNIVERSITY, CHENNAI - MIT CAMPUS,CHROMPET,,KANCHEEPURAM DIST, PIN - 600044.                        26\n",
       "UNIVERSITY DEPARTMENTS OF ANNA UNIVERSITY, CHENNAI - ACT CAMPUS,SARDAR PATEL ROAD, GUINDY,CHENNAI DIST, PIN - 600025.             22\n",
       "University Departments of Anna University, Chennai - ACT Campus, Sardar Patel Road, Guindy, Chennai 600 025                       22\n",
       "University Departments of Anna University, Chennai - MIT Campus, Chrompet, Tambaram Taluk, Kancheepuram District 600 044          12\n",
       "Annamalai University Faculty of Engineering and Technology,Annamalai nagar,Cuddalore 608002                                       12\n",
       "University Departments of Anna University, Chennai - MIT Campus, Chrompet, Tambaram Taluk, Chengalpattu District 600 044          12\n",
       "Annamalai University Faculty of Engineering and Technology,Annamalai nagar,Cuddalore                                              12\n",
       "UNIVERSITY COLLEGE OF ENGINEERING, VILLUPURAM,VILLUPURAM (POST) , KAKUPPAM (VILLAGE),VILLUPURAM DIST, PIN - 605103.               10\n",
       "UNIVERSITY COLLEGE OF ENGINEERING, TINDIVANAM,IYYANTHOPE (POST) , MELPAKKAM (VILLAGE),VILLUPURAM DIST, PIN - 604001.              10\n",
       "UNIVERSITY COLLEGE OF ENGINEERING, ARNI,ARNI TO DEVIKAPURAM ROAD, THATCHUR, ARNI,THIRUVANNAMALAI DIST, PIN - 632326.              10\n",
       "University College of Engineering, Villupuram, Kakuppam, Villupuram District 605103                                               10\n",
       "UNIVERSITY COLLEGE OF ENGINEERING, KANCHIPURAM,NH-4, CHENNAI BANGALORE HIGHWAY, PONNERIKKARAI,KANCHEEPURAM DIST, PIN - 631552.     6\n",
       "University College of Engineering, Tindivanam, Melpakkam, Tindivanam, Villupuram District 604001                                   6\n",
       "Name: College_Name, dtype: int64"
      ]
     },
     "execution_count": 7,
     "metadata": {},
     "output_type": "execute_result"
    }
   ],
   "source": [
    "df.College_Name.value_counts()"
   ]
  },
  {
   "cell_type": "code",
   "execution_count": 10,
   "id": "a02a23b8",
   "metadata": {},
   "outputs": [],
   "source": [
    "import pandas as pd\n",
    "import numpy as np\n",
    "from sklearn.preprocessing import LabelEncoder\n",
    "import random\n",
    "from sklearn.ensemble import RandomForestClassifier\n",
    "from sklearn.ensemble import GradientBoostingClassifier"
   ]
  },
  {
   "cell_type": "code",
   "execution_count": null,
   "id": "2dd6cab4",
   "metadata": {},
   "outputs": [],
   "source": []
  }
 ],
 "metadata": {
  "kernelspec": {
   "display_name": "Python 3",
   "language": "python",
   "name": "python3"
  },
  "language_info": {
   "codemirror_mode": {
    "name": "ipython",
    "version": 3
   },
   "file_extension": ".py",
   "mimetype": "text/x-python",
   "name": "python",
   "nbconvert_exporter": "python",
   "pygments_lexer": "ipython3",
   "version": "3.10.6"
  }
 },
 "nbformat": 4,
 "nbformat_minor": 5
}
