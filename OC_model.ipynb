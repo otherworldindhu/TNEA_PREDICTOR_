{
 "cells": [
  {
   "cell_type": "code",
   "execution_count": 2,
   "metadata": {},
   "outputs": [],
   "source": [
    "import pandas as pd\n",
    "import numpy as np"
   ]
  },
  {
   "cell_type": "code",
   "execution_count": 3,
   "metadata": {},
   "outputs": [],
   "source": [
    "df = pd.read_csv(\"data\\OC - Sheet1.csv\")"
   ]
  },
  {
   "cell_type": "code",
   "execution_count": 4,
   "metadata": {},
   "outputs": [
    {
     "data": {
      "text/html": [
       "<div>\n",
       "<style scoped>\n",
       "    .dataframe tbody tr th:only-of-type {\n",
       "        vertical-align: middle;\n",
       "    }\n",
       "\n",
       "    .dataframe tbody tr th {\n",
       "        vertical-align: top;\n",
       "    }\n",
       "\n",
       "    .dataframe thead th {\n",
       "        text-align: right;\n",
       "    }\n",
       "</style>\n",
       "<table border=\"1\" class=\"dataframe\">\n",
       "  <thead>\n",
       "    <tr style=\"text-align: right;\">\n",
       "      <th></th>\n",
       "      <th>College_Code</th>\n",
       "      <th>Branch_Code</th>\n",
       "      <th>OC</th>\n",
       "    </tr>\n",
       "  </thead>\n",
       "  <tbody>\n",
       "    <tr>\n",
       "      <th>0</th>\n",
       "      <td>1</td>\n",
       "      <td>AI</td>\n",
       "      <td>196.25</td>\n",
       "    </tr>\n",
       "    <tr>\n",
       "      <th>1</th>\n",
       "      <td>1</td>\n",
       "      <td>BY</td>\n",
       "      <td>198.25</td>\n",
       "    </tr>\n",
       "    <tr>\n",
       "      <th>2</th>\n",
       "      <td>1</td>\n",
       "      <td>CE</td>\n",
       "      <td>198.50</td>\n",
       "    </tr>\n",
       "    <tr>\n",
       "      <th>3</th>\n",
       "      <td>1</td>\n",
       "      <td>CM</td>\n",
       "      <td>199.00</td>\n",
       "    </tr>\n",
       "    <tr>\n",
       "      <th>4</th>\n",
       "      <td>1</td>\n",
       "      <td>CS</td>\n",
       "      <td>199.75</td>\n",
       "    </tr>\n",
       "  </tbody>\n",
       "</table>\n",
       "</div>"
      ],
      "text/plain": [
       "   College_Code Branch_Code      OC\n",
       "0             1          AI  196.25\n",
       "1             1          BY  198.25\n",
       "2             1          CE  198.50\n",
       "3             1          CM  199.00\n",
       "4             1          CS  199.75"
      ]
     },
     "execution_count": 4,
     "metadata": {},
     "output_type": "execute_result"
    }
   ],
   "source": [
    "df.head()"
   ]
  },
  {
   "cell_type": "code",
   "execution_count": 5,
   "metadata": {},
   "outputs": [
    {
     "data": {
      "text/plain": [
       "1       70\n",
       "4       50\n",
       "2       44\n",
       "5       24\n",
       "1013    20\n",
       "1014    16\n",
       "1015    10\n",
       "1026     6\n",
       "Name: College_Code, dtype: int64"
      ]
     },
     "execution_count": 5,
     "metadata": {},
     "output_type": "execute_result"
    }
   ],
   "source": [
    "df['College_Code'].value_counts()"
   ]
  },
  {
   "cell_type": "code",
   "execution_count": 6,
   "metadata": {},
   "outputs": [
    {
     "data": {
      "text/plain": [
       "CS    22\n",
       "EC    22\n",
       "ME    12\n",
       "CE    10\n",
       "EE    10\n",
       "XM    10\n",
       "IT     8\n",
       "CM     8\n",
       "EM     8\n",
       "IM     8\n",
       "EI     6\n",
       "XC     6\n",
       "CH     6\n",
       "MI     4\n",
       "MN     4\n",
       "RP     4\n",
       "PR     4\n",
       "MF     4\n",
       "GI     4\n",
       "AU     4\n",
       "AS     4\n",
       "AE     4\n",
       "TX     4\n",
       "PP     4\n",
       "PM     4\n",
       "LE     4\n",
       "IS     4\n",
       "IB     4\n",
       "FS     4\n",
       "BY     4\n",
       "CL     4\n",
       "AP     4\n",
       "IE     4\n",
       "MA     4\n",
       "PT     4\n",
       "CR     4\n",
       "BD     2\n",
       "CZ     2\n",
       "AI     2\n",
       "AM     2\n",
       "EX     2\n",
       "MM     2\n",
       "Name: Branch_Code, dtype: int64"
      ]
     },
     "execution_count": 6,
     "metadata": {},
     "output_type": "execute_result"
    }
   ],
   "source": [
    "df['Branch_Code'].value_counts()"
   ]
  },
  {
   "cell_type": "markdown",
   "metadata": {},
   "source": [
    "from sklearn.linear_model import LogisticRegression\n",
    "from sklearn.feature_extraction.text import CountVectorizer\n",
    "from sklearn.model_selection import train_test_split\n",
    "from sklearn.metrics import accuracy_score\n",
    "from sklearn.multioutput import MultiOutputClassifier "
   ]
  },
  {
   "cell_type": "markdown",
   "metadata": {},
   "source": [
    "Xfeatures = df['OC']    #Features represent all the columns used by the model as inputs during training.\n",
    "ylabels = df[['College_Code','Branch_Code']]  #Labels represent the output or target columns, which the model wants to predict."
   ]
  },
  {
   "cell_type": "markdown",
   "metadata": {},
   "source": [
    "x_train,x_test,y_train,y_test = train_test_split(Xfeatures,ylabels,test_size=0.3,random_state=7)"
   ]
  },
  {
   "cell_type": "markdown",
   "metadata": {},
   "source": [
    "from sklearn.pipeline import Pipeline"
   ]
  },
  {
   "cell_type": "markdown",
   "metadata": {},
   "source": [
    "pipe_lr = Pipeline(steps=[('cv',CountVectorizer()),\n",
    "                          ('lr_multi',MultiOutputClassifier(LogisticRegression()))])"
   ]
  },
  {
   "cell_type": "markdown",
   "metadata": {},
   "source": [
    "pipe_lr.fit(x_train,y_train)"
   ]
  },
  {
   "cell_type": "markdown",
   "metadata": {},
   "source": [
    "from sklearn.datasets import make_classification\n",
    "from sklearn.multioutput import MultiOutputClassifier\n",
    "from sklearn.ensemble import RandomForestClassifier\n",
    "from sklearn.utils import shuffle\n",
    "import numpy as np\n",
    "X, y1 = make_classification(n_samples=10, n_features=100,\n",
    "                             n_informative=30, n_classes=3,\n",
    "                            random_state=1)\n",
    "y2 = shuffle(y1, random_state=1)\n",
    "y3 = shuffle(y1, random_state=2)\n",
    "Y = np.vstack((y1, y2, y3)).T\n",
    "n_samples, n_features = X.shape # 10,100\n",
    "n_outputs = Y.shape[1] # 3\n",
    "n_classes = 3\n",
    "forest = RandomForestClassifier(random_state=1)\n",
    "multi_target_forest = MultiOutputClassifier(forest, n_jobs=2)\n",
    "multi_target_forest.fit(X, Y).predict(X)\n"
   ]
  },
  {
   "cell_type": "code",
   "execution_count": 31,
   "metadata": {},
   "outputs": [
    {
     "ename": "ValueError",
     "evalue": "y must have at least two dimensions for multi-output regression but has only one.",
     "output_type": "error",
     "traceback": [
      "\u001b[1;31m---------------------------------------------------------------------------\u001b[0m",
      "\u001b[1;31mValueError\u001b[0m                                Traceback (most recent call last)",
      "\u001b[1;32md:\\Github desktopunga\\TNEA_PREDICTOR_\\OC_model.ipynb Cell 13\u001b[0m in \u001b[0;36m6\n\u001b[0;32m      <a href='vscode-notebook-cell:/d%3A/Github%20desktopunga/TNEA_PREDICTOR_/OC_model.ipynb#X25sZmlsZQ%3D%3D?line=3'>4</a>\u001b[0m \u001b[39mfrom\u001b[39;00m \u001b[39msklearn\u001b[39;00m\u001b[39m.\u001b[39;00m\u001b[39mlinear_model\u001b[39;00m \u001b[39mimport\u001b[39;00m LogisticRegression\n\u001b[0;32m      <a href='vscode-notebook-cell:/d%3A/Github%20desktopunga/TNEA_PREDICTOR_/OC_model.ipynb#X25sZmlsZQ%3D%3D?line=4'>5</a>\u001b[0m X, y \u001b[39m=\u001b[39m make_multilabel_classification(n_classes\u001b[39m=\u001b[39m\u001b[39m2\u001b[39m, random_state\u001b[39m=\u001b[39m\u001b[39m0\u001b[39m)\n\u001b[1;32m----> <a href='vscode-notebook-cell:/d%3A/Github%20desktopunga/TNEA_PREDICTOR_/OC_model.ipynb#X25sZmlsZQ%3D%3D?line=5'>6</a>\u001b[0m clf \u001b[39m=\u001b[39m MultiOutputClassifier(LogisticRegression())\u001b[39m.\u001b[39;49mfit(df\u001b[39m.\u001b[39;49mCollege_Code,df\u001b[39m.\u001b[39;49mBranch_Code)\n\u001b[0;32m      <a href='vscode-notebook-cell:/d%3A/Github%20desktopunga/TNEA_PREDICTOR_/OC_model.ipynb#X25sZmlsZQ%3D%3D?line=6'>7</a>\u001b[0m clf\u001b[39m.\u001b[39mpredict(X)\n",
      "File \u001b[1;32mc:\\Users\\indhu\\OneDrive\\Desktop\\tnea-proj\\env\\lib\\site-packages\\sklearn\\multioutput.py:435\u001b[0m, in \u001b[0;36mMultiOutputClassifier.fit\u001b[1;34m(self, X, Y, sample_weight, **fit_params)\u001b[0m\n\u001b[0;32m    409\u001b[0m \u001b[39mdef\u001b[39;00m \u001b[39mfit\u001b[39m(\u001b[39mself\u001b[39m, X, Y, sample_weight\u001b[39m=\u001b[39m\u001b[39mNone\u001b[39;00m, \u001b[39m*\u001b[39m\u001b[39m*\u001b[39mfit_params):\n\u001b[0;32m    410\u001b[0m     \u001b[39m\"\"\"Fit the model to data matrix X and targets Y.\u001b[39;00m\n\u001b[0;32m    411\u001b[0m \n\u001b[0;32m    412\u001b[0m \u001b[39m    Parameters\u001b[39;00m\n\u001b[1;32m   (...)\u001b[0m\n\u001b[0;32m    433\u001b[0m \u001b[39m        Returns a fitted instance.\u001b[39;00m\n\u001b[0;32m    434\u001b[0m \u001b[39m    \"\"\"\u001b[39;00m\n\u001b[1;32m--> 435\u001b[0m     \u001b[39msuper\u001b[39m()\u001b[39m.\u001b[39mfit(X, Y, sample_weight, \u001b[39m*\u001b[39m\u001b[39m*\u001b[39mfit_params)\n\u001b[0;32m    436\u001b[0m     \u001b[39mself\u001b[39m\u001b[39m.\u001b[39mclasses_ \u001b[39m=\u001b[39m [estimator\u001b[39m.\u001b[39mclasses_ \u001b[39mfor\u001b[39;00m estimator \u001b[39min\u001b[39;00m \u001b[39mself\u001b[39m\u001b[39m.\u001b[39mestimators_]\n\u001b[0;32m    437\u001b[0m     \u001b[39mreturn\u001b[39;00m \u001b[39mself\u001b[39m\n",
      "File \u001b[1;32mc:\\Users\\indhu\\OneDrive\\Desktop\\tnea-proj\\env\\lib\\site-packages\\sklearn\\multioutput.py:190\u001b[0m, in \u001b[0;36m_MultiOutputEstimator.fit\u001b[1;34m(self, X, y, sample_weight, **fit_params)\u001b[0m\n\u001b[0;32m    187\u001b[0m     check_classification_targets(y)\n\u001b[0;32m    189\u001b[0m \u001b[39mif\u001b[39;00m y\u001b[39m.\u001b[39mndim \u001b[39m==\u001b[39m \u001b[39m1\u001b[39m:\n\u001b[1;32m--> 190\u001b[0m     \u001b[39mraise\u001b[39;00m \u001b[39mValueError\u001b[39;00m(\n\u001b[0;32m    191\u001b[0m         \u001b[39m\"\u001b[39m\u001b[39my must have at least two dimensions for \u001b[39m\u001b[39m\"\u001b[39m\n\u001b[0;32m    192\u001b[0m         \u001b[39m\"\u001b[39m\u001b[39mmulti-output regression but has only one.\u001b[39m\u001b[39m\"\u001b[39m\n\u001b[0;32m    193\u001b[0m     )\n\u001b[0;32m    195\u001b[0m \u001b[39mif\u001b[39;00m sample_weight \u001b[39mis\u001b[39;00m \u001b[39mnot\u001b[39;00m \u001b[39mNone\u001b[39;00m \u001b[39mand\u001b[39;00m \u001b[39mnot\u001b[39;00m has_fit_parameter(\n\u001b[0;32m    196\u001b[0m     \u001b[39mself\u001b[39m\u001b[39m.\u001b[39mestimator, \u001b[39m\"\u001b[39m\u001b[39msample_weight\u001b[39m\u001b[39m\"\u001b[39m\n\u001b[0;32m    197\u001b[0m ):\n\u001b[0;32m    198\u001b[0m     \u001b[39mraise\u001b[39;00m \u001b[39mValueError\u001b[39;00m(\u001b[39m\"\u001b[39m\u001b[39mUnderlying estimator does not support sample weights.\u001b[39m\u001b[39m\"\u001b[39m)\n",
      "\u001b[1;31mValueError\u001b[0m: y must have at least two dimensions for multi-output regression but has only one."
     ]
    }
   ],
   "source": [
    "import numpy as np\n",
    "from sklearn.datasets import make_multilabel_classification\n",
    "from sklearn.multioutput import MultiOutputClassifier\n",
    "from sklearn.linear_model import LogisticRegression\n",
    "X, y = make_multilabel_classification(n_classes=2, random_state=0)\n",
    "clf = MultiOutputClassifier(LogisticRegression()).fit(df.College_Code,df.Branch_Code)\n",
    "clf.predict(X)"
   ]
  },
  {
   "cell_type": "code",
   "execution_count": 7,
   "metadata": {},
   "outputs": [
    {
     "data": {
      "text/html": [
       "<div>\n",
       "<style scoped>\n",
       "    .dataframe tbody tr th:only-of-type {\n",
       "        vertical-align: middle;\n",
       "    }\n",
       "\n",
       "    .dataframe tbody tr th {\n",
       "        vertical-align: top;\n",
       "    }\n",
       "\n",
       "    .dataframe thead th {\n",
       "        text-align: right;\n",
       "    }\n",
       "</style>\n",
       "<table border=\"1\" class=\"dataframe\">\n",
       "  <thead>\n",
       "    <tr style=\"text-align: right;\">\n",
       "      <th></th>\n",
       "      <th>College_Code</th>\n",
       "      <th>Branch_Code</th>\n",
       "      <th>OC</th>\n",
       "    </tr>\n",
       "  </thead>\n",
       "  <tbody>\n",
       "    <tr>\n",
       "      <th>0</th>\n",
       "      <td>1</td>\n",
       "      <td>AI</td>\n",
       "      <td>196.25</td>\n",
       "    </tr>\n",
       "    <tr>\n",
       "      <th>1</th>\n",
       "      <td>1</td>\n",
       "      <td>BY</td>\n",
       "      <td>198.25</td>\n",
       "    </tr>\n",
       "    <tr>\n",
       "      <th>2</th>\n",
       "      <td>1</td>\n",
       "      <td>CE</td>\n",
       "      <td>198.50</td>\n",
       "    </tr>\n",
       "    <tr>\n",
       "      <th>3</th>\n",
       "      <td>1</td>\n",
       "      <td>CM</td>\n",
       "      <td>199.00</td>\n",
       "    </tr>\n",
       "    <tr>\n",
       "      <th>4</th>\n",
       "      <td>1</td>\n",
       "      <td>CS</td>\n",
       "      <td>199.75</td>\n",
       "    </tr>\n",
       "  </tbody>\n",
       "</table>\n",
       "</div>"
      ],
      "text/plain": [
       "   College_Code Branch_Code      OC\n",
       "0             1          AI  196.25\n",
       "1             1          BY  198.25\n",
       "2             1          CE  198.50\n",
       "3             1          CM  199.00\n",
       "4             1          CS  199.75"
      ]
     },
     "execution_count": 7,
     "metadata": {},
     "output_type": "execute_result"
    }
   ],
   "source": [
    "\n",
    "#import contractions\n",
    "import warnings\n",
    "import re\n",
    "import string\n",
    "#nlp =spacy.load(\"en_core_web_sm\")\n",
    "#nltk.download('punkt')\n",
    "#nltk.download(\"stopwords\")\n",
    "warnings.filterwarnings(\"ignore\")\n",
    "#nltk.download('averaged_perceptron_tagger')\n",
    "import numpy as np\n",
    "import pandas as pd\n",
    "import matplotlib.pyplot as plt\n",
    "from sklearn.model_selection import train_test_split\n",
    "from sklearn.linear_model import LogisticRegressionCV\n",
    "from sklearn.metrics import *\n",
    "from sklearn.multioutput import MultiOutputClassifier\n",
    "from sklearn.pipeline import Pipeline\n",
    "from sklearn.feature_extraction.text import CountVectorizer\n",
    "df = pd.read_csv(r\"data\\OC - Sheet1.csv\") \n",
    "df.head()"
   ]
  },
  {
   "cell_type": "code",
   "execution_count": 10,
   "metadata": {},
   "outputs": [
    {
     "ename": "TypeError",
     "evalue": "MultiOutputClassifier.__init__() missing 1 required positional argument: 'estimator'",
     "output_type": "error",
     "traceback": [
      "\u001b[1;31m---------------------------------------------------------------------------\u001b[0m",
      "\u001b[1;31mTypeError\u001b[0m                                 Traceback (most recent call last)",
      "\u001b[1;32md:\\Github desktopunga\\TNEA_PREDICTOR_\\OC_model.ipynb Cell 15\u001b[0m in \u001b[0;36m1\n\u001b[0;32m      <a href='vscode-notebook-cell:/d%3A/Github%20desktopunga/TNEA_PREDICTOR_/OC_model.ipynb#X20sZmlsZQ%3D%3D?line=7'>8</a>\u001b[0m lr  \u001b[39m=\u001b[39m LogisticRegressionCV(\n\u001b[0;32m      <a href='vscode-notebook-cell:/d%3A/Github%20desktopunga/TNEA_PREDICTOR_/OC_model.ipynb#X20sZmlsZQ%3D%3D?line=8'>9</a>\u001b[0m class_weight\u001b[39m=\u001b[39m\u001b[39m\"\u001b[39m\u001b[39mbalanced\u001b[39m\u001b[39m\"\u001b[39m,    \u001b[39m#accounts for class imbalance\u001b[39;00m\n\u001b[0;32m     <a href='vscode-notebook-cell:/d%3A/Github%20desktopunga/TNEA_PREDICTOR_/OC_model.ipynb#X20sZmlsZQ%3D%3D?line=9'>10</a>\u001b[0m solver \u001b[39m=\u001b[39m\u001b[39m\"\u001b[39m\u001b[39msaga\u001b[39m\u001b[39m\"\u001b[39m,             \u001b[39m#faster convergence\u001b[39;00m\n\u001b[1;32m   (...)\u001b[0m\n\u001b[0;32m     <a href='vscode-notebook-cell:/d%3A/Github%20desktopunga/TNEA_PREDICTOR_/OC_model.ipynb#X20sZmlsZQ%3D%3D?line=12'>13</a>\u001b[0m scoring\u001b[39m=\u001b[39m\u001b[39m'\u001b[39m\u001b[39mf1_weighted\u001b[39m\u001b[39m'\u001b[39m       \u001b[39m#f1 for imbalanced classification\u001b[39;00m\n\u001b[0;32m     <a href='vscode-notebook-cell:/d%3A/Github%20desktopunga/TNEA_PREDICTOR_/OC_model.ipynb#X20sZmlsZQ%3D%3D?line=13'>14</a>\u001b[0m )\n\u001b[0;32m     <a href='vscode-notebook-cell:/d%3A/Github%20desktopunga/TNEA_PREDICTOR_/OC_model.ipynb#X20sZmlsZQ%3D%3D?line=14'>15</a>\u001b[0m X_train,X_test,y_train,y_test \u001b[39m=\u001b[39m  train_test_split(X,y,test_size\u001b[39m=\u001b[39m\u001b[39m.3\u001b[39m,random_state\u001b[39m=\u001b[39m\u001b[39m42\u001b[39m)\n\u001b[1;32m---> <a href='vscode-notebook-cell:/d%3A/Github%20desktopunga/TNEA_PREDICTOR_/OC_model.ipynb#X20sZmlsZQ%3D%3D?line=15'>16</a>\u001b[0m pipe \u001b[39m=\u001b[39m Pipeline([(\u001b[39m\"\u001b[39m\u001b[39mc_v\u001b[39m\u001b[39m\"\u001b[39m,cv),(\u001b[39m\"\u001b[39m\u001b[39m\"\u001b[39m,MultiOutputClassifier())])\n\u001b[0;32m     <a href='vscode-notebook-cell:/d%3A/Github%20desktopunga/TNEA_PREDICTOR_/OC_model.ipynb#X20sZmlsZQ%3D%3D?line=16'>17</a>\u001b[0m pipe\u001b[39m.\u001b[39mfit(X_train,y_train)\n\u001b[0;32m     <a href='vscode-notebook-cell:/d%3A/Github%20desktopunga/TNEA_PREDICTOR_/OC_model.ipynb#X20sZmlsZQ%3D%3D?line=17'>18</a>\u001b[0m predictions \u001b[39m=\u001b[39m pipe\u001b[39m.\u001b[39mpredict(X_test)\n",
      "\u001b[1;31mTypeError\u001b[0m: MultiOutputClassifier.__init__() missing 1 required positional argument: 'estimator'"
     ]
    }
   ],
   "source": [
    "#df.reset_index(drop=True)\n",
    "#stopwords_list = nltk.corpus.stopwords.words('english')\n",
    "#stopwords_list.extend([\"please\",\"apply\",\"resume\",\"following\",\n",
    "#\"client\",\"medical\",\"work\",\"opportunity\"])\n",
    "cv = CountVectorizer(max_df =.98,min_df =5,max_features=9000,ngram_range=(1,3))\n",
    "X = df[\"OC\"]\n",
    "y= df[[\"College_Code\",\"Branch_Code\"]]\n",
    "lr  = LogisticRegressionCV(\n",
    "class_weight=\"balanced\",    #accounts for class imbalance\n",
    "solver =\"saga\",             #faster convergence\n",
    "multi_class =\"multinomial\", #accounts for multiclass\n",
    "cv=5, #accounts for picking the best score out of all the splits\n",
    "scoring='f1_weighted'       #f1 for imbalanced classification\n",
    ")\n",
    "X_train,X_test,y_train,y_test =  train_test_split(X,y,test_size=.3,random_state=42)\n",
    "pipe = Pipeline([(\"c_v\",cv),(\"\",MultiOutputClassifier())])\n",
    "pipe.fit(X_train,y_train)\n",
    "predictions = pipe.predict(X_test)"
   ]
  },
  {
   "cell_type": "code",
   "execution_count": 19,
   "metadata": {},
   "outputs": [
    {
     "ename": "TypeError",
     "evalue": "unhashable type: 'Series'",
     "output_type": "error",
     "traceback": [
      "\u001b[1;31m---------------------------------------------------------------------------\u001b[0m",
      "\u001b[1;31mTypeError\u001b[0m                                 Traceback (most recent call last)",
      "\u001b[1;32md:\\Github desktopunga\\TNEA_PREDICTOR_\\OC_model.ipynb Cell 16\u001b[0m in \u001b[0;36m1\n\u001b[0;32m     <a href='vscode-notebook-cell:/d%3A/Github%20desktopunga/TNEA_PREDICTOR_/OC_model.ipynb#X21sZmlsZQ%3D%3D?line=10'>11</a>\u001b[0m \u001b[39m# X is defined as features\u001b[39;00m\n\u001b[0;32m     <a href='vscode-notebook-cell:/d%3A/Github%20desktopunga/TNEA_PREDICTOR_/OC_model.ipynb#X21sZmlsZQ%3D%3D?line=11'>12</a>\u001b[0m \u001b[39m#y is defined as labels\u001b[39;00m\n\u001b[0;32m     <a href='vscode-notebook-cell:/d%3A/Github%20desktopunga/TNEA_PREDICTOR_/OC_model.ipynb#X21sZmlsZQ%3D%3D?line=12'>13</a>\u001b[0m X \u001b[39m=\u001b[39m df\u001b[39m.\u001b[39mOC\n\u001b[1;32m---> <a href='vscode-notebook-cell:/d%3A/Github%20desktopunga/TNEA_PREDICTOR_/OC_model.ipynb#X21sZmlsZQ%3D%3D?line=13'>14</a>\u001b[0m y \u001b[39m=\u001b[39m {df\u001b[39m.\u001b[39mCollege_Code,df\u001b[39m.\u001b[39mBranch_Code}\n\u001b[0;32m     <a href='vscode-notebook-cell:/d%3A/Github%20desktopunga/TNEA_PREDICTOR_/OC_model.ipynb#X21sZmlsZQ%3D%3D?line=15'>16</a>\u001b[0m \u001b[39m# spliting X, y data into train data and test data\u001b[39;00m\n\u001b[0;32m     <a href='vscode-notebook-cell:/d%3A/Github%20desktopunga/TNEA_PREDICTOR_/OC_model.ipynb#X21sZmlsZQ%3D%3D?line=16'>17</a>\u001b[0m x_train, X_test, y_train, y_test \u001b[39m=\u001b[39m train_test_split(X, y, random_state \u001b[39m=\u001b[39m \u001b[39m0\u001b[39m)\n",
      "\u001b[1;31mTypeError\u001b[0m: unhashable type: 'Series'"
     ]
    }
   ],
   "source": [
    "# importing required libraries such as sklearn for preparation of our model\n",
    "from sklearn import datasets\n",
    "import pandas as pd\n",
    "from sklearn.metrics import confusion_matrix\n",
    "from sklearn.model_selection import train_test_split\n",
    "from sklearn.neighbors import KNeighborsClassifier\n",
    "\n",
    "# we require iris dataset for our model and we are loading the dataset\n",
    "df = pd.read_csv(\"data\\OC - Sheet1.csv\")\n",
    "\n",
    "# X is defined as features\n",
    "#y is defined as labels\n",
    "X = df.OC\n",
    "y = {df.College_Code,df.Branch_Code}\n",
    "\n",
    "# spliting X, y data into train data and test data\n",
    "x_train, X_test, y_train, y_test = train_test_split(X, y, random_state = 0)\n",
    "\n",
    "# training a KNN classifier by importing KNeighborsClassifier \n",
    "knn = KNeighborsClassifier(n_neighbors = 7).fit(x_train, y_train)\n",
    "\n",
    "# accuracy on X_test data\n",
    "final_accuracy = knn.score(X_test, y_test)\n",
    "print(\"final_accuracy is : \",final_accuracy)\n",
    "\n",
    "# creating a confusion matrix for determining and visualizing the accuracy score\n",
    "knn_predict = knn.predict(X_test)\n",
    "confusion_matrix = confusion_matrix(y_test, knn_predict)\n",
    "print(\"confusion matrix is : \\n\",confusion_matrix)"
   ]
  },
  {
   "cell_type": "code",
   "execution_count": 24,
   "metadata": {},
   "outputs": [
    {
     "ename": "InvalidIndexError",
     "evalue": "(slice(None, None, None), slice(None, 2, None))",
     "output_type": "error",
     "traceback": [
      "\u001b[1;31m---------------------------------------------------------------------------\u001b[0m",
      "\u001b[1;31mTypeError\u001b[0m                                 Traceback (most recent call last)",
      "File \u001b[1;32mc:\\Users\\indhu\\OneDrive\\Desktop\\tnea-proj\\env\\lib\\site-packages\\pandas\\core\\indexes\\base.py:3629\u001b[0m, in \u001b[0;36mIndex.get_loc\u001b[1;34m(self, key, method, tolerance)\u001b[0m\n\u001b[0;32m   3628\u001b[0m \u001b[39mtry\u001b[39;00m:\n\u001b[1;32m-> 3629\u001b[0m     \u001b[39mreturn\u001b[39;00m \u001b[39mself\u001b[39;49m\u001b[39m.\u001b[39;49m_engine\u001b[39m.\u001b[39;49mget_loc(casted_key)\n\u001b[0;32m   3630\u001b[0m \u001b[39mexcept\u001b[39;00m \u001b[39mKeyError\u001b[39;00m \u001b[39mas\u001b[39;00m err:\n",
      "File \u001b[1;32mc:\\Users\\indhu\\OneDrive\\Desktop\\tnea-proj\\env\\lib\\site-packages\\pandas\\_libs\\index.pyx:136\u001b[0m, in \u001b[0;36mpandas._libs.index.IndexEngine.get_loc\u001b[1;34m()\u001b[0m\n",
      "File \u001b[1;32mc:\\Users\\indhu\\OneDrive\\Desktop\\tnea-proj\\env\\lib\\site-packages\\pandas\\_libs\\index.pyx:142\u001b[0m, in \u001b[0;36mpandas._libs.index.IndexEngine.get_loc\u001b[1;34m()\u001b[0m\n",
      "\u001b[1;31mTypeError\u001b[0m: '(slice(None, None, None), slice(None, 2, None))' is an invalid key",
      "\nDuring handling of the above exception, another exception occurred:\n",
      "\u001b[1;31mInvalidIndexError\u001b[0m                         Traceback (most recent call last)",
      "\u001b[1;32md:\\Github desktopunga\\TNEA_PREDICTOR_\\OC_model.ipynb Cell 17\u001b[0m in \u001b[0;36m1\n\u001b[0;32m     <a href='vscode-notebook-cell:/d%3A/Github%20desktopunga/TNEA_PREDICTOR_/OC_model.ipynb#X22sZmlsZQ%3D%3D?line=13'>14</a>\u001b[0m \u001b[39m# These I just made up\u001b[39;00m\n\u001b[0;32m     <a href='vscode-notebook-cell:/d%3A/Github%20desktopunga/TNEA_PREDICTOR_/OC_model.ipynb#X22sZmlsZQ%3D%3D?line=15'>16</a>\u001b[0m test_data_a \u001b[39m=\u001b[39m np\u001b[39m.\u001b[39marray(train_data\u001b[39m.\u001b[39mOC)\n\u001b[1;32m---> <a href='vscode-notebook-cell:/d%3A/Github%20desktopunga/TNEA_PREDICTOR_/OC_model.ipynb#X22sZmlsZQ%3D%3D?line=17'>18</a>\u001b[0m a \u001b[39m=\u001b[39m train_data[:, :\u001b[39m2\u001b[39;49m]\n\u001b[0;32m     <a href='vscode-notebook-cell:/d%3A/Github%20desktopunga/TNEA_PREDICTOR_/OC_model.ipynb#X22sZmlsZQ%3D%3D?line=19'>20</a>\u001b[0m b \u001b[39m=\u001b[39m train_data[:, \u001b[39m2\u001b[39m:]\n\u001b[0;32m     <a href='vscode-notebook-cell:/d%3A/Github%20desktopunga/TNEA_PREDICTOR_/OC_model.ipynb#X22sZmlsZQ%3D%3D?line=21'>22</a>\u001b[0m forest \u001b[39m=\u001b[39m RandomForestClassifier(n_estimators\u001b[39m=\u001b[39m\u001b[39m100\u001b[39m, random_state\u001b[39m=\u001b[39m\u001b[39m1\u001b[39m)\n",
      "File \u001b[1;32mc:\\Users\\indhu\\OneDrive\\Desktop\\tnea-proj\\env\\lib\\site-packages\\pandas\\core\\frame.py:3505\u001b[0m, in \u001b[0;36mDataFrame.__getitem__\u001b[1;34m(self, key)\u001b[0m\n\u001b[0;32m   3503\u001b[0m \u001b[39mif\u001b[39;00m \u001b[39mself\u001b[39m\u001b[39m.\u001b[39mcolumns\u001b[39m.\u001b[39mnlevels \u001b[39m>\u001b[39m \u001b[39m1\u001b[39m:\n\u001b[0;32m   3504\u001b[0m     \u001b[39mreturn\u001b[39;00m \u001b[39mself\u001b[39m\u001b[39m.\u001b[39m_getitem_multilevel(key)\n\u001b[1;32m-> 3505\u001b[0m indexer \u001b[39m=\u001b[39m \u001b[39mself\u001b[39;49m\u001b[39m.\u001b[39;49mcolumns\u001b[39m.\u001b[39;49mget_loc(key)\n\u001b[0;32m   3506\u001b[0m \u001b[39mif\u001b[39;00m is_integer(indexer):\n\u001b[0;32m   3507\u001b[0m     indexer \u001b[39m=\u001b[39m [indexer]\n",
      "File \u001b[1;32mc:\\Users\\indhu\\OneDrive\\Desktop\\tnea-proj\\env\\lib\\site-packages\\pandas\\core\\indexes\\base.py:3636\u001b[0m, in \u001b[0;36mIndex.get_loc\u001b[1;34m(self, key, method, tolerance)\u001b[0m\n\u001b[0;32m   3631\u001b[0m         \u001b[39mraise\u001b[39;00m \u001b[39mKeyError\u001b[39;00m(key) \u001b[39mfrom\u001b[39;00m \u001b[39merr\u001b[39;00m\n\u001b[0;32m   3632\u001b[0m     \u001b[39mexcept\u001b[39;00m \u001b[39mTypeError\u001b[39;00m:\n\u001b[0;32m   3633\u001b[0m         \u001b[39m# If we have a listlike key, _check_indexing_error will raise\u001b[39;00m\n\u001b[0;32m   3634\u001b[0m         \u001b[39m#  InvalidIndexError. Otherwise we fall through and re-raise\u001b[39;00m\n\u001b[0;32m   3635\u001b[0m         \u001b[39m#  the TypeError.\u001b[39;00m\n\u001b[1;32m-> 3636\u001b[0m         \u001b[39mself\u001b[39;49m\u001b[39m.\u001b[39;49m_check_indexing_error(key)\n\u001b[0;32m   3637\u001b[0m         \u001b[39mraise\u001b[39;00m\n\u001b[0;32m   3639\u001b[0m \u001b[39m# GH#42269\u001b[39;00m\n",
      "File \u001b[1;32mc:\\Users\\indhu\\OneDrive\\Desktop\\tnea-proj\\env\\lib\\site-packages\\pandas\\core\\indexes\\base.py:5651\u001b[0m, in \u001b[0;36mIndex._check_indexing_error\u001b[1;34m(self, key)\u001b[0m\n\u001b[0;32m   5647\u001b[0m \u001b[39mdef\u001b[39;00m \u001b[39m_check_indexing_error\u001b[39m(\u001b[39mself\u001b[39m, key):\n\u001b[0;32m   5648\u001b[0m     \u001b[39mif\u001b[39;00m \u001b[39mnot\u001b[39;00m is_scalar(key):\n\u001b[0;32m   5649\u001b[0m         \u001b[39m# if key is not a scalar, directly raise an error (the code below\u001b[39;00m\n\u001b[0;32m   5650\u001b[0m         \u001b[39m# would convert to numpy arrays and raise later any way) - GH29926\u001b[39;00m\n\u001b[1;32m-> 5651\u001b[0m         \u001b[39mraise\u001b[39;00m InvalidIndexError(key)\n",
      "\u001b[1;31mInvalidIndexError\u001b[0m: (slice(None, None, None), slice(None, 2, None))"
     ]
    }
   ],
   "source": [
    "import numpy as np\n",
    "\n",
    "from sklearn.ensemble import RandomForestClassifier\n",
    "\n",
    "from sklearn.multioutput import MultiOutputClassifier\n",
    "\n",
    "# The data from your screenshot\n",
    "\n",
    "#  A      B   C    D    E   F    G\n",
    "\n",
    "train_data = pd.read_csv(\"data\\OC - Sheet1.csv\")\n",
    "train_data_s=np.array(train_data)\n",
    "\n",
    "# These I just made up\n",
    "\n",
    "test_data_a = np.array(train_data.OC)\n",
    "\n",
    "a = train_data[:, :2]\n",
    "\n",
    "b = train_data[:, 2:]\n",
    "\n",
    "forest = RandomForestClassifier(n_estimators=100, random_state=1)\n",
    "\n",
    "classifier = MultiOutputClassifier(forest, n_jobs=-1)\n",
    "\n",
    "classifier.fit(a, b)\n",
    "\n",
    "print (classifier.predict(test_data_a))"
   ]
  }
 ],
 "metadata": {
  "kernelspec": {
   "display_name": "Python 3",
   "language": "python",
   "name": "python3"
  },
  "language_info": {
   "codemirror_mode": {
    "name": "ipython",
    "version": 3
   },
   "file_extension": ".py",
   "mimetype": "text/x-python",
   "name": "python",
   "nbconvert_exporter": "python",
   "pygments_lexer": "ipython3",
   "version": "3.10.6"
  },
  "orig_nbformat": 4
 },
 "nbformat": 4,
 "nbformat_minor": 2
}
