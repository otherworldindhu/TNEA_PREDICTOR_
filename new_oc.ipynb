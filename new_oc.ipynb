{
 "cells": [
  {
   "cell_type": "code",
   "execution_count": 10,
   "metadata": {},
   "outputs": [],
   "source": [
    "import pandas as pd"
   ]
  },
  {
   "cell_type": "code",
   "execution_count": 11,
   "metadata": {},
   "outputs": [],
   "source": [
    "df = pd.read_csv(\"data\\OC - Sheet1.csv\")\n"
   ]
  },
  {
   "cell_type": "code",
   "execution_count": null,
   "metadata": {},
   "outputs": [],
   "source": []
  },
  {
   "cell_type": "code",
   "execution_count": 16,
   "metadata": {},
   "outputs": [
    {
     "data": {
      "text/plain": [
       "1       70\n",
       "4       50\n",
       "2       44\n",
       "5       24\n",
       "1013    20\n",
       "1014    16\n",
       "1015    10\n",
       "1026     6\n",
       "Name: College_Code, dtype: int64"
      ]
     },
     "execution_count": 16,
     "metadata": {},
     "output_type": "execute_result"
    }
   ],
   "source": [
    "df.College_Code.value_counts()"
   ]
  },
  {
   "cell_type": "code",
   "execution_count": 14,
   "metadata": {},
   "outputs": [
    {
     "data": {
      "text/plain": [
       "CS    22\n",
       "EC    22\n",
       "ME    12\n",
       "CE    10\n",
       "EE    10\n",
       "XM    10\n",
       "IT     8\n",
       "CM     8\n",
       "EM     8\n",
       "IM     8\n",
       "EI     6\n",
       "XC     6\n",
       "CH     6\n",
       "MI     4\n",
       "MN     4\n",
       "RP     4\n",
       "PR     4\n",
       "MF     4\n",
       "GI     4\n",
       "AU     4\n",
       "AS     4\n",
       "AE     4\n",
       "TX     4\n",
       "PP     4\n",
       "PM     4\n",
       "LE     4\n",
       "IS     4\n",
       "IB     4\n",
       "FS     4\n",
       "BY     4\n",
       "CL     4\n",
       "AP     4\n",
       "IE     4\n",
       "MA     4\n",
       "PT     4\n",
       "CR     4\n",
       "BD     2\n",
       "CZ     2\n",
       "AI     2\n",
       "AM     2\n",
       "EX     2\n",
       "MM     2\n",
       "Name: Branch_Code, dtype: int64"
      ]
     },
     "execution_count": 14,
     "metadata": {},
     "output_type": "execute_result"
    }
   ],
   "source": [
    "df.Branch_Code.value_counts()"
   ]
  },
  {
   "cell_type": "code",
   "execution_count": 17,
   "metadata": {},
   "outputs": [
    {
     "ename": "ValueError",
     "evalue": "Expected 2D array, got 1D array instead:\narray=[   1    1    1    1    1    1    1    1    1    1    1    1    1    1\n    1    1    1    1    2    2    2    2    2    2    2    2    2    2\n    2    4    4    4    4    4    4    4    4    4    4    4    4    4\n 1013 1013 1013 1013 1013 1014 1014 1014 1014 1014 1015 1015 1015 1015\n 1015 1026 1026 1026    1    1    1    1    1    1    1    1    1    1\n    1    1    1    1    1    1    1    1    2    2    2    2    2    2\n    2    2    2    2    2    4    4    4    4    4    4    4    4    4\n    4    4    4    4 1013 1013 1013 1013 1013 1014 1014 1014 1014 1014\n 1015 1015 1015 1015 1015 1026 1026 1026    1    1    1    1    1    1\n    1    1    1    1    1    1    1    1    1    1    1    2    2    2\n    2    2    2    2    2    2    2    2    4    4    4    4    4    4\n    4    4    4    4    4    4    5    5    5    5    5    5    5    5\n    5    5    5    5 1013 1013 1013 1013 1013 1014 1014 1014    1    1\n    1    1    1    1    1    1    1    1    1    1    1    1    1    1\n    1    2    2    2    2    2    2    2    2    2    2    2    4    4\n    4    4    4    4    4    4    4    4    4    4    5    5    5    5\n    5    5    5    5    5    5    5    5 1013 1013 1013 1013 1013 1014\n 1014 1014].\nReshape your data either using array.reshape(-1, 1) if your data has a single feature or array.reshape(1, -1) if it contains a single sample.",
     "output_type": "error",
     "traceback": [
      "\u001b[1;31m---------------------------------------------------------------------------\u001b[0m",
      "\u001b[1;31mValueError\u001b[0m                                Traceback (most recent call last)",
      "\u001b[1;32md:\\Github desktopunga\\TNEA_PREDICTOR_\\new_oc.ipynb Cell 6\u001b[0m in \u001b[0;36m1\n\u001b[0;32m      <a href='vscode-notebook-cell:/d%3A/Github%20desktopunga/TNEA_PREDICTOR_/new_oc.ipynb#W1sZmlsZQ%3D%3D?line=7'>8</a>\u001b[0m encoder \u001b[39m=\u001b[39m OneHotEncoder(sparse\u001b[39m=\u001b[39m\u001b[39mFalse\u001b[39;00m)\n\u001b[0;32m      <a href='vscode-notebook-cell:/d%3A/Github%20desktopunga/TNEA_PREDICTOR_/new_oc.ipynb#W1sZmlsZQ%3D%3D?line=8'>9</a>\u001b[0m \u001b[39m# transform data\u001b[39;00m\n\u001b[1;32m---> <a href='vscode-notebook-cell:/d%3A/Github%20desktopunga/TNEA_PREDICTOR_/new_oc.ipynb#W1sZmlsZQ%3D%3D?line=9'>10</a>\u001b[0m onehot \u001b[39m=\u001b[39m encoder\u001b[39m.\u001b[39;49mfit_transform(df\u001b[39m.\u001b[39;49mCollege_Code)\n\u001b[0;32m     <a href='vscode-notebook-cell:/d%3A/Github%20desktopunga/TNEA_PREDICTOR_/new_oc.ipynb#W1sZmlsZQ%3D%3D?line=10'>11</a>\u001b[0m \u001b[39mprint\u001b[39m(onehot)\n",
      "File \u001b[1;32mc:\\Users\\indhu\\OneDrive\\Desktop\\tnea-proj\\env\\lib\\site-packages\\sklearn\\preprocessing\\_encoders.py:855\u001b[0m, in \u001b[0;36mOneHotEncoder.fit_transform\u001b[1;34m(self, X, y)\u001b[0m\n\u001b[0;32m    833\u001b[0m \u001b[39m\"\"\"\u001b[39;00m\n\u001b[0;32m    834\u001b[0m \u001b[39mFit OneHotEncoder to X, then transform X.\u001b[39;00m\n\u001b[0;32m    835\u001b[0m \n\u001b[1;32m   (...)\u001b[0m\n\u001b[0;32m    852\u001b[0m \u001b[39m    returned.\u001b[39;00m\n\u001b[0;32m    853\u001b[0m \u001b[39m\"\"\"\u001b[39;00m\n\u001b[0;32m    854\u001b[0m \u001b[39mself\u001b[39m\u001b[39m.\u001b[39m_validate_keywords()\n\u001b[1;32m--> 855\u001b[0m \u001b[39mreturn\u001b[39;00m \u001b[39msuper\u001b[39;49m()\u001b[39m.\u001b[39;49mfit_transform(X, y)\n",
      "File \u001b[1;32mc:\\Users\\indhu\\OneDrive\\Desktop\\tnea-proj\\env\\lib\\site-packages\\sklearn\\base.py:867\u001b[0m, in \u001b[0;36mTransformerMixin.fit_transform\u001b[1;34m(self, X, y, **fit_params)\u001b[0m\n\u001b[0;32m    863\u001b[0m \u001b[39m# non-optimized default implementation; override when a better\u001b[39;00m\n\u001b[0;32m    864\u001b[0m \u001b[39m# method is possible for a given clustering algorithm\u001b[39;00m\n\u001b[0;32m    865\u001b[0m \u001b[39mif\u001b[39;00m y \u001b[39mis\u001b[39;00m \u001b[39mNone\u001b[39;00m:\n\u001b[0;32m    866\u001b[0m     \u001b[39m# fit method of arity 1 (unsupervised transformation)\u001b[39;00m\n\u001b[1;32m--> 867\u001b[0m     \u001b[39mreturn\u001b[39;00m \u001b[39mself\u001b[39m\u001b[39m.\u001b[39mfit(X, \u001b[39m*\u001b[39m\u001b[39m*\u001b[39mfit_params)\u001b[39m.\u001b[39mtransform(X)\n\u001b[0;32m    868\u001b[0m \u001b[39melse\u001b[39;00m:\n\u001b[0;32m    869\u001b[0m     \u001b[39m# fit method of arity 2 (supervised transformation)\u001b[39;00m\n\u001b[0;32m    870\u001b[0m     \u001b[39mreturn\u001b[39;00m \u001b[39mself\u001b[39m\u001b[39m.\u001b[39mfit(X, y, \u001b[39m*\u001b[39m\u001b[39m*\u001b[39mfit_params)\u001b[39m.\u001b[39mtransform(X)\n",
      "File \u001b[1;32mc:\\Users\\indhu\\OneDrive\\Desktop\\tnea-proj\\env\\lib\\site-packages\\sklearn\\preprocessing\\_encoders.py:818\u001b[0m, in \u001b[0;36mOneHotEncoder.fit\u001b[1;34m(self, X, y)\u001b[0m\n\u001b[0;32m    800\u001b[0m \u001b[39m\"\"\"\u001b[39;00m\n\u001b[0;32m    801\u001b[0m \u001b[39mFit OneHotEncoder to X.\u001b[39;00m\n\u001b[0;32m    802\u001b[0m \n\u001b[1;32m   (...)\u001b[0m\n\u001b[0;32m    815\u001b[0m \u001b[39m    Fitted encoder.\u001b[39;00m\n\u001b[0;32m    816\u001b[0m \u001b[39m\"\"\"\u001b[39;00m\n\u001b[0;32m    817\u001b[0m \u001b[39mself\u001b[39m\u001b[39m.\u001b[39m_validate_keywords()\n\u001b[1;32m--> 818\u001b[0m fit_results \u001b[39m=\u001b[39m \u001b[39mself\u001b[39;49m\u001b[39m.\u001b[39;49m_fit(\n\u001b[0;32m    819\u001b[0m     X,\n\u001b[0;32m    820\u001b[0m     handle_unknown\u001b[39m=\u001b[39;49m\u001b[39mself\u001b[39;49m\u001b[39m.\u001b[39;49mhandle_unknown,\n\u001b[0;32m    821\u001b[0m     force_all_finite\u001b[39m=\u001b[39;49m\u001b[39m\"\u001b[39;49m\u001b[39mallow-nan\u001b[39;49m\u001b[39m\"\u001b[39;49m,\n\u001b[0;32m    822\u001b[0m     return_counts\u001b[39m=\u001b[39;49m\u001b[39mself\u001b[39;49m\u001b[39m.\u001b[39;49m_infrequent_enabled,\n\u001b[0;32m    823\u001b[0m )\n\u001b[0;32m    824\u001b[0m \u001b[39mif\u001b[39;00m \u001b[39mself\u001b[39m\u001b[39m.\u001b[39m_infrequent_enabled:\n\u001b[0;32m    825\u001b[0m     \u001b[39mself\u001b[39m\u001b[39m.\u001b[39m_fit_infrequent_category_mapping(\n\u001b[0;32m    826\u001b[0m         fit_results[\u001b[39m\"\u001b[39m\u001b[39mn_samples\u001b[39m\u001b[39m\"\u001b[39m], fit_results[\u001b[39m\"\u001b[39m\u001b[39mcategory_counts\u001b[39m\u001b[39m\"\u001b[39m]\n\u001b[0;32m    827\u001b[0m     )\n",
      "File \u001b[1;32mc:\\Users\\indhu\\OneDrive\\Desktop\\tnea-proj\\env\\lib\\site-packages\\sklearn\\preprocessing\\_encoders.py:80\u001b[0m, in \u001b[0;36m_BaseEncoder._fit\u001b[1;34m(self, X, handle_unknown, force_all_finite, return_counts)\u001b[0m\n\u001b[0;32m     78\u001b[0m \u001b[39mself\u001b[39m\u001b[39m.\u001b[39m_check_n_features(X, reset\u001b[39m=\u001b[39m\u001b[39mTrue\u001b[39;00m)\n\u001b[0;32m     79\u001b[0m \u001b[39mself\u001b[39m\u001b[39m.\u001b[39m_check_feature_names(X, reset\u001b[39m=\u001b[39m\u001b[39mTrue\u001b[39;00m)\n\u001b[1;32m---> 80\u001b[0m X_list, n_samples, n_features \u001b[39m=\u001b[39m \u001b[39mself\u001b[39;49m\u001b[39m.\u001b[39;49m_check_X(\n\u001b[0;32m     81\u001b[0m     X, force_all_finite\u001b[39m=\u001b[39;49mforce_all_finite\n\u001b[0;32m     82\u001b[0m )\n\u001b[0;32m     83\u001b[0m \u001b[39mself\u001b[39m\u001b[39m.\u001b[39mn_features_in_ \u001b[39m=\u001b[39m n_features\n\u001b[0;32m     85\u001b[0m \u001b[39mif\u001b[39;00m \u001b[39mself\u001b[39m\u001b[39m.\u001b[39mcategories \u001b[39m!=\u001b[39m \u001b[39m\"\u001b[39m\u001b[39mauto\u001b[39m\u001b[39m\"\u001b[39m:\n",
      "File \u001b[1;32mc:\\Users\\indhu\\OneDrive\\Desktop\\tnea-proj\\env\\lib\\site-packages\\sklearn\\preprocessing\\_encoders.py:45\u001b[0m, in \u001b[0;36m_BaseEncoder._check_X\u001b[1;34m(self, X, force_all_finite)\u001b[0m\n\u001b[0;32m     32\u001b[0m \u001b[39m\"\"\"\u001b[39;00m\n\u001b[0;32m     33\u001b[0m \u001b[39mPerform custom check_array:\u001b[39;00m\n\u001b[0;32m     34\u001b[0m \u001b[39m- convert list of strings to object dtype\u001b[39;00m\n\u001b[1;32m   (...)\u001b[0m\n\u001b[0;32m     41\u001b[0m \n\u001b[0;32m     42\u001b[0m \u001b[39m\"\"\"\u001b[39;00m\n\u001b[0;32m     43\u001b[0m \u001b[39mif\u001b[39;00m \u001b[39mnot\u001b[39;00m (\u001b[39mhasattr\u001b[39m(X, \u001b[39m\"\u001b[39m\u001b[39miloc\u001b[39m\u001b[39m\"\u001b[39m) \u001b[39mand\u001b[39;00m \u001b[39mgetattr\u001b[39m(X, \u001b[39m\"\u001b[39m\u001b[39mndim\u001b[39m\u001b[39m\"\u001b[39m, \u001b[39m0\u001b[39m) \u001b[39m==\u001b[39m \u001b[39m2\u001b[39m):\n\u001b[0;32m     44\u001b[0m     \u001b[39m# if not a dataframe, do normal check_array validation\u001b[39;00m\n\u001b[1;32m---> 45\u001b[0m     X_temp \u001b[39m=\u001b[39m check_array(X, dtype\u001b[39m=\u001b[39;49m\u001b[39mNone\u001b[39;49;00m, force_all_finite\u001b[39m=\u001b[39;49mforce_all_finite)\n\u001b[0;32m     46\u001b[0m     \u001b[39mif\u001b[39;00m \u001b[39mnot\u001b[39;00m \u001b[39mhasattr\u001b[39m(X, \u001b[39m\"\u001b[39m\u001b[39mdtype\u001b[39m\u001b[39m\"\u001b[39m) \u001b[39mand\u001b[39;00m np\u001b[39m.\u001b[39missubdtype(X_temp\u001b[39m.\u001b[39mdtype, np\u001b[39m.\u001b[39mstr_):\n\u001b[0;32m     47\u001b[0m         X \u001b[39m=\u001b[39m check_array(X, dtype\u001b[39m=\u001b[39m\u001b[39mobject\u001b[39m, force_all_finite\u001b[39m=\u001b[39mforce_all_finite)\n",
      "File \u001b[1;32mc:\\Users\\indhu\\OneDrive\\Desktop\\tnea-proj\\env\\lib\\site-packages\\sklearn\\utils\\validation.py:879\u001b[0m, in \u001b[0;36mcheck_array\u001b[1;34m(array, accept_sparse, accept_large_sparse, dtype, order, copy, force_all_finite, ensure_2d, allow_nd, ensure_min_samples, ensure_min_features, estimator, input_name)\u001b[0m\n\u001b[0;32m    877\u001b[0m     \u001b[39m# If input is 1D raise error\u001b[39;00m\n\u001b[0;32m    878\u001b[0m     \u001b[39mif\u001b[39;00m array\u001b[39m.\u001b[39mndim \u001b[39m==\u001b[39m \u001b[39m1\u001b[39m:\n\u001b[1;32m--> 879\u001b[0m         \u001b[39mraise\u001b[39;00m \u001b[39mValueError\u001b[39;00m(\n\u001b[0;32m    880\u001b[0m             \u001b[39m\"\u001b[39m\u001b[39mExpected 2D array, got 1D array instead:\u001b[39m\u001b[39m\\n\u001b[39;00m\u001b[39marray=\u001b[39m\u001b[39m{}\u001b[39;00m\u001b[39m.\u001b[39m\u001b[39m\\n\u001b[39;00m\u001b[39m\"\u001b[39m\n\u001b[0;32m    881\u001b[0m             \u001b[39m\"\u001b[39m\u001b[39mReshape your data either using array.reshape(-1, 1) if \u001b[39m\u001b[39m\"\u001b[39m\n\u001b[0;32m    882\u001b[0m             \u001b[39m\"\u001b[39m\u001b[39myour data has a single feature or array.reshape(1, -1) \u001b[39m\u001b[39m\"\u001b[39m\n\u001b[0;32m    883\u001b[0m             \u001b[39m\"\u001b[39m\u001b[39mif it contains a single sample.\u001b[39m\u001b[39m\"\u001b[39m\u001b[39m.\u001b[39mformat(array)\n\u001b[0;32m    884\u001b[0m         )\n\u001b[0;32m    886\u001b[0m \u001b[39mif\u001b[39;00m dtype_numeric \u001b[39mand\u001b[39;00m array\u001b[39m.\u001b[39mdtype\u001b[39m.\u001b[39mkind \u001b[39min\u001b[39;00m \u001b[39m\"\u001b[39m\u001b[39mUSV\u001b[39m\u001b[39m\"\u001b[39m:\n\u001b[0;32m    887\u001b[0m     \u001b[39mraise\u001b[39;00m \u001b[39mValueError\u001b[39;00m(\n\u001b[0;32m    888\u001b[0m         \u001b[39m\"\u001b[39m\u001b[39mdtype=\u001b[39m\u001b[39m'\u001b[39m\u001b[39mnumeric\u001b[39m\u001b[39m'\u001b[39m\u001b[39m is not compatible with arrays of bytes/strings.\u001b[39m\u001b[39m\"\u001b[39m\n\u001b[0;32m    889\u001b[0m         \u001b[39m\"\u001b[39m\u001b[39mConvert your data to numeric values explicitly instead.\u001b[39m\u001b[39m\"\u001b[39m\n\u001b[0;32m    890\u001b[0m     )\n",
      "\u001b[1;31mValueError\u001b[0m: Expected 2D array, got 1D array instead:\narray=[   1    1    1    1    1    1    1    1    1    1    1    1    1    1\n    1    1    1    1    2    2    2    2    2    2    2    2    2    2\n    2    4    4    4    4    4    4    4    4    4    4    4    4    4\n 1013 1013 1013 1013 1013 1014 1014 1014 1014 1014 1015 1015 1015 1015\n 1015 1026 1026 1026    1    1    1    1    1    1    1    1    1    1\n    1    1    1    1    1    1    1    1    2    2    2    2    2    2\n    2    2    2    2    2    4    4    4    4    4    4    4    4    4\n    4    4    4    4 1013 1013 1013 1013 1013 1014 1014 1014 1014 1014\n 1015 1015 1015 1015 1015 1026 1026 1026    1    1    1    1    1    1\n    1    1    1    1    1    1    1    1    1    1    1    2    2    2\n    2    2    2    2    2    2    2    2    4    4    4    4    4    4\n    4    4    4    4    4    4    5    5    5    5    5    5    5    5\n    5    5    5    5 1013 1013 1013 1013 1013 1014 1014 1014    1    1\n    1    1    1    1    1    1    1    1    1    1    1    1    1    1\n    1    2    2    2    2    2    2    2    2    2    2    2    4    4\n    4    4    4    4    4    4    4    4    4    4    5    5    5    5\n    5    5    5    5    5    5    5    5 1013 1013 1013 1013 1013 1014\n 1014 1014].\nReshape your data either using array.reshape(-1, 1) if your data has a single feature or array.reshape(1, -1) if it contains a single sample."
     ]
    }
   ],
   "source": [
    "from numpy import asarray\n",
    "from sklearn.preprocessing import OneHotEncoder\n",
    "# define data\n",
    "\n",
    "#data = asarray([['red'], ['green'], ['blue']])\n",
    "#print(data)\n",
    "# define one hot encoding\n",
    "encoder = OneHotEncoder(sparse=False)\n",
    "# transform data\n",
    "onehot = encoder.fit_transform(df.College_Code)\n",
    "print(onehot)"
   ]
  }
 ],
 "metadata": {
  "kernelspec": {
   "display_name": "Python 3",
   "language": "python",
   "name": "python3"
  },
  "language_info": {
   "codemirror_mode": {
    "name": "ipython",
    "version": 3
   },
   "file_extension": ".py",
   "mimetype": "text/x-python",
   "name": "python",
   "nbconvert_exporter": "python",
   "pygments_lexer": "ipython3",
   "version": "3.10.6"
  },
  "orig_nbformat": 4
 },
 "nbformat": 4,
 "nbformat_minor": 2
}
