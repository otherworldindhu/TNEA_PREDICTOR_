{
 "cells": [
  {
   "cell_type": "code",
   "execution_count": 1,
   "id": "882f700c",
   "metadata": {},
   "outputs": [],
   "source": [
    "import pandas as pd\n",
    "import numpy as np \n",
    "import matplotlib.pyplot as plt\n",
    "import sklearn"
   ]
  },
  {
   "cell_type": "code",
   "execution_count": null,
   "id": "f27e6bc9",
   "metadata": {},
   "outputs": [],
   "source": []
  },
  {
   "cell_type": "markdown",
   "id": "3d206168",
   "metadata": {},
   "source": [
    "df = pd.read_csv(\"data/1-AI-2017-Sheet1.csv\", low_memory=False)"
   ]
  },
  {
   "cell_type": "markdown",
   "id": "aa77c01d",
   "metadata": {},
   "source": [
    "df.info()"
   ]
  },
  {
   "cell_type": "markdown",
   "id": "8b82fe06",
   "metadata": {},
   "source": [
    "df = pd.read_csv(\"data/2017 - Sheet1.csv\")"
   ]
  },
  {
   "cell_type": "markdown",
   "id": "320a8967",
   "metadata": {},
   "source": [
    "df.info()"
   ]
  },
  {
   "cell_type": "markdown",
   "id": "1d3a0cfb",
   "metadata": {},
   "source": [
    "fig, ax = plt.subplots()\n",
    "ax.scatter(df[\"ST\"][:1000], df[\"College_Name\"][:1000])"
   ]
  },
  {
   "cell_type": "markdown",
   "id": "f9395cbc",
   "metadata": {},
   "source": [
    "fig, ax = plt.subplots()\n",
    "ax.scatter(df[\"OC\"][:1000], df[\"College_Name\"][:1000])"
   ]
  },
  {
   "cell_type": "markdown",
   "id": "e8a4d1d7",
   "metadata": {},
   "source": [
    "fig, ax = plt.subplots()"
   ]
  },
  {
   "cell_type": "code",
   "execution_count": null,
   "id": "c224280f",
   "metadata": {},
   "outputs": [],
   "source": []
  },
  {
   "cell_type": "code",
   "execution_count": null,
   "id": "5312141c",
   "metadata": {},
   "outputs": [],
   "source": []
  },
  {
   "cell_type": "code",
   "execution_count": null,
   "id": "abf5959f",
   "metadata": {},
   "outputs": [],
   "source": []
  },
  {
   "cell_type": "markdown",
   "id": "7f2c20e4",
   "metadata": {},
   "source": [
    "df.columns\n"
   ]
  },
  {
   "cell_type": "markdown",
   "id": "624cc8ba",
   "metadata": {},
   "source": [
    "## OC ACCEPTANCE-2017\n",
    "fig, ax = plt.subplots()\n",
    "ax.scatter(df[\"OC\"][:1000], df[\"College_Name\"][:1000])"
   ]
  },
  {
   "cell_type": "markdown",
   "id": "8e5b2022",
   "metadata": {},
   "source": [
    "## MBC ACCEPTANCE-2017\n",
    "fig, ax = plt.subplots()\n",
    "ax.scatter(df[\"MBC\"][:1000], df[\"College_Name\"][:1000])"
   ]
  },
  {
   "cell_type": "markdown",
   "id": "1814cec7",
   "metadata": {},
   "source": [
    "## ST ACCEPTANCE-2017\n",
    "fig, ax = plt.subplots()\n",
    "ax.scatter(df[\"ST\"][:1000], df[\"College_Name\"][:1000])"
   ]
  },
  {
   "cell_type": "markdown",
   "id": "e288f54a",
   "metadata": {},
   "source": [
    "fig, ax = plt.subplots()\n",
    "ax.scatter(df[\"College_Name\"][:1000], df[\"ST\"][:1000])"
   ]
  },
  {
   "cell_type": "markdown",
   "id": "a6e7b808",
   "metadata": {},
   "source": [
    "fig, ax = plt.subplots()\n",
    "ax.scatter(df[\"College_Name\"][:1000], df[\"OC\"][:1000])"
   ]
  },
  {
   "cell_type": "markdown",
   "id": "ad94b90b",
   "metadata": {},
   "source": [
    "df.College_Name[:100]"
   ]
  },
  {
   "cell_type": "markdown",
   "id": "567f8459",
   "metadata": {},
   "source": [
    "#40 people have got 200ish and got in && people who have got 130-160ish can't even get in\n",
    "df.OC.plot.hist()"
   ]
  },
  {
   "cell_type": "markdown",
   "id": "9a05cf55",
   "metadata": {},
   "source": [
    "#7 scored 195ish and have got in. people have easily got in even though they've scored 130-160ish\n",
    "df.ST.plot.hist()"
   ]
  },
  {
   "cell_type": "markdown",
   "id": "024f767d",
   "metadata": {},
   "source": [
    "df.MBC.plot.hist()"
   ]
  },
  {
   "cell_type": "code",
   "execution_count": 2,
   "id": "0ecac6a2",
   "metadata": {},
   "outputs": [],
   "source": [
    "#importing 2017-2020 data\n",
    "df = pd.read_csv(\"data/2017-2020.csv\",low_memory=False)"
   ]
  },
  {
   "cell_type": "code",
   "execution_count": 3,
   "id": "9974e367",
   "metadata": {},
   "outputs": [
    {
     "name": "stdout",
     "output_type": "stream",
     "text": [
      "<class 'pandas.core.frame.DataFrame'>\n",
      "RangeIndex: 240 entries, 0 to 239\n",
      "Data columns (total 12 columns):\n",
      " #   Column        Non-Null Count  Dtype  \n",
      "---  ------        --------------  -----  \n",
      " 0   Year          240 non-null    int64  \n",
      " 1   College Code  240 non-null    int64  \n",
      " 2   College_Name  240 non-null    object \n",
      " 3   Branch Code   240 non-null    object \n",
      " 4   Branch Name   240 non-null    object \n",
      " 5   OC            240 non-null    float64\n",
      " 6   BC            227 non-null    float64\n",
      " 7   BCM           218 non-null    float64\n",
      " 8   MBC           228 non-null    float64\n",
      " 9   SC            228 non-null    float64\n",
      " 10  SCA           203 non-null    float64\n",
      " 11  ST            118 non-null    float64\n",
      "dtypes: float64(7), int64(2), object(3)\n",
      "memory usage: 22.6+ KB\n"
     ]
    }
   ],
   "source": [
    "df.info()"
   ]
  },
  {
   "cell_type": "code",
   "execution_count": 4,
   "id": "5ab8be06",
   "metadata": {},
   "outputs": [
    {
     "data": {
      "text/plain": [
       "Year              0\n",
       "College Code      0\n",
       "College_Name      0\n",
       "Branch Code       0\n",
       "Branch Name       0\n",
       "OC                0\n",
       "BC               13\n",
       "BCM              22\n",
       "MBC              12\n",
       "SC               12\n",
       "SCA              37\n",
       "ST              122\n",
       "dtype: int64"
      ]
     },
     "execution_count": 4,
     "metadata": {},
     "output_type": "execute_result"
    }
   ],
   "source": [
    "df.isna().sum()"
   ]
  },
  {
   "cell_type": "code",
   "execution_count": 5,
   "id": "19b1e660",
   "metadata": {},
   "outputs": [
    {
     "data": {
      "text/plain": [
       "Index(['Year', 'College Code', 'College_Name', 'Branch Code', 'Branch Name',\n",
       "       'OC', 'BC', 'BCM', 'MBC', 'SC', 'SCA', 'ST'],\n",
       "      dtype='object')"
      ]
     },
     "execution_count": 5,
     "metadata": {},
     "output_type": "execute_result"
    }
   ],
   "source": [
    "df.columns"
   ]
  },
  {
   "cell_type": "code",
   "execution_count": 6,
   "id": "5df1e210",
   "metadata": {},
   "outputs": [
    {
     "data": {
      "text/plain": [
       "<matplotlib.collections.PathCollection at 0x1fd90e26b90>"
      ]
     },
     "execution_count": 6,
     "metadata": {},
     "output_type": "execute_result"
    },
    {
     "data": {
      "image/png": "[encoded data removed]",
      "text/plain": [
       "<Figure size 640x480 with 1 Axes>"
      ]
     },
     "metadata": {},
     "output_type": "display_data"
    }
   ],
   "source": [
    "fig, ax = plt.subplots()\n",
    "ax.scatter(df[\"Year\"][:1000], df[\"OC\"][:1000])"
   ]
  },
  {
   "cell_type": "code",
   "execution_count": 8,
   "id": "63156849",
   "metadata": {},
   "outputs": [
    {
     "data": {
      "text/plain": [
       "0      2017\n",
       "1      2017\n",
       "2      2017\n",
       "3      2017\n",
       "4      2017\n",
       "       ... \n",
       "235    2020\n",
       "236    2020\n",
       "237    2020\n",
       "238    2020\n",
       "239    2020\n",
       "Name: Year, Length: 240, dtype: int64"
      ]
     },
     "execution_count": 8,
     "metadata": {},
     "output_type": "execute_result"
    }
   ],
   "source": [
    "df.Year[:1000]"
   ]
  },
  {
   "cell_type": "code",
   "execution_count": 9,
   "id": "5b858c2a",
   "metadata": {},
   "outputs": [
    {
     "data": {
      "text/plain": [
       "dtype('int64')"
      ]
     },
     "execution_count": 9,
     "metadata": {},
     "output_type": "execute_result"
    }
   ],
   "source": [
    "df.Year.dtype"
   ]
  },
  {
   "cell_type": "code",
   "execution_count": 10,
   "id": "7b7ac7a3",
   "metadata": {},
   "outputs": [
    {
     "data": {
      "text/plain": [
       "<AxesSubplot:ylabel='Frequency'>"
      ]
     },
     "execution_count": 10,
     "metadata": {},
     "output_type": "execute_result"
    },
    {
     "data": {
      "image/png": "[encoded data removed]",
      "text/plain": [
       "<Figure size 640x480 with 1 Axes>"
      ]
     },
     "metadata": {},
     "output_type": "display_data"
    }
   ],
   "source": [
    "df.OC.plot.hist()"
   ]
  },
  {
   "cell_type": "markdown",
   "id": "1343ab41",
   "metadata": {},
   "source": [
    "fig, ax = plt.subplots()\n",
    "ax.scatter(df[\"Year\"][:1000], df[\"ST\"][:1000])"
   ]
  },
  {
   "cell_type": "markdown",
   "id": "43293c89",
   "metadata": {},
   "source": [
    "fig, ax = plt.subplots()\n",
    "ax.scatter(df[\"Year\"][:1000], df[\"MBC\"][:1000])"
   ]
  },
  {
   "cell_type": "markdown",
   "id": "f6bb4700",
   "metadata": {},
   "source": [
    "fig, ax = plt.subplots()\n",
    "ax.scatter(df[\"OC\"][:1000], df[\"Year\"][:1000])"
   ]
  },
  {
   "cell_type": "markdown",
   "id": "d32b3325",
   "metadata": {},
   "source": [
    "#OC population in all of these  branches \n",
    "fig, ax = plt.subplots()\n",
    "ax.scatter(df[\"OC\"][:1000], df[\"Branch Code\"][:1000])"
   ]
  },
  {
   "cell_type": "markdown",
   "id": "1cb6a5a7",
   "metadata": {},
   "source": [
    "#ST population in all of these  branches \n",
    "fig, ax = plt.subplots()\n",
    "ax.scatter(df[\"ST\"][:1000], df[\"Branch Code\"][:1000])"
   ]
  },
  {
   "cell_type": "markdown",
   "id": "d993d006",
   "metadata": {},
   "source": [
    "fig, ax = plt.subplots()\n",
    "ax.scatter(df[\"ST\"][:1000], df[\"College_Name\"][:1000])"
   ]
  },
  {
   "cell_type": "markdown",
   "id": "a7a22edc",
   "metadata": {},
   "source": [
    "fig, ax = plt.subplots()\n",
    "ax.scatter(df[\"OC\"][:1000], df[\"College_Name\"][:1000])"
   ]
  },
  {
   "cell_type": "markdown",
   "id": "edd23ecc",
   "metadata": {},
   "source": [
    "fig, ax = plt.subplots()\n",
    "ax.scatter(df[\"MBCV\"][:1000], df[\"College_Name\"][:1000])"
   ]
  },
  {
   "cell_type": "code",
   "execution_count": 11,
   "id": "58a7156e",
   "metadata": {},
   "outputs": [],
   "source": [
    "df = pd.read_csv(\"data/2017-2020.csv\",\n",
    "                 low_memory=False,\n",
    "                 parse_dates=[\"Year\"])"
   ]
  },
  {
   "cell_type": "code",
   "execution_count": 12,
   "id": "434c9626",
   "metadata": {},
   "outputs": [
    {
     "data": {
      "text/plain": [
       "dtype('<M8[ns]')"
      ]
     },
     "execution_count": 12,
     "metadata": {},
     "output_type": "execute_result"
    }
   ],
   "source": [
    "df.Year.dtype"
   ]
  },
  {
   "cell_type": "code",
   "execution_count": 13,
   "id": "f8d04502",
   "metadata": {},
   "outputs": [
    {
     "data": {
      "text/plain": [
       "0     2017-01-01\n",
       "1     2017-01-01\n",
       "2     2017-01-01\n",
       "3     2017-01-01\n",
       "4     2017-01-01\n",
       "         ...    \n",
       "235   2020-01-01\n",
       "236   2020-01-01\n",
       "237   2020-01-01\n",
       "238   2020-01-01\n",
       "239   2020-01-01\n",
       "Name: Year, Length: 240, dtype: datetime64[ns]"
      ]
     },
     "execution_count": 13,
     "metadata": {},
     "output_type": "execute_result"
    }
   ],
   "source": [
    "df.Year[:1000]"
   ]
  },
  {
   "cell_type": "code",
   "execution_count": 14,
   "id": "0e64ff28",
   "metadata": {},
   "outputs": [
    {
     "data": {
      "text/plain": [
       "<matplotlib.collections.PathCollection at 0x127751d9ab0>"
      ]
     },
     "execution_count": 14,
     "metadata": {},
     "output_type": "execute_result"
    },
    {
     "data": {
      "image/png": "[encoded data removed]",
      "text/plain": [
       "<Figure size 640x480 with 1 Axes>"
      ]
     },
     "metadata": {},
     "output_type": "display_data"
    }
   ],
   "source": [
    "fig, ax = plt.subplots()\n",
    "ax.scatter(df[\"Year\"][:1000], df[\"OC\"][:1000])\n"
   ]
  },
  {
   "cell_type": "code",
   "execution_count": 15,
   "id": "e821ca4f",
   "metadata": {},
   "outputs": [
    {
     "data": {
      "text/html": [
       "<div>\n",
       "<style scoped>\n",
       "    .dataframe tbody tr th:only-of-type {\n",
       "        vertical-align: middle;\n",
       "    }\n",
       "\n",
       "    .dataframe tbody tr th {\n",
       "        vertical-align: top;\n",
       "    }\n",
       "\n",
       "    .dataframe thead th {\n",
       "        text-align: right;\n",
       "    }\n",
       "</style>\n",
       "<table border=\"1\" class=\"dataframe\">\n",
       "  <thead>\n",
       "    <tr style=\"text-align: right;\">\n",
       "      <th></th>\n",
       "      <th>Year</th>\n",
       "      <th>College Code</th>\n",
       "      <th>College_Name</th>\n",
       "      <th>Branch Code</th>\n",
       "      <th>Branch Name</th>\n",
       "      <th>OC</th>\n",
       "      <th>BC</th>\n",
       "      <th>BCM</th>\n",
       "      <th>MBC</th>\n",
       "      <th>SC</th>\n",
       "      <th>SCA</th>\n",
       "      <th>ST</th>\n",
       "    </tr>\n",
       "  </thead>\n",
       "  <tbody>\n",
       "    <tr>\n",
       "      <th>0</th>\n",
       "      <td>2017-01-01</td>\n",
       "      <td>1</td>\n",
       "      <td>UNIVERSITY DEPARTMENTS OF ANNA UNIVERSITY, CHE...</td>\n",
       "      <td>AI</td>\n",
       "      <td>Agricultural and Irrigation Engg.(SS)</td>\n",
       "      <td>196.25</td>\n",
       "      <td>195.25</td>\n",
       "      <td>193.25</td>\n",
       "      <td>194.25</td>\n",
       "      <td>188.75</td>\n",
       "      <td>185.75</td>\n",
       "      <td>175.25</td>\n",
       "    </tr>\n",
       "    <tr>\n",
       "      <th>1</th>\n",
       "      <td>2017-01-01</td>\n",
       "      <td>1</td>\n",
       "      <td>UNIVERSITY DEPARTMENTS OF ANNA UNIVERSITY, CHE...</td>\n",
       "      <td>BY</td>\n",
       "      <td>Bio Medical Engg(SS)</td>\n",
       "      <td>198.25</td>\n",
       "      <td>197.50</td>\n",
       "      <td>197.25</td>\n",
       "      <td>196.50</td>\n",
       "      <td>193.00</td>\n",
       "      <td>191.75</td>\n",
       "      <td>188.00</td>\n",
       "    </tr>\n",
       "    <tr>\n",
       "      <th>2</th>\n",
       "      <td>2017-01-01</td>\n",
       "      <td>1</td>\n",
       "      <td>UNIVERSITY DEPARTMENTS OF ANNA UNIVERSITY, CHE...</td>\n",
       "      <td>CE</td>\n",
       "      <td>Civil Engineering</td>\n",
       "      <td>198.50</td>\n",
       "      <td>198.00</td>\n",
       "      <td>197.50</td>\n",
       "      <td>197.50</td>\n",
       "      <td>196.00</td>\n",
       "      <td>193.50</td>\n",
       "      <td>196.00</td>\n",
       "    </tr>\n",
       "    <tr>\n",
       "      <th>3</th>\n",
       "      <td>2017-01-01</td>\n",
       "      <td>1</td>\n",
       "      <td>UNIVERSITY DEPARTMENTS OF ANNA UNIVERSITY, CHE...</td>\n",
       "      <td>CM</td>\n",
       "      <td>Computer Science and Engg.(SS)</td>\n",
       "      <td>199.00</td>\n",
       "      <td>198.75</td>\n",
       "      <td>199.00</td>\n",
       "      <td>197.75</td>\n",
       "      <td>193.50</td>\n",
       "      <td>190.50</td>\n",
       "      <td>193.33</td>\n",
       "    </tr>\n",
       "    <tr>\n",
       "      <th>4</th>\n",
       "      <td>2017-01-01</td>\n",
       "      <td>1</td>\n",
       "      <td>UNIVERSITY DEPARTMENTS OF ANNA UNIVERSITY, CHE...</td>\n",
       "      <td>CS</td>\n",
       "      <td>Computer Science and Engg.</td>\n",
       "      <td>199.75</td>\n",
       "      <td>199.50</td>\n",
       "      <td>199.50</td>\n",
       "      <td>199.00</td>\n",
       "      <td>197.50</td>\n",
       "      <td>196.25</td>\n",
       "      <td>193.75</td>\n",
       "    </tr>\n",
       "  </tbody>\n",
       "</table>\n",
       "</div>"
      ],
      "text/plain": [
       "        Year  College Code                                       College_Name  \\\n",
       "0 2017-01-01             1  UNIVERSITY DEPARTMENTS OF ANNA UNIVERSITY, CHE...   \n",
       "1 2017-01-01             1  UNIVERSITY DEPARTMENTS OF ANNA UNIVERSITY, CHE...   \n",
       "2 2017-01-01             1  UNIVERSITY DEPARTMENTS OF ANNA UNIVERSITY, CHE...   \n",
       "3 2017-01-01             1  UNIVERSITY DEPARTMENTS OF ANNA UNIVERSITY, CHE...   \n",
       "4 2017-01-01             1  UNIVERSITY DEPARTMENTS OF ANNA UNIVERSITY, CHE...   \n",
       "\n",
       "  Branch Code                            Branch Name      OC      BC     BCM  \\\n",
       "0          AI  Agricultural and Irrigation Engg.(SS)  196.25  195.25  193.25   \n",
       "1          BY                   Bio Medical Engg(SS)  198.25  197.50  197.25   \n",
       "2          CE                      Civil Engineering  198.50  198.00  197.50   \n",
       "3          CM         Computer Science and Engg.(SS)  199.00  198.75  199.00   \n",
       "4          CS             Computer Science and Engg.  199.75  199.50  199.50   \n",
       "\n",
       "      MBC      SC     SCA      ST  \n",
       "0  194.25  188.75  185.75  175.25  \n",
       "1  196.50  193.00  191.75  188.00  \n",
       "2  197.50  196.00  193.50  196.00  \n",
       "3  197.75  193.50  190.50  193.33  \n",
       "4  199.00  197.50  196.25  193.75  "
      ]
     },
     "execution_count": 15,
     "metadata": {},
     "output_type": "execute_result"
    }
   ],
   "source": [
    "df.head()"
   ]
  },
  {
   "cell_type": "code",
   "execution_count": 16,
   "id": "87c509bd",
   "metadata": {},
   "outputs": [
    {
     "data": {
      "text/html": [
       "<div>\n",
       "<style scoped>\n",
       "    .dataframe tbody tr th:only-of-type {\n",
       "        vertical-align: middle;\n",
       "    }\n",
       "\n",
       "    .dataframe tbody tr th {\n",
       "        vertical-align: top;\n",
       "    }\n",
       "\n",
       "    .dataframe thead th {\n",
       "        text-align: right;\n",
       "    }\n",
       "</style>\n",
       "<table border=\"1\" class=\"dataframe\">\n",
       "  <thead>\n",
       "    <tr style=\"text-align: right;\">\n",
       "      <th></th>\n",
       "      <th>0</th>\n",
       "      <th>1</th>\n",
       "      <th>2</th>\n",
       "      <th>3</th>\n",
       "      <th>4</th>\n",
       "    </tr>\n",
       "  </thead>\n",
       "  <tbody>\n",
       "    <tr>\n",
       "      <th>Year</th>\n",
       "      <td>2017-01-01 00:00:00</td>\n",
       "      <td>2017-01-01 00:00:00</td>\n",
       "      <td>2017-01-01 00:00:00</td>\n",
       "      <td>2017-01-01 00:00:00</td>\n",
       "      <td>2017-01-01 00:00:00</td>\n",
       "    </tr>\n",
       "    <tr>\n",
       "      <th>College Code</th>\n",
       "      <td>1</td>\n",
       "      <td>1</td>\n",
       "      <td>1</td>\n",
       "      <td>1</td>\n",
       "      <td>1</td>\n",
       "    </tr>\n",
       "    <tr>\n",
       "      <th>College_Name</th>\n",
       "      <td>UNIVERSITY DEPARTMENTS OF ANNA UNIVERSITY, CHE...</td>\n",
       "      <td>UNIVERSITY DEPARTMENTS OF ANNA UNIVERSITY, CHE...</td>\n",
       "      <td>UNIVERSITY DEPARTMENTS OF ANNA UNIVERSITY, CHE...</td>\n",
       "      <td>UNIVERSITY DEPARTMENTS OF ANNA UNIVERSITY, CHE...</td>\n",
       "      <td>UNIVERSITY DEPARTMENTS OF ANNA UNIVERSITY, CHE...</td>\n",
       "    </tr>\n",
       "    <tr>\n",
       "      <th>Branch Code</th>\n",
       "      <td>AI</td>\n",
       "      <td>BY</td>\n",
       "      <td>CE</td>\n",
       "      <td>CM</td>\n",
       "      <td>CS</td>\n",
       "    </tr>\n",
       "    <tr>\n",
       "      <th>Branch Name</th>\n",
       "      <td>Agricultural and Irrigation Engg.(SS)</td>\n",
       "      <td>Bio Medical Engg(SS)</td>\n",
       "      <td>Civil Engineering</td>\n",
       "      <td>Computer Science and Engg.(SS)</td>\n",
       "      <td>Computer Science and Engg.</td>\n",
       "    </tr>\n",
       "    <tr>\n",
       "      <th>OC</th>\n",
       "      <td>196.25</td>\n",
       "      <td>198.25</td>\n",
       "      <td>198.5</td>\n",
       "      <td>199.0</td>\n",
       "      <td>199.75</td>\n",
       "    </tr>\n",
       "    <tr>\n",
       "      <th>BC</th>\n",
       "      <td>195.25</td>\n",
       "      <td>197.5</td>\n",
       "      <td>198.0</td>\n",
       "      <td>198.75</td>\n",
       "      <td>199.5</td>\n",
       "    </tr>\n",
       "    <tr>\n",
       "      <th>BCM</th>\n",
       "      <td>193.25</td>\n",
       "      <td>197.25</td>\n",
       "      <td>197.5</td>\n",
       "      <td>199.0</td>\n",
       "      <td>199.5</td>\n",
       "    </tr>\n",
       "    <tr>\n",
       "      <th>MBC</th>\n",
       "      <td>194.25</td>\n",
       "      <td>196.5</td>\n",
       "      <td>197.5</td>\n",
       "      <td>197.75</td>\n",
       "      <td>199.0</td>\n",
       "    </tr>\n",
       "    <tr>\n",
       "      <th>SC</th>\n",
       "      <td>188.75</td>\n",
       "      <td>193.0</td>\n",
       "      <td>196.0</td>\n",
       "      <td>193.5</td>\n",
       "      <td>197.5</td>\n",
       "    </tr>\n",
       "    <tr>\n",
       "      <th>SCA</th>\n",
       "      <td>185.75</td>\n",
       "      <td>191.75</td>\n",
       "      <td>193.5</td>\n",
       "      <td>190.5</td>\n",
       "      <td>196.25</td>\n",
       "    </tr>\n",
       "    <tr>\n",
       "      <th>ST</th>\n",
       "      <td>175.25</td>\n",
       "      <td>188.0</td>\n",
       "      <td>196.0</td>\n",
       "      <td>193.33</td>\n",
       "      <td>193.75</td>\n",
       "    </tr>\n",
       "  </tbody>\n",
       "</table>\n",
       "</div>"
      ],
      "text/plain": [
       "                                                              0  \\\n",
       "Year                                        2017-01-01 00:00:00   \n",
       "College Code                                                  1   \n",
       "College_Name  UNIVERSITY DEPARTMENTS OF ANNA UNIVERSITY, CHE...   \n",
       "Branch Code                                                  AI   \n",
       "Branch Name               Agricultural and Irrigation Engg.(SS)   \n",
       "OC                                                       196.25   \n",
       "BC                                                       195.25   \n",
       "BCM                                                      193.25   \n",
       "MBC                                                      194.25   \n",
       "SC                                                       188.75   \n",
       "SCA                                                      185.75   \n",
       "ST                                                       175.25   \n",
       "\n",
       "                                                              1  \\\n",
       "Year                                        2017-01-01 00:00:00   \n",
       "College Code                                                  1   \n",
       "College_Name  UNIVERSITY DEPARTMENTS OF ANNA UNIVERSITY, CHE...   \n",
       "Branch Code                                                  BY   \n",
       "Branch Name                                Bio Medical Engg(SS)   \n",
       "OC                                                       198.25   \n",
       "BC                                                        197.5   \n",
       "BCM                                                      197.25   \n",
       "MBC                                                       196.5   \n",
       "SC                                                        193.0   \n",
       "SCA                                                      191.75   \n",
       "ST                                                        188.0   \n",
       "\n",
       "                                                              2  \\\n",
       "Year                                        2017-01-01 00:00:00   \n",
       "College Code                                                  1   \n",
       "College_Name  UNIVERSITY DEPARTMENTS OF ANNA UNIVERSITY, CHE...   \n",
       "Branch Code                                                  CE   \n",
       "Branch Name                                   Civil Engineering   \n",
       "OC                                                        198.5   \n",
       "BC                                                        198.0   \n",
       "BCM                                                       197.5   \n",
       "MBC                                                       197.5   \n",
       "SC                                                        196.0   \n",
       "SCA                                                       193.5   \n",
       "ST                                                        196.0   \n",
       "\n",
       "                                                              3  \\\n",
       "Year                                        2017-01-01 00:00:00   \n",
       "College Code                                                  1   \n",
       "College_Name  UNIVERSITY DEPARTMENTS OF ANNA UNIVERSITY, CHE...   \n",
       "Branch Code                                                  CM   \n",
       "Branch Name                      Computer Science and Engg.(SS)   \n",
       "OC                                                        199.0   \n",
       "BC                                                       198.75   \n",
       "BCM                                                       199.0   \n",
       "MBC                                                      197.75   \n",
       "SC                                                        193.5   \n",
       "SCA                                                       190.5   \n",
       "ST                                                       193.33   \n",
       "\n",
       "                                                              4  \n",
       "Year                                        2017-01-01 00:00:00  \n",
       "College Code                                                  1  \n",
       "College_Name  UNIVERSITY DEPARTMENTS OF ANNA UNIVERSITY, CHE...  \n",
       "Branch Code                                                  CS  \n",
       "Branch Name                          Computer Science and Engg.  \n",
       "OC                                                       199.75  \n",
       "BC                                                        199.5  \n",
       "BCM                                                       199.5  \n",
       "MBC                                                       199.0  \n",
       "SC                                                        197.5  \n",
       "SCA                                                      196.25  \n",
       "ST                                                       193.75  "
      ]
     },
     "execution_count": 16,
     "metadata": {},
     "output_type": "execute_result"
    }
   ],
   "source": [
    "#transpose\n",
    "df.head().T"
   ]
  },
  {
   "cell_type": "code",
   "execution_count": 17,
   "id": "77471842",
   "metadata": {},
   "outputs": [
    {
     "data": {
      "text/plain": [
       "0    2017-01-01\n",
       "1    2017-01-01\n",
       "2    2017-01-01\n",
       "3    2017-01-01\n",
       "4    2017-01-01\n",
       "5    2017-01-01\n",
       "6    2017-01-01\n",
       "7    2017-01-01\n",
       "8    2017-01-01\n",
       "9    2017-01-01\n",
       "10   2017-01-01\n",
       "11   2017-01-01\n",
       "12   2017-01-01\n",
       "13   2017-01-01\n",
       "14   2017-01-01\n",
       "15   2017-01-01\n",
       "16   2017-01-01\n",
       "17   2017-01-01\n",
       "18   2017-01-01\n",
       "19   2017-01-01\n",
       "Name: Year, dtype: datetime64[ns]"
      ]
     },
     "execution_count": 17,
     "metadata": {},
     "output_type": "execute_result"
    }
   ],
   "source": [
    "df.Year.head(20)"
   ]
  },
  {
   "cell_type": "code",
   "execution_count": 29,
   "id": "81ada62d",
   "metadata": {},
   "outputs": [
    {
     "data": {
      "text/plain": [
       "0    2017-01-01\n",
       "29   2017-01-01\n",
       "2    2017-01-01\n",
       "3    2017-01-01\n",
       "4    2017-01-01\n",
       "5    2017-01-01\n",
       "6    2017-01-01\n",
       "7    2017-01-01\n",
       "8    2017-01-01\n",
       "9    2017-01-01\n",
       "10   2017-01-01\n",
       "11   2017-01-01\n",
       "12   2017-01-01\n",
       "14   2017-01-01\n",
       "1    2017-01-01\n",
       "24   2017-01-01\n",
       "16   2017-01-01\n",
       "17   2017-01-01\n",
       "18   2017-01-01\n",
       "19   2017-01-01\n",
       "Name: Year, dtype: datetime64[ns]"
      ]
     },
     "execution_count": 29,
     "metadata": {},
     "output_type": "execute_result"
    }
   ],
   "source": [
    "df.sort_values(by=[\"Year\"], inplace=True, ascending=True)\n",
    "df.Year.head(20)"
   ]
  },
  {
   "cell_type": "code",
   "execution_count": 30,
   "id": "de3a578c",
   "metadata": {},
   "outputs": [],
   "source": [
    "df_tmp = df.copy()"
   ]
  },
  {
   "cell_type": "code",
   "execution_count": 31,
   "id": "e14fa688",
   "metadata": {},
   "outputs": [],
   "source": [
    "df_tmp[\"tYear\"] = df_tmp.Year.dt.year"
   ]
  },
  {
   "cell_type": "code",
   "execution_count": 32,
   "id": "a229cbff",
   "metadata": {},
   "outputs": [
    {
     "data": {
      "text/html": [
       "<div>\n",
       "<style scoped>\n",
       "    .dataframe tbody tr th:only-of-type {\n",
       "        vertical-align: middle;\n",
       "    }\n",
       "\n",
       "    .dataframe tbody tr th {\n",
       "        vertical-align: top;\n",
       "    }\n",
       "\n",
       "    .dataframe thead th {\n",
       "        text-align: right;\n",
       "    }\n",
       "</style>\n",
       "<table border=\"1\" class=\"dataframe\">\n",
       "  <thead>\n",
       "    <tr style=\"text-align: right;\">\n",
       "      <th></th>\n",
       "      <th>0</th>\n",
       "      <th>29</th>\n",
       "      <th>2</th>\n",
       "      <th>3</th>\n",
       "      <th>4</th>\n",
       "    </tr>\n",
       "  </thead>\n",
       "  <tbody>\n",
       "    <tr>\n",
       "      <th>Year</th>\n",
       "      <td>2017-01-01 00:00:00</td>\n",
       "      <td>2017-01-01 00:00:00</td>\n",
       "      <td>2017-01-01 00:00:00</td>\n",
       "      <td>2017-01-01 00:00:00</td>\n",
       "      <td>2017-01-01 00:00:00</td>\n",
       "    </tr>\n",
       "    <tr>\n",
       "      <th>College Code</th>\n",
       "      <td>1</td>\n",
       "      <td>4</td>\n",
       "      <td>1</td>\n",
       "      <td>1</td>\n",
       "      <td>1</td>\n",
       "    </tr>\n",
       "    <tr>\n",
       "      <th>College_Name</th>\n",
       "      <td>UNIVERSITY DEPARTMENTS OF ANNA UNIVERSITY, CHE...</td>\n",
       "      <td>UNIVERSITY DEPARTMENTS OF ANNA UNIVERSITY, CHE...</td>\n",
       "      <td>UNIVERSITY DEPARTMENTS OF ANNA UNIVERSITY, CHE...</td>\n",
       "      <td>UNIVERSITY DEPARTMENTS OF ANNA UNIVERSITY, CHE...</td>\n",
       "      <td>UNIVERSITY DEPARTMENTS OF ANNA UNIVERSITY, CHE...</td>\n",
       "    </tr>\n",
       "    <tr>\n",
       "      <th>Branch Code</th>\n",
       "      <td>AI</td>\n",
       "      <td>AE</td>\n",
       "      <td>CE</td>\n",
       "      <td>CM</td>\n",
       "      <td>CS</td>\n",
       "    </tr>\n",
       "    <tr>\n",
       "      <th>Branch Name</th>\n",
       "      <td>Agricultural and Irrigation Engg.(SS)</td>\n",
       "      <td>Aeronautical Engineering</td>\n",
       "      <td>Civil Engineering</td>\n",
       "      <td>Computer Science and Engg.(SS)</td>\n",
       "      <td>Computer Science and Engg.</td>\n",
       "    </tr>\n",
       "    <tr>\n",
       "      <th>OC</th>\n",
       "      <td>196.25</td>\n",
       "      <td>198.25</td>\n",
       "      <td>198.5</td>\n",
       "      <td>199.0</td>\n",
       "      <td>199.75</td>\n",
       "    </tr>\n",
       "    <tr>\n",
       "      <th>BC</th>\n",
       "      <td>195.25</td>\n",
       "      <td>197.33</td>\n",
       "      <td>198.0</td>\n",
       "      <td>198.75</td>\n",
       "      <td>199.5</td>\n",
       "    </tr>\n",
       "    <tr>\n",
       "      <th>BCM</th>\n",
       "      <td>193.25</td>\n",
       "      <td>197.75</td>\n",
       "      <td>197.5</td>\n",
       "      <td>199.0</td>\n",
       "      <td>199.5</td>\n",
       "    </tr>\n",
       "    <tr>\n",
       "      <th>MBC</th>\n",
       "      <td>194.25</td>\n",
       "      <td>197.0</td>\n",
       "      <td>197.5</td>\n",
       "      <td>197.75</td>\n",
       "      <td>199.0</td>\n",
       "    </tr>\n",
       "    <tr>\n",
       "      <th>SC</th>\n",
       "      <td>188.75</td>\n",
       "      <td>194.75</td>\n",
       "      <td>196.0</td>\n",
       "      <td>193.5</td>\n",
       "      <td>197.5</td>\n",
       "    </tr>\n",
       "    <tr>\n",
       "      <th>SCA</th>\n",
       "      <td>185.75</td>\n",
       "      <td>195.0</td>\n",
       "      <td>193.5</td>\n",
       "      <td>190.5</td>\n",
       "      <td>196.25</td>\n",
       "    </tr>\n",
       "    <tr>\n",
       "      <th>ST</th>\n",
       "      <td>175.25</td>\n",
       "      <td>NaN</td>\n",
       "      <td>196.0</td>\n",
       "      <td>193.33</td>\n",
       "      <td>193.75</td>\n",
       "    </tr>\n",
       "    <tr>\n",
       "      <th>tYear</th>\n",
       "      <td>2017</td>\n",
       "      <td>2017</td>\n",
       "      <td>2017</td>\n",
       "      <td>2017</td>\n",
       "      <td>2017</td>\n",
       "    </tr>\n",
       "  </tbody>\n",
       "</table>\n",
       "</div>"
      ],
      "text/plain": [
       "                                                             0   \\\n",
       "Year                                        2017-01-01 00:00:00   \n",
       "College Code                                                  1   \n",
       "College_Name  UNIVERSITY DEPARTMENTS OF ANNA UNIVERSITY, CHE...   \n",
       "Branch Code                                                  AI   \n",
       "Branch Name               Agricultural and Irrigation Engg.(SS)   \n",
       "OC                                                       196.25   \n",
       "BC                                                       195.25   \n",
       "BCM                                                      193.25   \n",
       "MBC                                                      194.25   \n",
       "SC                                                       188.75   \n",
       "SCA                                                      185.75   \n",
       "ST                                                       175.25   \n",
       "tYear                                                      2017   \n",
       "\n",
       "                                                             29  \\\n",
       "Year                                        2017-01-01 00:00:00   \n",
       "College Code                                                  4   \n",
       "College_Name  UNIVERSITY DEPARTMENTS OF ANNA UNIVERSITY, CHE...   \n",
       "Branch Code                                                  AE   \n",
       "Branch Name                            Aeronautical Engineering   \n",
       "OC                                                       198.25   \n",
       "BC                                                       197.33   \n",
       "BCM                                                      197.75   \n",
       "MBC                                                       197.0   \n",
       "SC                                                       194.75   \n",
       "SCA                                                       195.0   \n",
       "ST                                                          NaN   \n",
       "tYear                                                      2017   \n",
       "\n",
       "                                                             2   \\\n",
       "Year                                        2017-01-01 00:00:00   \n",
       "College Code                                                  1   \n",
       "College_Name  UNIVERSITY DEPARTMENTS OF ANNA UNIVERSITY, CHE...   \n",
       "Branch Code                                                  CE   \n",
       "Branch Name                                   Civil Engineering   \n",
       "OC                                                        198.5   \n",
       "BC                                                        198.0   \n",
       "BCM                                                       197.5   \n",
       "MBC                                                       197.5   \n",
       "SC                                                        196.0   \n",
       "SCA                                                       193.5   \n",
       "ST                                                        196.0   \n",
       "tYear                                                      2017   \n",
       "\n",
       "                                                             3   \\\n",
       "Year                                        2017-01-01 00:00:00   \n",
       "College Code                                                  1   \n",
       "College_Name  UNIVERSITY DEPARTMENTS OF ANNA UNIVERSITY, CHE...   \n",
       "Branch Code                                                  CM   \n",
       "Branch Name                      Computer Science and Engg.(SS)   \n",
       "OC                                                        199.0   \n",
       "BC                                                       198.75   \n",
       "BCM                                                       199.0   \n",
       "MBC                                                      197.75   \n",
       "SC                                                        193.5   \n",
       "SCA                                                       190.5   \n",
       "ST                                                       193.33   \n",
       "tYear                                                      2017   \n",
       "\n",
       "                                                             4   \n",
       "Year                                        2017-01-01 00:00:00  \n",
       "College Code                                                  1  \n",
       "College_Name  UNIVERSITY DEPARTMENTS OF ANNA UNIVERSITY, CHE...  \n",
       "Branch Code                                                  CS  \n",
       "Branch Name                          Computer Science and Engg.  \n",
       "OC                                                       199.75  \n",
       "BC                                                        199.5  \n",
       "BCM                                                       199.5  \n",
       "MBC                                                       199.0  \n",
       "SC                                                        197.5  \n",
       "SCA                                                      196.25  \n",
       "ST                                                       193.75  \n",
       "tYear                                                      2017  "
      ]
     },
     "execution_count": 32,
     "metadata": {},
     "output_type": "execute_result"
    }
   ],
   "source": [
    "df_tmp.head().T"
   ]
  },
  {
   "cell_type": "markdown",
   "id": "48595cd7",
   "metadata": {},
   "source": [
    "#df_tmp[\"Year\"] = df_tmp.Year.dt.year"
   ]
  },
  {
   "cell_type": "code",
   "execution_count": 33,
   "id": "37fadfe6",
   "metadata": {},
   "outputs": [],
   "source": [
    "df_tmp.drop(\"Year\", axis=1, inplace=True)"
   ]
  },
  {
   "cell_type": "code",
   "execution_count": 34,
   "id": "b53e4681",
   "metadata": {},
   "outputs": [
    {
     "data": {
      "text/plain": [
       "UNIVERSITY DEPARTMENTS OF ANNA UNIVERSITY, CHENNAI - CEG CAMPUS,SARDAR PATEL ROAD, GUINDY,CHENNAI DIST, PIN - 600025.             36\n",
       "University Departments of Anna University, Chennai - CEG Campus, Sardar Patel Road, Guindy, Chennai 600 025                       34\n",
       "UNIVERSITY DEPARTMENTS OF ANNA UNIVERSITY, CHENNAI - MIT CAMPUS,CHROMPET,,KANCHEEPURAM DIST, PIN - 600044.                        26\n",
       "UNIVERSITY DEPARTMENTS OF ANNA UNIVERSITY, CHENNAI - ACT CAMPUS,SARDAR PATEL ROAD, GUINDY,CHENNAI DIST, PIN - 600025.             22\n",
       "University Departments of Anna University, Chennai - ACT Campus, Sardar Patel Road, Guindy, Chennai 600 025                       22\n",
       "University Departments of Anna University, Chennai - MIT Campus, Chrompet, Tambaram Taluk, Kancheepuram District 600 044          12\n",
       "Annamalai University Faculty of Engineering and Technology,Annamalai nagar,Cuddalore 608002                                       12\n",
       "Annamalai University Faculty of Engineering and Technology,Annamalai nagar,Cuddalore                                              12\n",
       "University Departments of Anna University, Chennai - MIT Campus, Chrompet, Tambaram Taluk, Chengalpattu District 600 044          12\n",
       "UNIVERSITY COLLEGE OF ENGINEERING, VILLUPURAM,VILLUPURAM (POST) , KAKUPPAM (VILLAGE),VILLUPURAM DIST, PIN - 605103.               10\n",
       "UNIVERSITY COLLEGE OF ENGINEERING, ARNI,ARNI TO DEVIKAPURAM ROAD, THATCHUR, ARNI,THIRUVANNAMALAI DIST, PIN - 632326.              10\n",
       "UNIVERSITY COLLEGE OF ENGINEERING, TINDIVANAM,IYYANTHOPE (POST) , MELPAKKAM (VILLAGE),VILLUPURAM DIST, PIN - 604001.              10\n",
       "University College of Engineering, Villupuram, Kakuppam, Villupuram District 605103                                               10\n",
       "UNIVERSITY COLLEGE OF ENGINEERING, KANCHIPURAM,NH-4, CHENNAI BANGALORE HIGHWAY, PONNERIKKARAI,KANCHEEPURAM DIST, PIN - 631552.     6\n",
       "University College of Engineering, Tindivanam, Melpakkam, Tindivanam, Villupuram District 604001                                   6\n",
       "Name: College_Name, dtype: int64"
      ]
     },
     "execution_count": 34,
     "metadata": {},
     "output_type": "execute_result"
    }
   ],
   "source": [
    "df_tmp.College_Name.value_counts()"
   ]
  },
  {
   "cell_type": "code",
   "execution_count": 35,
   "id": "34c639bb",
   "metadata": {},
   "outputs": [
    {
     "data": {
      "text/html": [
       "<div>\n",
       "<style scoped>\n",
       "    .dataframe tbody tr th:only-of-type {\n",
       "        vertical-align: middle;\n",
       "    }\n",
       "\n",
       "    .dataframe tbody tr th {\n",
       "        vertical-align: top;\n",
       "    }\n",
       "\n",
       "    .dataframe thead th {\n",
       "        text-align: right;\n",
       "    }\n",
       "</style>\n",
       "<table border=\"1\" class=\"dataframe\">\n",
       "  <thead>\n",
       "    <tr style=\"text-align: right;\">\n",
       "      <th></th>\n",
       "      <th>College Code</th>\n",
       "      <th>College_Name</th>\n",
       "      <th>Branch Code</th>\n",
       "      <th>Branch Name</th>\n",
       "      <th>OC</th>\n",
       "      <th>BC</th>\n",
       "      <th>BCM</th>\n",
       "      <th>MBC</th>\n",
       "      <th>SC</th>\n",
       "      <th>SCA</th>\n",
       "      <th>ST</th>\n",
       "      <th>tYear</th>\n",
       "    </tr>\n",
       "  </thead>\n",
       "  <tbody>\n",
       "    <tr>\n",
       "      <th>0</th>\n",
       "      <td>1</td>\n",
       "      <td>UNIVERSITY DEPARTMENTS OF ANNA UNIVERSITY, CHE...</td>\n",
       "      <td>AI</td>\n",
       "      <td>Agricultural and Irrigation Engg.(SS)</td>\n",
       "      <td>196.25</td>\n",
       "      <td>195.25</td>\n",
       "      <td>193.25</td>\n",
       "      <td>194.25</td>\n",
       "      <td>188.75</td>\n",
       "      <td>185.75</td>\n",
       "      <td>175.25</td>\n",
       "      <td>2017</td>\n",
       "    </tr>\n",
       "    <tr>\n",
       "      <th>29</th>\n",
       "      <td>4</td>\n",
       "      <td>UNIVERSITY DEPARTMENTS OF ANNA UNIVERSITY, CHE...</td>\n",
       "      <td>AE</td>\n",
       "      <td>Aeronautical Engineering</td>\n",
       "      <td>198.25</td>\n",
       "      <td>197.33</td>\n",
       "      <td>197.75</td>\n",
       "      <td>197.00</td>\n",
       "      <td>194.75</td>\n",
       "      <td>195.00</td>\n",
       "      <td>NaN</td>\n",
       "      <td>2017</td>\n",
       "    </tr>\n",
       "    <tr>\n",
       "      <th>2</th>\n",
       "      <td>1</td>\n",
       "      <td>UNIVERSITY DEPARTMENTS OF ANNA UNIVERSITY, CHE...</td>\n",
       "      <td>CE</td>\n",
       "      <td>Civil Engineering</td>\n",
       "      <td>198.50</td>\n",
       "      <td>198.00</td>\n",
       "      <td>197.50</td>\n",
       "      <td>197.50</td>\n",
       "      <td>196.00</td>\n",
       "      <td>193.50</td>\n",
       "      <td>196.00</td>\n",
       "      <td>2017</td>\n",
       "    </tr>\n",
       "    <tr>\n",
       "      <th>3</th>\n",
       "      <td>1</td>\n",
       "      <td>UNIVERSITY DEPARTMENTS OF ANNA UNIVERSITY, CHE...</td>\n",
       "      <td>CM</td>\n",
       "      <td>Computer Science and Engg.(SS)</td>\n",
       "      <td>199.00</td>\n",
       "      <td>198.75</td>\n",
       "      <td>199.00</td>\n",
       "      <td>197.75</td>\n",
       "      <td>193.50</td>\n",
       "      <td>190.50</td>\n",
       "      <td>193.33</td>\n",
       "      <td>2017</td>\n",
       "    </tr>\n",
       "    <tr>\n",
       "      <th>4</th>\n",
       "      <td>1</td>\n",
       "      <td>UNIVERSITY DEPARTMENTS OF ANNA UNIVERSITY, CHE...</td>\n",
       "      <td>CS</td>\n",
       "      <td>Computer Science and Engg.</td>\n",
       "      <td>199.75</td>\n",
       "      <td>199.50</td>\n",
       "      <td>199.50</td>\n",
       "      <td>199.00</td>\n",
       "      <td>197.50</td>\n",
       "      <td>196.25</td>\n",
       "      <td>193.75</td>\n",
       "      <td>2017</td>\n",
       "    </tr>\n",
       "  </tbody>\n",
       "</table>\n",
       "</div>"
      ],
      "text/plain": [
       "    College Code                                       College_Name  \\\n",
       "0              1  UNIVERSITY DEPARTMENTS OF ANNA UNIVERSITY, CHE...   \n",
       "29             4  UNIVERSITY DEPARTMENTS OF ANNA UNIVERSITY, CHE...   \n",
       "2              1  UNIVERSITY DEPARTMENTS OF ANNA UNIVERSITY, CHE...   \n",
       "3              1  UNIVERSITY DEPARTMENTS OF ANNA UNIVERSITY, CHE...   \n",
       "4              1  UNIVERSITY DEPARTMENTS OF ANNA UNIVERSITY, CHE...   \n",
       "\n",
       "   Branch Code                            Branch Name      OC      BC     BCM  \\\n",
       "0           AI  Agricultural and Irrigation Engg.(SS)  196.25  195.25  193.25   \n",
       "29          AE               Aeronautical Engineering  198.25  197.33  197.75   \n",
       "2           CE                      Civil Engineering  198.50  198.00  197.50   \n",
       "3           CM         Computer Science and Engg.(SS)  199.00  198.75  199.00   \n",
       "4           CS             Computer Science and Engg.  199.75  199.50  199.50   \n",
       "\n",
       "       MBC      SC     SCA      ST  tYear  \n",
       "0   194.25  188.75  185.75  175.25   2017  \n",
       "29  197.00  194.75  195.00     NaN   2017  \n",
       "2   197.50  196.00  193.50  196.00   2017  \n",
       "3   197.75  193.50  190.50  193.33   2017  \n",
       "4   199.00  197.50  196.25  193.75   2017  "
      ]
     },
     "execution_count": 35,
     "metadata": {},
     "output_type": "execute_result"
    }
   ],
   "source": [
    "df_tmp.head()"
   ]
  },
  {
   "cell_type": "code",
   "execution_count": 36,
   "id": "f5b9d06b",
   "metadata": {},
   "outputs": [
    {
     "data": {
      "text/plain": [
       "240"
      ]
     },
     "execution_count": 36,
     "metadata": {},
     "output_type": "execute_result"
    }
   ],
   "source": [
    "len(df_tmp)"
   ]
  },
  {
   "cell_type": "code",
   "execution_count": 37,
   "id": "75a2f4b5",
   "metadata": {},
   "outputs": [],
   "source": [
    "#EDA"
   ]
  },
  {
   "cell_type": "code",
   "execution_count": 38,
   "id": "981730f2",
   "metadata": {},
   "outputs": [
    {
     "data": {
      "text/plain": [
       "237     80.00\n",
       "231     80.00\n",
       "168     81.50\n",
       "228     81.50\n",
       "171     82.50\n",
       "        ...  \n",
       "34     199.25\n",
       "65     199.33\n",
       "64     199.50\n",
       "4      199.75\n",
       "5      200.00\n",
       "Name: OC, Length: 240, dtype: float64"
      ]
     },
     "execution_count": 38,
     "metadata": {},
     "output_type": "execute_result"
    }
   ],
   "source": [
    "df_tmp.OC.sort_values()"
   ]
  },
  {
   "cell_type": "code",
   "execution_count": 39,
   "id": "6dea1063",
   "metadata": {},
   "outputs": [
    {
     "data": {
      "text/plain": [
       "166     91.00\n",
       "113     94.00\n",
       "108     97.50\n",
       "172    103.00\n",
       "117    109.25\n",
       "        ...  \n",
       "234       NaN\n",
       "235       NaN\n",
       "236       NaN\n",
       "209       NaN\n",
       "239       NaN\n",
       "Name: ST, Length: 240, dtype: float64"
      ]
     },
     "execution_count": 39,
     "metadata": {},
     "output_type": "execute_result"
    }
   ],
   "source": [
    "df_tmp.ST.sort_values()"
   ]
  },
  {
   "cell_type": "code",
   "execution_count": 28,
   "id": "2367c11a",
   "metadata": {},
   "outputs": [],
   "source": [
    "#machine learning model"
   ]
  },
  {
   "cell_type": "code",
   "execution_count": 40,
   "id": "a252db0d",
   "metadata": {},
   "outputs": [
    {
     "data": {
      "text/plain": [
       "240"
      ]
     },
     "execution_count": 40,
     "metadata": {},
     "output_type": "execute_result"
    }
   ],
   "source": [
    "len(df_tmp)"
   ]
  },
  {
   "cell_type": "markdown",
   "id": "c6d7c113",
   "metadata": {},
   "source": [
    "# Modelling"
   ]
  },
  {
   "cell_type": "code",
   "execution_count": 41,
   "id": "ebd4541a",
   "metadata": {},
   "outputs": [
    {
     "ename": "ValueError",
     "evalue": "could not convert string to float: 'UNIVERSITY DEPARTMENTS OF ANNA UNIVERSITY, CHENNAI - CEG CAMPUS,SARDAR PATEL ROAD, GUINDY,CHENNAI DIST, PIN - 600025.'",
     "output_type": "error",
     "traceback": [
      "\u001b[1;31m---------------------------------------------------------------------------\u001b[0m",
      "\u001b[1;31mValueError\u001b[0m                                Traceback (most recent call last)",
      "Cell \u001b[1;32mIn [41], line 5\u001b[0m\n\u001b[0;32m      1\u001b[0m \u001b[38;5;28;01mfrom\u001b[39;00m \u001b[38;5;21;01msklearn\u001b[39;00m\u001b[38;5;21;01m.\u001b[39;00m\u001b[38;5;21;01mensemble\u001b[39;00m \u001b[38;5;28;01mimport\u001b[39;00m RandomForestRegressor\n\u001b[0;32m      3\u001b[0m model \u001b[38;5;241m=\u001b[39m RandomForestRegressor(n_jobs\u001b[38;5;241m=\u001b[39m\u001b[38;5;241m-\u001b[39m\u001b[38;5;241m1\u001b[39m,random_state\u001b[38;5;241m=\u001b[39m\u001b[38;5;241m42\u001b[39m)\n\u001b[1;32m----> 5\u001b[0m \u001b[43mmodel\u001b[49m\u001b[38;5;241;43m.\u001b[39;49m\u001b[43mfit\u001b[49m\u001b[43m(\u001b[49m\u001b[43mdf_tmp\u001b[49m\u001b[38;5;241;43m.\u001b[39;49m\u001b[43mdrop\u001b[49m\u001b[43m(\u001b[49m\u001b[38;5;124;43m\"\u001b[39;49m\u001b[38;5;124;43mOC\u001b[39;49m\u001b[38;5;124;43m\"\u001b[39;49m\u001b[43m,\u001b[49m\u001b[43m \u001b[49m\u001b[43maxis\u001b[49m\u001b[38;5;241;43m=\u001b[39;49m\u001b[38;5;241;43m1\u001b[39;49m\u001b[43m)\u001b[49m\u001b[43m,\u001b[49m\u001b[43m \u001b[49m\u001b[43mdf_tmp\u001b[49m\u001b[43m[\u001b[49m\u001b[38;5;124;43m\"\u001b[39;49m\u001b[38;5;124;43mOC\u001b[39;49m\u001b[38;5;124;43m\"\u001b[39;49m\u001b[43m]\u001b[49m\u001b[43m)\u001b[49m\n",
      "File \u001b[1;32m~\\OneDrive\\Desktop\\tnea-proj\\env\\lib\\site-packages\\sklearn\\ensemble\\_forest.py:331\u001b[0m, in \u001b[0;36mBaseForest.fit\u001b[1;34m(self, X, y, sample_weight)\u001b[0m\n\u001b[0;32m    329\u001b[0m \u001b[38;5;28;01mif\u001b[39;00m issparse(y):\n\u001b[0;32m    330\u001b[0m     \u001b[38;5;28;01mraise\u001b[39;00m \u001b[38;5;167;01mValueError\u001b[39;00m(\u001b[38;5;124m\"\u001b[39m\u001b[38;5;124msparse multilabel-indicator for y is not supported.\u001b[39m\u001b[38;5;124m\"\u001b[39m)\n\u001b[1;32m--> 331\u001b[0m X, y \u001b[38;5;241m=\u001b[39m \u001b[38;5;28;43mself\u001b[39;49m\u001b[38;5;241;43m.\u001b[39;49m\u001b[43m_validate_data\u001b[49m\u001b[43m(\u001b[49m\n\u001b[0;32m    332\u001b[0m \u001b[43m    \u001b[49m\u001b[43mX\u001b[49m\u001b[43m,\u001b[49m\u001b[43m \u001b[49m\u001b[43my\u001b[49m\u001b[43m,\u001b[49m\u001b[43m \u001b[49m\u001b[43mmulti_output\u001b[49m\u001b[38;5;241;43m=\u001b[39;49m\u001b[38;5;28;43;01mTrue\u001b[39;49;00m\u001b[43m,\u001b[49m\u001b[43m \u001b[49m\u001b[43maccept_sparse\u001b[49m\u001b[38;5;241;43m=\u001b[39;49m\u001b[38;5;124;43m\"\u001b[39;49m\u001b[38;5;124;43mcsc\u001b[39;49m\u001b[38;5;124;43m\"\u001b[39;49m\u001b[43m,\u001b[49m\u001b[43m \u001b[49m\u001b[43mdtype\u001b[49m\u001b[38;5;241;43m=\u001b[39;49m\u001b[43mDTYPE\u001b[49m\n\u001b[0;32m    333\u001b[0m \u001b[43m\u001b[49m\u001b[43m)\u001b[49m\n\u001b[0;32m    334\u001b[0m \u001b[38;5;28;01mif\u001b[39;00m sample_weight \u001b[38;5;129;01mis\u001b[39;00m \u001b[38;5;129;01mnot\u001b[39;00m \u001b[38;5;28;01mNone\u001b[39;00m:\n\u001b[0;32m    335\u001b[0m     sample_weight \u001b[38;5;241m=\u001b[39m _check_sample_weight(sample_weight, X)\n",
      "File \u001b[1;32m~\\OneDrive\\Desktop\\tnea-proj\\env\\lib\\site-packages\\sklearn\\base.py:596\u001b[0m, in \u001b[0;36mBaseEstimator._validate_data\u001b[1;34m(self, X, y, reset, validate_separately, **check_params)\u001b[0m\n\u001b[0;32m    594\u001b[0m         y \u001b[38;5;241m=\u001b[39m check_array(y, input_name\u001b[38;5;241m=\u001b[39m\u001b[38;5;124m\"\u001b[39m\u001b[38;5;124my\u001b[39m\u001b[38;5;124m\"\u001b[39m, \u001b[38;5;241m*\u001b[39m\u001b[38;5;241m*\u001b[39mcheck_y_params)\n\u001b[0;32m    595\u001b[0m     \u001b[38;5;28;01melse\u001b[39;00m:\n\u001b[1;32m--> 596\u001b[0m         X, y \u001b[38;5;241m=\u001b[39m check_X_y(X, y, \u001b[38;5;241m*\u001b[39m\u001b[38;5;241m*\u001b[39mcheck_params)\n\u001b[0;32m    597\u001b[0m     out \u001b[38;5;241m=\u001b[39m X, y\n\u001b[0;32m    599\u001b[0m \u001b[38;5;28;01mif\u001b[39;00m \u001b[38;5;129;01mnot\u001b[39;00m no_val_X \u001b[38;5;129;01mand\u001b[39;00m check_params\u001b[38;5;241m.\u001b[39mget(\u001b[38;5;124m\"\u001b[39m\u001b[38;5;124mensure_2d\u001b[39m\u001b[38;5;124m\"\u001b[39m, \u001b[38;5;28;01mTrue\u001b[39;00m):\n",
      "File \u001b[1;32m~\\OneDrive\\Desktop\\tnea-proj\\env\\lib\\site-packages\\sklearn\\utils\\validation.py:1074\u001b[0m, in \u001b[0;36mcheck_X_y\u001b[1;34m(X, y, accept_sparse, accept_large_sparse, dtype, order, copy, force_all_finite, ensure_2d, allow_nd, multi_output, ensure_min_samples, ensure_min_features, y_numeric, estimator)\u001b[0m\n\u001b[0;32m   1069\u001b[0m         estimator_name \u001b[38;5;241m=\u001b[39m _check_estimator_name(estimator)\n\u001b[0;32m   1070\u001b[0m     \u001b[38;5;28;01mraise\u001b[39;00m \u001b[38;5;167;01mValueError\u001b[39;00m(\n\u001b[0;32m   1071\u001b[0m         \u001b[38;5;124mf\u001b[39m\u001b[38;5;124m\"\u001b[39m\u001b[38;5;132;01m{\u001b[39;00mestimator_name\u001b[38;5;132;01m}\u001b[39;00m\u001b[38;5;124m requires y to be passed, but the target y is None\u001b[39m\u001b[38;5;124m\"\u001b[39m\n\u001b[0;32m   1072\u001b[0m     )\n\u001b[1;32m-> 1074\u001b[0m X \u001b[38;5;241m=\u001b[39m \u001b[43mcheck_array\u001b[49m\u001b[43m(\u001b[49m\n\u001b[0;32m   1075\u001b[0m \u001b[43m    \u001b[49m\u001b[43mX\u001b[49m\u001b[43m,\u001b[49m\n\u001b[0;32m   1076\u001b[0m \u001b[43m    \u001b[49m\u001b[43maccept_sparse\u001b[49m\u001b[38;5;241;43m=\u001b[39;49m\u001b[43maccept_sparse\u001b[49m\u001b[43m,\u001b[49m\n\u001b[0;32m   1077\u001b[0m \u001b[43m    \u001b[49m\u001b[43maccept_large_sparse\u001b[49m\u001b[38;5;241;43m=\u001b[39;49m\u001b[43maccept_large_sparse\u001b[49m\u001b[43m,\u001b[49m\n\u001b[0;32m   1078\u001b[0m \u001b[43m    \u001b[49m\u001b[43mdtype\u001b[49m\u001b[38;5;241;43m=\u001b[39;49m\u001b[43mdtype\u001b[49m\u001b[43m,\u001b[49m\n\u001b[0;32m   1079\u001b[0m \u001b[43m    \u001b[49m\u001b[43morder\u001b[49m\u001b[38;5;241;43m=\u001b[39;49m\u001b[43morder\u001b[49m\u001b[43m,\u001b[49m\n\u001b[0;32m   1080\u001b[0m \u001b[43m    \u001b[49m\u001b[43mcopy\u001b[49m\u001b[38;5;241;43m=\u001b[39;49m\u001b[43mcopy\u001b[49m\u001b[43m,\u001b[49m\n\u001b[0;32m   1081\u001b[0m \u001b[43m    \u001b[49m\u001b[43mforce_all_finite\u001b[49m\u001b[38;5;241;43m=\u001b[39;49m\u001b[43mforce_all_finite\u001b[49m\u001b[43m,\u001b[49m\n\u001b[0;32m   1082\u001b[0m \u001b[43m    \u001b[49m\u001b[43mensure_2d\u001b[49m\u001b[38;5;241;43m=\u001b[39;49m\u001b[43mensure_2d\u001b[49m\u001b[43m,\u001b[49m\n\u001b[0;32m   1083\u001b[0m \u001b[43m    \u001b[49m\u001b[43mallow_nd\u001b[49m\u001b[38;5;241;43m=\u001b[39;49m\u001b[43mallow_nd\u001b[49m\u001b[43m,\u001b[49m\n\u001b[0;32m   1084\u001b[0m \u001b[43m    \u001b[49m\u001b[43mensure_min_samples\u001b[49m\u001b[38;5;241;43m=\u001b[39;49m\u001b[43mensure_min_samples\u001b[49m\u001b[43m,\u001b[49m\n\u001b[0;32m   1085\u001b[0m \u001b[43m    \u001b[49m\u001b[43mensure_min_features\u001b[49m\u001b[38;5;241;43m=\u001b[39;49m\u001b[43mensure_min_features\u001b[49m\u001b[43m,\u001b[49m\n\u001b[0;32m   1086\u001b[0m \u001b[43m    \u001b[49m\u001b[43mestimator\u001b[49m\u001b[38;5;241;43m=\u001b[39;49m\u001b[43mestimator\u001b[49m\u001b[43m,\u001b[49m\n\u001b[0;32m   1087\u001b[0m \u001b[43m    \u001b[49m\u001b[43minput_name\u001b[49m\u001b[38;5;241;43m=\u001b[39;49m\u001b[38;5;124;43m\"\u001b[39;49m\u001b[38;5;124;43mX\u001b[39;49m\u001b[38;5;124;43m\"\u001b[39;49m\u001b[43m,\u001b[49m\n\u001b[0;32m   1088\u001b[0m \u001b[43m\u001b[49m\u001b[43m)\u001b[49m\n\u001b[0;32m   1090\u001b[0m y \u001b[38;5;241m=\u001b[39m _check_y(y, multi_output\u001b[38;5;241m=\u001b[39mmulti_output, y_numeric\u001b[38;5;241m=\u001b[39my_numeric, estimator\u001b[38;5;241m=\u001b[39mestimator)\n\u001b[0;32m   1092\u001b[0m check_consistent_length(X, y)\n",
      "File \u001b[1;32m~\\OneDrive\\Desktop\\tnea-proj\\env\\lib\\site-packages\\sklearn\\utils\\validation.py:856\u001b[0m, in \u001b[0;36mcheck_array\u001b[1;34m(array, accept_sparse, accept_large_sparse, dtype, order, copy, force_all_finite, ensure_2d, allow_nd, ensure_min_samples, ensure_min_features, estimator, input_name)\u001b[0m\n\u001b[0;32m    854\u001b[0m         array \u001b[38;5;241m=\u001b[39m array\u001b[38;5;241m.\u001b[39mastype(dtype, casting\u001b[38;5;241m=\u001b[39m\u001b[38;5;124m\"\u001b[39m\u001b[38;5;124munsafe\u001b[39m\u001b[38;5;124m\"\u001b[39m, copy\u001b[38;5;241m=\u001b[39m\u001b[38;5;28;01mFalse\u001b[39;00m)\n\u001b[0;32m    855\u001b[0m     \u001b[38;5;28;01melse\u001b[39;00m:\n\u001b[1;32m--> 856\u001b[0m         array \u001b[38;5;241m=\u001b[39m \u001b[43mnp\u001b[49m\u001b[38;5;241;43m.\u001b[39;49m\u001b[43masarray\u001b[49m\u001b[43m(\u001b[49m\u001b[43marray\u001b[49m\u001b[43m,\u001b[49m\u001b[43m \u001b[49m\u001b[43morder\u001b[49m\u001b[38;5;241;43m=\u001b[39;49m\u001b[43morder\u001b[49m\u001b[43m,\u001b[49m\u001b[43m \u001b[49m\u001b[43mdtype\u001b[49m\u001b[38;5;241;43m=\u001b[39;49m\u001b[43mdtype\u001b[49m\u001b[43m)\u001b[49m\n\u001b[0;32m    857\u001b[0m \u001b[38;5;28;01mexcept\u001b[39;00m ComplexWarning \u001b[38;5;28;01mas\u001b[39;00m complex_warning:\n\u001b[0;32m    858\u001b[0m     \u001b[38;5;28;01mraise\u001b[39;00m \u001b[38;5;167;01mValueError\u001b[39;00m(\n\u001b[0;32m    859\u001b[0m         \u001b[38;5;124m\"\u001b[39m\u001b[38;5;124mComplex data not supported\u001b[39m\u001b[38;5;130;01m\\n\u001b[39;00m\u001b[38;5;132;01m{}\u001b[39;00m\u001b[38;5;130;01m\\n\u001b[39;00m\u001b[38;5;124m\"\u001b[39m\u001b[38;5;241m.\u001b[39mformat(array)\n\u001b[0;32m    860\u001b[0m     ) \u001b[38;5;28;01mfrom\u001b[39;00m \u001b[38;5;21;01mcomplex_warning\u001b[39;00m\n",
      "File \u001b[1;32m~\\OneDrive\\Desktop\\tnea-proj\\env\\lib\\site-packages\\pandas\\core\\generic.py:2064\u001b[0m, in \u001b[0;36mNDFrame.__array__\u001b[1;34m(self, dtype)\u001b[0m\n\u001b[0;32m   2063\u001b[0m \u001b[38;5;28;01mdef\u001b[39;00m \u001b[38;5;21m__array__\u001b[39m(\u001b[38;5;28mself\u001b[39m, dtype: npt\u001b[38;5;241m.\u001b[39mDTypeLike \u001b[38;5;241m|\u001b[39m \u001b[38;5;28;01mNone\u001b[39;00m \u001b[38;5;241m=\u001b[39m \u001b[38;5;28;01mNone\u001b[39;00m) \u001b[38;5;241m-\u001b[39m\u001b[38;5;241m>\u001b[39m np\u001b[38;5;241m.\u001b[39mndarray:\n\u001b[1;32m-> 2064\u001b[0m     \u001b[38;5;28;01mreturn\u001b[39;00m \u001b[43mnp\u001b[49m\u001b[38;5;241;43m.\u001b[39;49m\u001b[43masarray\u001b[49m\u001b[43m(\u001b[49m\u001b[38;5;28;43mself\u001b[39;49m\u001b[38;5;241;43m.\u001b[39;49m\u001b[43m_values\u001b[49m\u001b[43m,\u001b[49m\u001b[43m \u001b[49m\u001b[43mdtype\u001b[49m\u001b[38;5;241;43m=\u001b[39;49m\u001b[43mdtype\u001b[49m\u001b[43m)\u001b[49m\n",
      "\u001b[1;31mValueError\u001b[0m: could not convert string to float: 'UNIVERSITY DEPARTMENTS OF ANNA UNIVERSITY, CHENNAI - CEG CAMPUS,SARDAR PATEL ROAD, GUINDY,CHENNAI DIST, PIN - 600025.'"
     ]
    }
   ],
   "source": [
    "from sklearn.ensemble import RandomForestRegressor\n",
    "\n",
    "model = RandomForestRegressor(n_jobs=-1,random_state=42)\n",
    "\n",
    "model.fit(df_tmp.drop(\"OC\", axis=1), df_tmp[\"OC\"])"
   ]
  },
  {
   "cell_type": "code",
   "execution_count": 31,
   "id": "230f46cb",
   "metadata": {},
   "outputs": [
    {
     "name": "stdout",
     "output_type": "stream",
     "text": [
      "<class 'pandas.core.frame.DataFrame'>\n",
      "Int64Index: 240 entries, 0 to 239\n",
      "Data columns (total 12 columns):\n",
      " #   Column        Non-Null Count  Dtype  \n",
      "---  ------        --------------  -----  \n",
      " 0   College Code  240 non-null    int64  \n",
      " 1   College_Name  240 non-null    object \n",
      " 2   Branch Code   240 non-null    object \n",
      " 3   Branch Name   240 non-null    object \n",
      " 4   OC            240 non-null    float64\n",
      " 5   BC            227 non-null    float64\n",
      " 6   BCM           218 non-null    float64\n",
      " 7   MBC           228 non-null    float64\n",
      " 8   SC            228 non-null    float64\n",
      " 9   SCA           203 non-null    float64\n",
      " 10  ST            118 non-null    float64\n",
      " 11  tYear         240 non-null    int64  \n",
      "dtypes: float64(7), int64(2), object(3)\n",
      "memory usage: 24.4+ KB\n"
     ]
    }
   ],
   "source": [
    "df_tmp.info()"
   ]
  },
  {
   "cell_type": "code",
   "execution_count": null,
   "id": "1877a2b2",
   "metadata": {},
   "outputs": [],
   "source": [
    "df_tmp[\"College_Name\"].dtype"
   ]
  },
  {
   "cell_type": "code",
   "execution_count": 42,
   "id": "86b25056",
   "metadata": {},
   "outputs": [
    {
     "data": {
      "text/plain": [
       "Year              0\n",
       "College Code      0\n",
       "College_Name      0\n",
       "Branch Code       0\n",
       "Branch Name       0\n",
       "OC                0\n",
       "BC               13\n",
       "BCM              22\n",
       "MBC              12\n",
       "SC               12\n",
       "SCA              37\n",
       "ST              122\n",
       "dtype: int64"
      ]
     },
     "execution_count": 42,
     "metadata": {},
     "output_type": "execute_result"
    }
   ],
   "source": [
    "df.isna().sum()"
   ]
  },
  {
   "cell_type": "code",
   "execution_count": 34,
   "id": "1003d49f",
   "metadata": {},
   "outputs": [],
   "source": [
    "#model driven EDA"
   ]
  },
  {
   "cell_type": "markdown",
   "id": "2cf9e10e",
   "metadata": {},
   "source": [
    "# Convert string to categories"
   ]
  },
  {
   "cell_type": "code",
   "execution_count": 43,
   "id": "86ec93a5",
   "metadata": {},
   "outputs": [
    {
     "data": {
      "text/html": [
       "<div>\n",
       "<style scoped>\n",
       "    .dataframe tbody tr th:only-of-type {\n",
       "        vertical-align: middle;\n",
       "    }\n",
       "\n",
       "    .dataframe tbody tr th {\n",
       "        vertical-align: top;\n",
       "    }\n",
       "\n",
       "    .dataframe thead th {\n",
       "        text-align: right;\n",
       "    }\n",
       "</style>\n",
       "<table border=\"1\" class=\"dataframe\">\n",
       "  <thead>\n",
       "    <tr style=\"text-align: right;\">\n",
       "      <th></th>\n",
       "      <th>0</th>\n",
       "      <th>29</th>\n",
       "      <th>2</th>\n",
       "      <th>3</th>\n",
       "      <th>4</th>\n",
       "    </tr>\n",
       "  </thead>\n",
       "  <tbody>\n",
       "    <tr>\n",
       "      <th>College Code</th>\n",
       "      <td>1</td>\n",
       "      <td>4</td>\n",
       "      <td>1</td>\n",
       "      <td>1</td>\n",
       "      <td>1</td>\n",
       "    </tr>\n",
       "    <tr>\n",
       "      <th>College_Name</th>\n",
       "      <td>UNIVERSITY DEPARTMENTS OF ANNA UNIVERSITY, CHE...</td>\n",
       "      <td>UNIVERSITY DEPARTMENTS OF ANNA UNIVERSITY, CHE...</td>\n",
       "      <td>UNIVERSITY DEPARTMENTS OF ANNA UNIVERSITY, CHE...</td>\n",
       "      <td>UNIVERSITY DEPARTMENTS OF ANNA UNIVERSITY, CHE...</td>\n",
       "      <td>UNIVERSITY DEPARTMENTS OF ANNA UNIVERSITY, CHE...</td>\n",
       "    </tr>\n",
       "    <tr>\n",
       "      <th>Branch Code</th>\n",
       "      <td>AI</td>\n",
       "      <td>AE</td>\n",
       "      <td>CE</td>\n",
       "      <td>CM</td>\n",
       "      <td>CS</td>\n",
       "    </tr>\n",
       "    <tr>\n",
       "      <th>Branch Name</th>\n",
       "      <td>Agricultural and Irrigation Engg.(SS)</td>\n",
       "      <td>Aeronautical Engineering</td>\n",
       "      <td>Civil Engineering</td>\n",
       "      <td>Computer Science and Engg.(SS)</td>\n",
       "      <td>Computer Science and Engg.</td>\n",
       "    </tr>\n",
       "    <tr>\n",
       "      <th>OC</th>\n",
       "      <td>196.25</td>\n",
       "      <td>198.25</td>\n",
       "      <td>198.5</td>\n",
       "      <td>199.0</td>\n",
       "      <td>199.75</td>\n",
       "    </tr>\n",
       "    <tr>\n",
       "      <th>BC</th>\n",
       "      <td>195.25</td>\n",
       "      <td>197.33</td>\n",
       "      <td>198.0</td>\n",
       "      <td>198.75</td>\n",
       "      <td>199.5</td>\n",
       "    </tr>\n",
       "    <tr>\n",
       "      <th>BCM</th>\n",
       "      <td>193.25</td>\n",
       "      <td>197.75</td>\n",
       "      <td>197.5</td>\n",
       "      <td>199.0</td>\n",
       "      <td>199.5</td>\n",
       "    </tr>\n",
       "    <tr>\n",
       "      <th>MBC</th>\n",
       "      <td>194.25</td>\n",
       "      <td>197.0</td>\n",
       "      <td>197.5</td>\n",
       "      <td>197.75</td>\n",
       "      <td>199.0</td>\n",
       "    </tr>\n",
       "    <tr>\n",
       "      <th>SC</th>\n",
       "      <td>188.75</td>\n",
       "      <td>194.75</td>\n",
       "      <td>196.0</td>\n",
       "      <td>193.5</td>\n",
       "      <td>197.5</td>\n",
       "    </tr>\n",
       "    <tr>\n",
       "      <th>SCA</th>\n",
       "      <td>185.75</td>\n",
       "      <td>195.0</td>\n",
       "      <td>193.5</td>\n",
       "      <td>190.5</td>\n",
       "      <td>196.25</td>\n",
       "    </tr>\n",
       "    <tr>\n",
       "      <th>ST</th>\n",
       "      <td>175.25</td>\n",
       "      <td>NaN</td>\n",
       "      <td>196.0</td>\n",
       "      <td>193.33</td>\n",
       "      <td>193.75</td>\n",
       "    </tr>\n",
       "    <tr>\n",
       "      <th>tYear</th>\n",
       "      <td>2017</td>\n",
       "      <td>2017</td>\n",
       "      <td>2017</td>\n",
       "      <td>2017</td>\n",
       "      <td>2017</td>\n",
       "    </tr>\n",
       "  </tbody>\n",
       "</table>\n",
       "</div>"
      ],
      "text/plain": [
       "                                                             0   \\\n",
       "College Code                                                  1   \n",
       "College_Name  UNIVERSITY DEPARTMENTS OF ANNA UNIVERSITY, CHE...   \n",
       "Branch Code                                                  AI   \n",
       "Branch Name               Agricultural and Irrigation Engg.(SS)   \n",
       "OC                                                       196.25   \n",
       "BC                                                       195.25   \n",
       "BCM                                                      193.25   \n",
       "MBC                                                      194.25   \n",
       "SC                                                       188.75   \n",
       "SCA                                                      185.75   \n",
       "ST                                                       175.25   \n",
       "tYear                                                      2017   \n",
       "\n",
       "                                                             29  \\\n",
       "College Code                                                  4   \n",
       "College_Name  UNIVERSITY DEPARTMENTS OF ANNA UNIVERSITY, CHE...   \n",
       "Branch Code                                                  AE   \n",
       "Branch Name                            Aeronautical Engineering   \n",
       "OC                                                       198.25   \n",
       "BC                                                       197.33   \n",
       "BCM                                                      197.75   \n",
       "MBC                                                       197.0   \n",
       "SC                                                       194.75   \n",
       "SCA                                                       195.0   \n",
       "ST                                                          NaN   \n",
       "tYear                                                      2017   \n",
       "\n",
       "                                                             2   \\\n",
       "College Code                                                  1   \n",
       "College_Name  UNIVERSITY DEPARTMENTS OF ANNA UNIVERSITY, CHE...   \n",
       "Branch Code                                                  CE   \n",
       "Branch Name                                   Civil Engineering   \n",
       "OC                                                        198.5   \n",
       "BC                                                        198.0   \n",
       "BCM                                                       197.5   \n",
       "MBC                                                       197.5   \n",
       "SC                                                        196.0   \n",
       "SCA                                                       193.5   \n",
       "ST                                                        196.0   \n",
       "tYear                                                      2017   \n",
       "\n",
       "                                                             3   \\\n",
       "College Code                                                  1   \n",
       "College_Name  UNIVERSITY DEPARTMENTS OF ANNA UNIVERSITY, CHE...   \n",
       "Branch Code                                                  CM   \n",
       "Branch Name                      Computer Science and Engg.(SS)   \n",
       "OC                                                        199.0   \n",
       "BC                                                       198.75   \n",
       "BCM                                                       199.0   \n",
       "MBC                                                      197.75   \n",
       "SC                                                        193.5   \n",
       "SCA                                                       190.5   \n",
       "ST                                                       193.33   \n",
       "tYear                                                      2017   \n",
       "\n",
       "                                                             4   \n",
       "College Code                                                  1  \n",
       "College_Name  UNIVERSITY DEPARTMENTS OF ANNA UNIVERSITY, CHE...  \n",
       "Branch Code                                                  CS  \n",
       "Branch Name                          Computer Science and Engg.  \n",
       "OC                                                       199.75  \n",
       "BC                                                        199.5  \n",
       "BCM                                                       199.5  \n",
       "MBC                                                       199.0  \n",
       "SC                                                        197.5  \n",
       "SCA                                                      196.25  \n",
       "ST                                                       193.75  \n",
       "tYear                                                      2017  "
      ]
     },
     "execution_count": 43,
     "metadata": {},
     "output_type": "execute_result"
    }
   ],
   "source": [
    "df_tmp.head().T"
   ]
  },
  {
   "cell_type": "code",
   "execution_count": 44,
   "id": "28962860",
   "metadata": {},
   "outputs": [
    {
     "data": {
      "text/plain": [
       "True"
      ]
     },
     "execution_count": 44,
     "metadata": {},
     "output_type": "execute_result"
    }
   ],
   "source": [
    "pd.api.types.is_string_dtype(df_tmp[\"College_Name\"])"
   ]
  },
  {
   "cell_type": "code",
   "execution_count": 45,
   "id": "25cdd4bd",
   "metadata": {},
   "outputs": [
    {
     "name": "stdout",
     "output_type": "stream",
     "text": [
      "College_Name\n",
      "Branch Code\n",
      "Branch Name\n"
     ]
    }
   ],
   "source": [
    "for label, content in df_tmp.items():\n",
    "    if pd.api.types.is_string_dtype(content):\n",
    "        print(label)"
   ]
  },
  {
   "cell_type": "code",
   "execution_count": 46,
   "id": "77db77b1",
   "metadata": {},
   "outputs": [],
   "source": [
    "for label, content in df_tmp.items():\n",
    "    if pd.api.types.is_string_dtype(content):\n",
    "        df_tmp[label] = content.astype(\"category\").cat.as_ordered()"
   ]
  },
  {
   "cell_type": "code",
   "execution_count": 47,
   "id": "4ded9e3a",
   "metadata": {
    "scrolled": true
   },
   "outputs": [
    {
     "name": "stdout",
     "output_type": "stream",
     "text": [
      "<class 'pandas.core.frame.DataFrame'>\n",
      "Int64Index: 240 entries, 0 to 239\n",
      "Data columns (total 12 columns):\n",
      " #   Column        Non-Null Count  Dtype   \n",
      "---  ------        --------------  -----   \n",
      " 0   College Code  240 non-null    int64   \n",
      " 1   College_Name  240 non-null    category\n",
      " 2   Branch Code   240 non-null    category\n",
      " 3   Branch Name   240 non-null    category\n",
      " 4   OC            240 non-null    float64 \n",
      " 5   BC            227 non-null    float64 \n",
      " 6   BCM           218 non-null    float64 \n",
      " 7   MBC           228 non-null    float64 \n",
      " 8   SC            228 non-null    float64 \n",
      " 9   SCA           203 non-null    float64 \n",
      " 10  ST            118 non-null    float64 \n",
      " 11  tYear         240 non-null    int64   \n",
      "dtypes: category(3), float64(7), int64(2)\n",
      "memory usage: 24.3 KB\n"
     ]
    }
   ],
   "source": [
    "df_tmp.info()  #changed from obj to category"
   ]
  },
  {
   "cell_type": "code",
   "execution_count": 48,
   "id": "483551a4",
   "metadata": {},
   "outputs": [
    {
     "data": {
      "text/plain": [
       "Index(['Annamalai University Faculty of Engineering and Technology,Annamalai nagar,Cuddalore',\n",
       "       'Annamalai University Faculty of Engineering and Technology,Annamalai nagar,Cuddalore 608002',\n",
       "       'UNIVERSITY COLLEGE OF ENGINEERING, ARNI,ARNI TO DEVIKAPURAM ROAD, THATCHUR, ARNI,THIRUVANNAMALAI DIST, PIN - 632326.',\n",
       "       'UNIVERSITY COLLEGE OF ENGINEERING, KANCHIPURAM,NH-4, CHENNAI BANGALORE HIGHWAY, PONNERIKKARAI,KANCHEEPURAM DIST, PIN - 631552.',\n",
       "       'UNIVERSITY COLLEGE OF ENGINEERING, TINDIVANAM,IYYANTHOPE (POST) , MELPAKKAM (VILLAGE),VILLUPURAM DIST, PIN - 604001.',\n",
       "       'UNIVERSITY COLLEGE OF ENGINEERING, VILLUPURAM,VILLUPURAM (POST) , KAKUPPAM (VILLAGE),VILLUPURAM DIST, PIN - 605103.',\n",
       "       'UNIVERSITY DEPARTMENTS OF ANNA UNIVERSITY, CHENNAI - ACT CAMPUS,SARDAR PATEL ROAD, GUINDY,CHENNAI DIST, PIN - 600025.',\n",
       "       'UNIVERSITY DEPARTMENTS OF ANNA UNIVERSITY, CHENNAI - CEG CAMPUS,SARDAR PATEL ROAD, GUINDY,CHENNAI DIST, PIN - 600025.',\n",
       "       'UNIVERSITY DEPARTMENTS OF ANNA UNIVERSITY, CHENNAI - MIT CAMPUS,CHROMPET,,KANCHEEPURAM DIST, PIN - 600044.',\n",
       "       'University College of Engineering, Tindivanam, Melpakkam, Tindivanam, Villupuram District 604001',\n",
       "       'University College of Engineering, Villupuram, Kakuppam, Villupuram District 605103',\n",
       "       'University Departments of Anna University, Chennai - ACT Campus, Sardar Patel Road, Guindy, Chennai 600 025',\n",
       "       'University Departments of Anna University, Chennai - CEG Campus, Sardar Patel Road, Guindy, Chennai 600 025',\n",
       "       'University Departments of Anna University, Chennai - MIT Campus, Chrompet, Tambaram Taluk, Chengalpattu District 600 044',\n",
       "       'University Departments of Anna University, Chennai - MIT Campus, Chrompet, Tambaram Taluk, Kancheepuram District 600 044'],\n",
       "      dtype='object')"
      ]
     },
     "execution_count": 48,
     "metadata": {},
     "output_type": "execute_result"
    }
   ],
   "source": [
    "df_tmp.College_Name.cat.categories"
   ]
  },
  {
   "cell_type": "code",
   "execution_count": 49,
   "id": "a46ccedd",
   "metadata": {},
   "outputs": [
    {
     "data": {
      "text/plain": [
       "0       7\n",
       "29      8\n",
       "2       7\n",
       "3       7\n",
       "4       7\n",
       "       ..\n",
       "235    10\n",
       "236    10\n",
       "210    13\n",
       "209    13\n",
       "239     9\n",
       "Length: 240, dtype: int8"
      ]
     },
     "execution_count": 49,
     "metadata": {},
     "output_type": "execute_result"
    }
   ],
   "source": [
    "df_tmp.College_Name.cat.codes"
   ]
  },
  {
   "cell_type": "code",
   "execution_count": 50,
   "id": "8f0b5c4f",
   "metadata": {},
   "outputs": [
    {
     "data": {
      "text/plain": [
       "College Code    0.000000\n",
       "College_Name    0.000000\n",
       "Branch Code     0.000000\n",
       "Branch Name     0.000000\n",
       "OC              0.000000\n",
       "BC              0.054167\n",
       "BCM             0.091667\n",
       "MBC             0.050000\n",
       "SC              0.050000\n",
       "SCA             0.154167\n",
       "ST              0.508333\n",
       "tYear           0.000000\n",
       "dtype: float64"
      ]
     },
     "execution_count": 50,
     "metadata": {},
     "output_type": "execute_result"
    }
   ],
   "source": [
    "df_tmp.isnull().sum()/len(df_tmp)"
   ]
  },
  {
   "cell_type": "markdown",
   "id": "f12a01eb",
   "metadata": {},
   "source": [
    "# Save preprocessed data"
   ]
  },
  {
   "cell_type": "code",
   "execution_count": 53,
   "id": "4bc49d1b",
   "metadata": {},
   "outputs": [
    {
     "ename": "PermissionError",
     "evalue": "[Errno 13] Permission denied: 'data/train_tmp.csv'",
     "output_type": "error",
     "traceback": [
      "\u001b[1;31m---------------------------------------------------------------------------\u001b[0m",
      "\u001b[1;31mPermissionError\u001b[0m                           Traceback (most recent call last)",
      "Cell \u001b[1;32mIn [53], line 1\u001b[0m\n\u001b[1;32m----> 1\u001b[0m \u001b[43mdf_tmp\u001b[49m\u001b[38;5;241;43m.\u001b[39;49m\u001b[43mto_csv\u001b[49m\u001b[43m(\u001b[49m\u001b[38;5;124;43m\"\u001b[39;49m\u001b[38;5;124;43mdata/train_tmp.csv\u001b[39;49m\u001b[38;5;124;43m\"\u001b[39;49m\u001b[43m,\u001b[49m\u001b[43mindex\u001b[49m\u001b[38;5;241;43m=\u001b[39;49m\u001b[38;5;28;43;01mFalse\u001b[39;49;00m\u001b[43m)\u001b[49m\n",
      "File \u001b[1;32m~\\OneDrive\\Desktop\\tnea-proj\\env\\lib\\site-packages\\pandas\\core\\generic.py:3551\u001b[0m, in \u001b[0;36mNDFrame.to_csv\u001b[1;34m(self, path_or_buf, sep, na_rep, float_format, columns, header, index, index_label, mode, encoding, compression, quoting, quotechar, line_terminator, chunksize, date_format, doublequote, escapechar, decimal, errors, storage_options)\u001b[0m\n\u001b[0;32m   3540\u001b[0m df \u001b[38;5;241m=\u001b[39m \u001b[38;5;28mself\u001b[39m \u001b[38;5;28;01mif\u001b[39;00m \u001b[38;5;28misinstance\u001b[39m(\u001b[38;5;28mself\u001b[39m, ABCDataFrame) \u001b[38;5;28;01melse\u001b[39;00m \u001b[38;5;28mself\u001b[39m\u001b[38;5;241m.\u001b[39mto_frame()\n\u001b[0;32m   3542\u001b[0m formatter \u001b[38;5;241m=\u001b[39m DataFrameFormatter(\n\u001b[0;32m   3543\u001b[0m     frame\u001b[38;5;241m=\u001b[39mdf,\n\u001b[0;32m   3544\u001b[0m     header\u001b[38;5;241m=\u001b[39mheader,\n\u001b[1;32m   (...)\u001b[0m\n\u001b[0;32m   3548\u001b[0m     decimal\u001b[38;5;241m=\u001b[39mdecimal,\n\u001b[0;32m   3549\u001b[0m )\n\u001b[1;32m-> 3551\u001b[0m \u001b[38;5;28;01mreturn\u001b[39;00m \u001b[43mDataFrameRenderer\u001b[49m\u001b[43m(\u001b[49m\u001b[43mformatter\u001b[49m\u001b[43m)\u001b[49m\u001b[38;5;241;43m.\u001b[39;49m\u001b[43mto_csv\u001b[49m\u001b[43m(\u001b[49m\n\u001b[0;32m   3552\u001b[0m \u001b[43m    \u001b[49m\u001b[43mpath_or_buf\u001b[49m\u001b[43m,\u001b[49m\n\u001b[0;32m   3553\u001b[0m \u001b[43m    \u001b[49m\u001b[43mline_terminator\u001b[49m\u001b[38;5;241;43m=\u001b[39;49m\u001b[43mline_terminator\u001b[49m\u001b[43m,\u001b[49m\n\u001b[0;32m   3554\u001b[0m \u001b[43m    \u001b[49m\u001b[43msep\u001b[49m\u001b[38;5;241;43m=\u001b[39;49m\u001b[43msep\u001b[49m\u001b[43m,\u001b[49m\n\u001b[0;32m   3555\u001b[0m \u001b[43m    \u001b[49m\u001b[43mencoding\u001b[49m\u001b[38;5;241;43m=\u001b[39;49m\u001b[43mencoding\u001b[49m\u001b[43m,\u001b[49m\n\u001b[0;32m   3556\u001b[0m \u001b[43m    \u001b[49m\u001b[43merrors\u001b[49m\u001b[38;5;241;43m=\u001b[39;49m\u001b[43merrors\u001b[49m\u001b[43m,\u001b[49m\n\u001b[0;32m   3557\u001b[0m \u001b[43m    \u001b[49m\u001b[43mcompression\u001b[49m\u001b[38;5;241;43m=\u001b[39;49m\u001b[43mcompression\u001b[49m\u001b[43m,\u001b[49m\n\u001b[0;32m   3558\u001b[0m \u001b[43m    \u001b[49m\u001b[43mquoting\u001b[49m\u001b[38;5;241;43m=\u001b[39;49m\u001b[43mquoting\u001b[49m\u001b[43m,\u001b[49m\n\u001b[0;32m   3559\u001b[0m \u001b[43m    \u001b[49m\u001b[43mcolumns\u001b[49m\u001b[38;5;241;43m=\u001b[39;49m\u001b[43mcolumns\u001b[49m\u001b[43m,\u001b[49m\n\u001b[0;32m   3560\u001b[0m \u001b[43m    \u001b[49m\u001b[43mindex_label\u001b[49m\u001b[38;5;241;43m=\u001b[39;49m\u001b[43mindex_label\u001b[49m\u001b[43m,\u001b[49m\n\u001b[0;32m   3561\u001b[0m \u001b[43m    \u001b[49m\u001b[43mmode\u001b[49m\u001b[38;5;241;43m=\u001b[39;49m\u001b[43mmode\u001b[49m\u001b[43m,\u001b[49m\n\u001b[0;32m   3562\u001b[0m \u001b[43m    \u001b[49m\u001b[43mchunksize\u001b[49m\u001b[38;5;241;43m=\u001b[39;49m\u001b[43mchunksize\u001b[49m\u001b[43m,\u001b[49m\n\u001b[0;32m   3563\u001b[0m \u001b[43m    \u001b[49m\u001b[43mquotechar\u001b[49m\u001b[38;5;241;43m=\u001b[39;49m\u001b[43mquotechar\u001b[49m\u001b[43m,\u001b[49m\n\u001b[0;32m   3564\u001b[0m \u001b[43m    \u001b[49m\u001b[43mdate_format\u001b[49m\u001b[38;5;241;43m=\u001b[39;49m\u001b[43mdate_format\u001b[49m\u001b[43m,\u001b[49m\n\u001b[0;32m   3565\u001b[0m \u001b[43m    \u001b[49m\u001b[43mdoublequote\u001b[49m\u001b[38;5;241;43m=\u001b[39;49m\u001b[43mdoublequote\u001b[49m\u001b[43m,\u001b[49m\n\u001b[0;32m   3566\u001b[0m \u001b[43m    \u001b[49m\u001b[43mescapechar\u001b[49m\u001b[38;5;241;43m=\u001b[39;49m\u001b[43mescapechar\u001b[49m\u001b[43m,\u001b[49m\n\u001b[0;32m   3567\u001b[0m \u001b[43m    \u001b[49m\u001b[43mstorage_options\u001b[49m\u001b[38;5;241;43m=\u001b[39;49m\u001b[43mstorage_options\u001b[49m\u001b[43m,\u001b[49m\n\u001b[0;32m   3568\u001b[0m \u001b[43m\u001b[49m\u001b[43m)\u001b[49m\n",
      "File \u001b[1;32m~\\OneDrive\\Desktop\\tnea-proj\\env\\lib\\site-packages\\pandas\\io\\formats\\format.py:1180\u001b[0m, in \u001b[0;36mDataFrameRenderer.to_csv\u001b[1;34m(self, path_or_buf, encoding, sep, columns, index_label, mode, compression, quoting, quotechar, line_terminator, chunksize, date_format, doublequote, escapechar, errors, storage_options)\u001b[0m\n\u001b[0;32m   1159\u001b[0m     created_buffer \u001b[38;5;241m=\u001b[39m \u001b[38;5;28;01mFalse\u001b[39;00m\n\u001b[0;32m   1161\u001b[0m csv_formatter \u001b[38;5;241m=\u001b[39m CSVFormatter(\n\u001b[0;32m   1162\u001b[0m     path_or_buf\u001b[38;5;241m=\u001b[39mpath_or_buf,\n\u001b[0;32m   1163\u001b[0m     line_terminator\u001b[38;5;241m=\u001b[39mline_terminator,\n\u001b[1;32m   (...)\u001b[0m\n\u001b[0;32m   1178\u001b[0m     formatter\u001b[38;5;241m=\u001b[39m\u001b[38;5;28mself\u001b[39m\u001b[38;5;241m.\u001b[39mfmt,\n\u001b[0;32m   1179\u001b[0m )\n\u001b[1;32m-> 1180\u001b[0m \u001b[43mcsv_formatter\u001b[49m\u001b[38;5;241;43m.\u001b[39;49m\u001b[43msave\u001b[49m\u001b[43m(\u001b[49m\u001b[43m)\u001b[49m\n\u001b[0;32m   1182\u001b[0m \u001b[38;5;28;01mif\u001b[39;00m created_buffer:\n\u001b[0;32m   1183\u001b[0m     \u001b[38;5;28;01massert\u001b[39;00m \u001b[38;5;28misinstance\u001b[39m(path_or_buf, StringIO)\n",
      "File \u001b[1;32m~\\OneDrive\\Desktop\\tnea-proj\\env\\lib\\site-packages\\pandas\\io\\formats\\csvs.py:241\u001b[0m, in \u001b[0;36mCSVFormatter.save\u001b[1;34m(self)\u001b[0m\n\u001b[0;32m    237\u001b[0m \u001b[38;5;124;03m\"\"\"\u001b[39;00m\n\u001b[0;32m    238\u001b[0m \u001b[38;5;124;03mCreate the writer & save.\u001b[39;00m\n\u001b[0;32m    239\u001b[0m \u001b[38;5;124;03m\"\"\"\u001b[39;00m\n\u001b[0;32m    240\u001b[0m \u001b[38;5;66;03m# apply compression and byte/text conversion\u001b[39;00m\n\u001b[1;32m--> 241\u001b[0m \u001b[38;5;28;01mwith\u001b[39;00m \u001b[43mget_handle\u001b[49m\u001b[43m(\u001b[49m\n\u001b[0;32m    242\u001b[0m \u001b[43m    \u001b[49m\u001b[38;5;28;43mself\u001b[39;49m\u001b[38;5;241;43m.\u001b[39;49m\u001b[43mfilepath_or_buffer\u001b[49m\u001b[43m,\u001b[49m\n\u001b[0;32m    243\u001b[0m \u001b[43m    \u001b[49m\u001b[38;5;28;43mself\u001b[39;49m\u001b[38;5;241;43m.\u001b[39;49m\u001b[43mmode\u001b[49m\u001b[43m,\u001b[49m\n\u001b[0;32m    244\u001b[0m \u001b[43m    \u001b[49m\u001b[43mencoding\u001b[49m\u001b[38;5;241;43m=\u001b[39;49m\u001b[38;5;28;43mself\u001b[39;49m\u001b[38;5;241;43m.\u001b[39;49m\u001b[43mencoding\u001b[49m\u001b[43m,\u001b[49m\n\u001b[0;32m    245\u001b[0m \u001b[43m    \u001b[49m\u001b[43merrors\u001b[49m\u001b[38;5;241;43m=\u001b[39;49m\u001b[38;5;28;43mself\u001b[39;49m\u001b[38;5;241;43m.\u001b[39;49m\u001b[43merrors\u001b[49m\u001b[43m,\u001b[49m\n\u001b[0;32m    246\u001b[0m \u001b[43m    \u001b[49m\u001b[43mcompression\u001b[49m\u001b[38;5;241;43m=\u001b[39;49m\u001b[38;5;28;43mself\u001b[39;49m\u001b[38;5;241;43m.\u001b[39;49m\u001b[43mcompression\u001b[49m\u001b[43m,\u001b[49m\n\u001b[0;32m    247\u001b[0m \u001b[43m    \u001b[49m\u001b[43mstorage_options\u001b[49m\u001b[38;5;241;43m=\u001b[39;49m\u001b[38;5;28;43mself\u001b[39;49m\u001b[38;5;241;43m.\u001b[39;49m\u001b[43mstorage_options\u001b[49m\u001b[43m,\u001b[49m\n\u001b[0;32m    248\u001b[0m \u001b[43m\u001b[49m\u001b[43m)\u001b[49m \u001b[38;5;28;01mas\u001b[39;00m handles:\n\u001b[0;32m    249\u001b[0m \n\u001b[0;32m    250\u001b[0m     \u001b[38;5;66;03m# Note: self.encoding is irrelevant here\u001b[39;00m\n\u001b[0;32m    251\u001b[0m     \u001b[38;5;28mself\u001b[39m\u001b[38;5;241m.\u001b[39mwriter \u001b[38;5;241m=\u001b[39m csvlib\u001b[38;5;241m.\u001b[39mwriter(\n\u001b[0;32m    252\u001b[0m         handles\u001b[38;5;241m.\u001b[39mhandle,\n\u001b[0;32m    253\u001b[0m         lineterminator\u001b[38;5;241m=\u001b[39m\u001b[38;5;28mself\u001b[39m\u001b[38;5;241m.\u001b[39mline_terminator,\n\u001b[1;32m   (...)\u001b[0m\n\u001b[0;32m    258\u001b[0m         quotechar\u001b[38;5;241m=\u001b[39m\u001b[38;5;28mself\u001b[39m\u001b[38;5;241m.\u001b[39mquotechar,\n\u001b[0;32m    259\u001b[0m     )\n\u001b[0;32m    261\u001b[0m     \u001b[38;5;28mself\u001b[39m\u001b[38;5;241m.\u001b[39m_save()\n",
      "File \u001b[1;32m~\\OneDrive\\Desktop\\tnea-proj\\env\\lib\\site-packages\\pandas\\io\\common.py:786\u001b[0m, in \u001b[0;36mget_handle\u001b[1;34m(path_or_buf, mode, encoding, compression, memory_map, is_text, errors, storage_options)\u001b[0m\n\u001b[0;32m    781\u001b[0m \u001b[38;5;28;01melif\u001b[39;00m \u001b[38;5;28misinstance\u001b[39m(handle, \u001b[38;5;28mstr\u001b[39m):\n\u001b[0;32m    782\u001b[0m     \u001b[38;5;66;03m# Check whether the filename is to be opened in binary mode.\u001b[39;00m\n\u001b[0;32m    783\u001b[0m     \u001b[38;5;66;03m# Binary mode does not support 'encoding' and 'newline'.\u001b[39;00m\n\u001b[0;32m    784\u001b[0m     \u001b[38;5;28;01mif\u001b[39;00m ioargs\u001b[38;5;241m.\u001b[39mencoding \u001b[38;5;129;01mand\u001b[39;00m \u001b[38;5;124m\"\u001b[39m\u001b[38;5;124mb\u001b[39m\u001b[38;5;124m\"\u001b[39m \u001b[38;5;129;01mnot\u001b[39;00m \u001b[38;5;129;01min\u001b[39;00m ioargs\u001b[38;5;241m.\u001b[39mmode:\n\u001b[0;32m    785\u001b[0m         \u001b[38;5;66;03m# Encoding\u001b[39;00m\n\u001b[1;32m--> 786\u001b[0m         handle \u001b[38;5;241m=\u001b[39m \u001b[38;5;28;43mopen\u001b[39;49m\u001b[43m(\u001b[49m\n\u001b[0;32m    787\u001b[0m \u001b[43m            \u001b[49m\u001b[43mhandle\u001b[49m\u001b[43m,\u001b[49m\n\u001b[0;32m    788\u001b[0m \u001b[43m            \u001b[49m\u001b[43mioargs\u001b[49m\u001b[38;5;241;43m.\u001b[39;49m\u001b[43mmode\u001b[49m\u001b[43m,\u001b[49m\n\u001b[0;32m    789\u001b[0m \u001b[43m            \u001b[49m\u001b[43mencoding\u001b[49m\u001b[38;5;241;43m=\u001b[39;49m\u001b[43mioargs\u001b[49m\u001b[38;5;241;43m.\u001b[39;49m\u001b[43mencoding\u001b[49m\u001b[43m,\u001b[49m\n\u001b[0;32m    790\u001b[0m \u001b[43m            \u001b[49m\u001b[43merrors\u001b[49m\u001b[38;5;241;43m=\u001b[39;49m\u001b[43merrors\u001b[49m\u001b[43m,\u001b[49m\n\u001b[0;32m    791\u001b[0m \u001b[43m            \u001b[49m\u001b[43mnewline\u001b[49m\u001b[38;5;241;43m=\u001b[39;49m\u001b[38;5;124;43m\"\u001b[39;49m\u001b[38;5;124;43m\"\u001b[39;49m\u001b[43m,\u001b[49m\n\u001b[0;32m    792\u001b[0m \u001b[43m        \u001b[49m\u001b[43m)\u001b[49m\n\u001b[0;32m    793\u001b[0m     \u001b[38;5;28;01melse\u001b[39;00m:\n\u001b[0;32m    794\u001b[0m         \u001b[38;5;66;03m# Binary mode\u001b[39;00m\n\u001b[0;32m    795\u001b[0m         handle \u001b[38;5;241m=\u001b[39m \u001b[38;5;28mopen\u001b[39m(handle, ioargs\u001b[38;5;241m.\u001b[39mmode)\n",
      "\u001b[1;31mPermissionError\u001b[0m: [Errno 13] Permission denied: 'data/train_tmp.csv'"
     ]
    }
   ],
   "source": [
    "df_tmp.to_csv(\"data/train_tmp.csv\",index=False)"
   ]
  },
  {
   "cell_type": "code",
   "execution_count": 54,
   "id": "faea6ef1",
   "metadata": {
    "scrolled": true
   },
   "outputs": [
    {
     "data": {
      "text/html": [
       "<div>\n",
       "<style scoped>\n",
       "    .dataframe tbody tr th:only-of-type {\n",
       "        vertical-align: middle;\n",
       "    }\n",
       "\n",
       "    .dataframe tbody tr th {\n",
       "        vertical-align: top;\n",
       "    }\n",
       "\n",
       "    .dataframe thead th {\n",
       "        text-align: right;\n",
       "    }\n",
       "</style>\n",
       "<table border=\"1\" class=\"dataframe\">\n",
       "  <thead>\n",
       "    <tr style=\"text-align: right;\">\n",
       "      <th></th>\n",
       "      <th>0</th>\n",
       "      <th>1</th>\n",
       "      <th>2</th>\n",
       "      <th>3</th>\n",
       "      <th>4</th>\n",
       "    </tr>\n",
       "  </thead>\n",
       "  <tbody>\n",
       "    <tr>\n",
       "      <th>College Code</th>\n",
       "      <td>1</td>\n",
       "      <td>4</td>\n",
       "      <td>4</td>\n",
       "      <td>4</td>\n",
       "      <td>4</td>\n",
       "    </tr>\n",
       "    <tr>\n",
       "      <th>College_Name</th>\n",
       "      <td>UNIVERSITY DEPARTMENTS OF ANNA UNIVERSITY, CHE...</td>\n",
       "      <td>UNIVERSITY DEPARTMENTS OF ANNA UNIVERSITY, CHE...</td>\n",
       "      <td>UNIVERSITY DEPARTMENTS OF ANNA UNIVERSITY, CHE...</td>\n",
       "      <td>UNIVERSITY DEPARTMENTS OF ANNA UNIVERSITY, CHE...</td>\n",
       "      <td>UNIVERSITY DEPARTMENTS OF ANNA UNIVERSITY, CHE...</td>\n",
       "    </tr>\n",
       "    <tr>\n",
       "      <th>Branch Code</th>\n",
       "      <td>AI</td>\n",
       "      <td>CM</td>\n",
       "      <td>CS</td>\n",
       "      <td>EC</td>\n",
       "      <td>EI</td>\n",
       "    </tr>\n",
       "    <tr>\n",
       "      <th>Branch Name</th>\n",
       "      <td>Agricultural and Irrigation Engg.(SS)</td>\n",
       "      <td>Computer Science and Engg.(SS)</td>\n",
       "      <td>Computer Science and Engg.</td>\n",
       "      <td>Electronics and Comm Engg.</td>\n",
       "      <td>Electronics and Instru Engg.</td>\n",
       "    </tr>\n",
       "    <tr>\n",
       "      <th>OC</th>\n",
       "      <td>196.25</td>\n",
       "      <td>198.5</td>\n",
       "      <td>198.75</td>\n",
       "      <td>199.25</td>\n",
       "      <td>198.25</td>\n",
       "    </tr>\n",
       "    <tr>\n",
       "      <th>BC</th>\n",
       "      <td>195.25</td>\n",
       "      <td>198.33</td>\n",
       "      <td>198.5</td>\n",
       "      <td>199.0</td>\n",
       "      <td>198.0</td>\n",
       "    </tr>\n",
       "    <tr>\n",
       "      <th>BCM</th>\n",
       "      <td>193.25</td>\n",
       "      <td>197.5</td>\n",
       "      <td>198.0</td>\n",
       "      <td>198.0</td>\n",
       "      <td>197.75</td>\n",
       "    </tr>\n",
       "    <tr>\n",
       "      <th>MBC</th>\n",
       "      <td>194.25</td>\n",
       "      <td>197.0</td>\n",
       "      <td>197.75</td>\n",
       "      <td>198.25</td>\n",
       "      <td>197.25</td>\n",
       "    </tr>\n",
       "    <tr>\n",
       "      <th>SC</th>\n",
       "      <td>188.75</td>\n",
       "      <td>192.0</td>\n",
       "      <td>195.0</td>\n",
       "      <td>196.5</td>\n",
       "      <td>192.75</td>\n",
       "    </tr>\n",
       "    <tr>\n",
       "      <th>SCA</th>\n",
       "      <td>185.75</td>\n",
       "      <td>186.0</td>\n",
       "      <td>197.5</td>\n",
       "      <td>196.25</td>\n",
       "      <td>190.75</td>\n",
       "    </tr>\n",
       "    <tr>\n",
       "      <th>ST</th>\n",
       "      <td>175.25</td>\n",
       "      <td>NaN</td>\n",
       "      <td>192.25</td>\n",
       "      <td>188.25</td>\n",
       "      <td>176.5</td>\n",
       "    </tr>\n",
       "    <tr>\n",
       "      <th>tYear</th>\n",
       "      <td>2017</td>\n",
       "      <td>2017</td>\n",
       "      <td>2017</td>\n",
       "      <td>2017</td>\n",
       "      <td>2017</td>\n",
       "    </tr>\n",
       "  </tbody>\n",
       "</table>\n",
       "</div>"
      ],
      "text/plain": [
       "                                                              0  \\\n",
       "College Code                                                  1   \n",
       "College_Name  UNIVERSITY DEPARTMENTS OF ANNA UNIVERSITY, CHE...   \n",
       "Branch Code                                                  AI   \n",
       "Branch Name               Agricultural and Irrigation Engg.(SS)   \n",
       "OC                                                       196.25   \n",
       "BC                                                       195.25   \n",
       "BCM                                                      193.25   \n",
       "MBC                                                      194.25   \n",
       "SC                                                       188.75   \n",
       "SCA                                                      185.75   \n",
       "ST                                                       175.25   \n",
       "tYear                                                      2017   \n",
       "\n",
       "                                                              1  \\\n",
       "College Code                                                  4   \n",
       "College_Name  UNIVERSITY DEPARTMENTS OF ANNA UNIVERSITY, CHE...   \n",
       "Branch Code                                                  CM   \n",
       "Branch Name                      Computer Science and Engg.(SS)   \n",
       "OC                                                        198.5   \n",
       "BC                                                       198.33   \n",
       "BCM                                                       197.5   \n",
       "MBC                                                       197.0   \n",
       "SC                                                        192.0   \n",
       "SCA                                                       186.0   \n",
       "ST                                                          NaN   \n",
       "tYear                                                      2017   \n",
       "\n",
       "                                                              2  \\\n",
       "College Code                                                  4   \n",
       "College_Name  UNIVERSITY DEPARTMENTS OF ANNA UNIVERSITY, CHE...   \n",
       "Branch Code                                                  CS   \n",
       "Branch Name                          Computer Science and Engg.   \n",
       "OC                                                       198.75   \n",
       "BC                                                        198.5   \n",
       "BCM                                                       198.0   \n",
       "MBC                                                      197.75   \n",
       "SC                                                        195.0   \n",
       "SCA                                                       197.5   \n",
       "ST                                                       192.25   \n",
       "tYear                                                      2017   \n",
       "\n",
       "                                                              3  \\\n",
       "College Code                                                  4   \n",
       "College_Name  UNIVERSITY DEPARTMENTS OF ANNA UNIVERSITY, CHE...   \n",
       "Branch Code                                                  EC   \n",
       "Branch Name                          Electronics and Comm Engg.   \n",
       "OC                                                       199.25   \n",
       "BC                                                        199.0   \n",
       "BCM                                                       198.0   \n",
       "MBC                                                      198.25   \n",
       "SC                                                        196.5   \n",
       "SCA                                                      196.25   \n",
       "ST                                                       188.25   \n",
       "tYear                                                      2017   \n",
       "\n",
       "                                                              4  \n",
       "College Code                                                  4  \n",
       "College_Name  UNIVERSITY DEPARTMENTS OF ANNA UNIVERSITY, CHE...  \n",
       "Branch Code                                                  EI  \n",
       "Branch Name                        Electronics and Instru Engg.  \n",
       "OC                                                       198.25  \n",
       "BC                                                        198.0  \n",
       "BCM                                                      197.75  \n",
       "MBC                                                      197.25  \n",
       "SC                                                       192.75  \n",
       "SCA                                                      190.75  \n",
       "ST                                                        176.5  \n",
       "tYear                                                      2017  "
      ]
     },
     "execution_count": 54,
     "metadata": {},
     "output_type": "execute_result"
    }
   ],
   "source": [
    "df_tmp = pd.read_csv(\"data/train_tmp.csv\",low_memory=False)\n",
    "df_tmp.head().T"
   ]
  },
  {
   "cell_type": "code",
   "execution_count": 55,
   "id": "6899a5c4",
   "metadata": {},
   "outputs": [
    {
     "data": {
      "text/plain": [
       "College Code      0\n",
       "College_Name      0\n",
       "Branch Code       0\n",
       "Branch Name       0\n",
       "OC                0\n",
       "BC               13\n",
       "BCM              22\n",
       "MBC              12\n",
       "SC               12\n",
       "SCA              37\n",
       "ST              122\n",
       "tYear             0\n",
       "dtype: int64"
      ]
     },
     "execution_count": 55,
     "metadata": {},
     "output_type": "execute_result"
    }
   ],
   "source": [
    "df_tmp.isna().sum()"
   ]
  },
  {
   "cell_type": "markdown",
   "id": "51a0996b",
   "metadata": {},
   "source": [
    "# Fill missing values\n",
    "Fill numerical missing values first"
   ]
  },
  {
   "cell_type": "code",
   "execution_count": 56,
   "id": "c3256d7c",
   "metadata": {},
   "outputs": [
    {
     "name": "stdout",
     "output_type": "stream",
     "text": [
      "College Code\n",
      "OC\n",
      "BC\n",
      "BCM\n",
      "MBC\n",
      "SC\n",
      "SCA\n",
      "ST\n",
      "tYear\n"
     ]
    }
   ],
   "source": [
    "for label, content in df_tmp.items():\n",
    "    if pd.api.types.is_numeric_dtype(content):\n",
    "        print(label)"
   ]
  },
  {
   "cell_type": "code",
   "execution_count": 57,
   "id": "6260ca6b",
   "metadata": {},
   "outputs": [
    {
     "data": {
      "text/plain": [
       "0      193.25\n",
       "1      197.50\n",
       "2      198.00\n",
       "3      198.00\n",
       "4      197.75\n",
       "        ...  \n",
       "235    162.50\n",
       "236    174.50\n",
       "237    175.50\n",
       "238    189.50\n",
       "239     86.00\n",
       "Name: BCM, Length: 240, dtype: float64"
      ]
     },
     "execution_count": 57,
     "metadata": {},
     "output_type": "execute_result"
    }
   ],
   "source": [
    "df_tmp.BCM"
   ]
  },
  {
   "cell_type": "code",
   "execution_count": 58,
   "id": "a69980ce",
   "metadata": {},
   "outputs": [
    {
     "name": "stdout",
     "output_type": "stream",
     "text": [
      "BC\n",
      "BCM\n",
      "MBC\n",
      "SC\n",
      "SCA\n",
      "ST\n"
     ]
    }
   ],
   "source": [
    "for label, content in df_tmp.items():\n",
    "    if pd.api.types.is_numeric_dtype(content):\n",
    "        if pd.isnull(content).sum():\n",
    "            print(label)"
   ]
  },
  {
   "cell_type": "code",
   "execution_count": 59,
   "id": "fa82158a",
   "metadata": {},
   "outputs": [],
   "source": [
    "for label, content in df_tmp.items():\n",
    "    if pd.api.types.is_numeric_dtype(content):\n",
    "        if pd.isnull(content).sum():\n",
    "\n",
    "            df_tmp[label+\"_is_missing\"] = pd.isnull(content)\n",
    "            \n",
    "            df_tmp[label] = content.fillna(content.median())"
   ]
  },
  {
   "cell_type": "code",
   "execution_count": 60,
   "id": "bf7f70f9",
   "metadata": {},
   "outputs": [],
   "source": [
    "for label, content in df_tmp.items():\n",
    "    if pd.api.types.is_numeric_dtype(content):\n",
    "        if pd.isnull(content).sum():\n",
    "            print(label)"
   ]
  },
  {
   "cell_type": "code",
   "execution_count": 61,
   "id": "40a67887",
   "metadata": {},
   "outputs": [
    {
     "ename": "AttributeError",
     "evalue": "'DataFrame' object has no attribute 'MBCDNC_is_missing'",
     "output_type": "error",
     "traceback": [
      "\u001b[1;31m---------------------------------------------------------------------------\u001b[0m",
      "\u001b[1;31mAttributeError\u001b[0m                            Traceback (most recent call last)",
      "Cell \u001b[1;32mIn [61], line 1\u001b[0m\n\u001b[1;32m----> 1\u001b[0m \u001b[43mdf_tmp\u001b[49m\u001b[38;5;241;43m.\u001b[39;49m\u001b[43mMBCDNC_is_missing\u001b[49m\u001b[38;5;241m.\u001b[39mvalue_counts()\n",
      "File \u001b[1;32m~\\OneDrive\\Desktop\\tnea-proj\\env\\lib\\site-packages\\pandas\\core\\generic.py:5575\u001b[0m, in \u001b[0;36mNDFrame.__getattr__\u001b[1;34m(self, name)\u001b[0m\n\u001b[0;32m   5568\u001b[0m \u001b[38;5;28;01mif\u001b[39;00m (\n\u001b[0;32m   5569\u001b[0m     name \u001b[38;5;129;01mnot\u001b[39;00m \u001b[38;5;129;01min\u001b[39;00m \u001b[38;5;28mself\u001b[39m\u001b[38;5;241m.\u001b[39m_internal_names_set\n\u001b[0;32m   5570\u001b[0m     \u001b[38;5;129;01mand\u001b[39;00m name \u001b[38;5;129;01mnot\u001b[39;00m \u001b[38;5;129;01min\u001b[39;00m \u001b[38;5;28mself\u001b[39m\u001b[38;5;241m.\u001b[39m_metadata\n\u001b[0;32m   5571\u001b[0m     \u001b[38;5;129;01mand\u001b[39;00m name \u001b[38;5;129;01mnot\u001b[39;00m \u001b[38;5;129;01min\u001b[39;00m \u001b[38;5;28mself\u001b[39m\u001b[38;5;241m.\u001b[39m_accessors\n\u001b[0;32m   5572\u001b[0m     \u001b[38;5;129;01mand\u001b[39;00m \u001b[38;5;28mself\u001b[39m\u001b[38;5;241m.\u001b[39m_info_axis\u001b[38;5;241m.\u001b[39m_can_hold_identifiers_and_holds_name(name)\n\u001b[0;32m   5573\u001b[0m ):\n\u001b[0;32m   5574\u001b[0m     \u001b[38;5;28;01mreturn\u001b[39;00m \u001b[38;5;28mself\u001b[39m[name]\n\u001b[1;32m-> 5575\u001b[0m \u001b[38;5;28;01mreturn\u001b[39;00m \u001b[38;5;28;43mobject\u001b[39;49m\u001b[38;5;241;43m.\u001b[39;49m\u001b[38;5;21;43m__getattribute__\u001b[39;49m\u001b[43m(\u001b[49m\u001b[38;5;28;43mself\u001b[39;49m\u001b[43m,\u001b[49m\u001b[43m \u001b[49m\u001b[43mname\u001b[49m\u001b[43m)\u001b[49m\n",
      "\u001b[1;31mAttributeError\u001b[0m: 'DataFrame' object has no attribute 'MBCDNC_is_missing'"
     ]
    }
   ],
   "source": [
    "df_tmp.MBCDNC_is_missing.value_counts()"
   ]
  },
  {
   "cell_type": "markdown",
   "id": "22868c9d",
   "metadata": {},
   "source": [
    "df_tmp.ST_is_missing.value_counts()"
   ]
  },
  {
   "cell_type": "code",
   "execution_count": 62,
   "id": "db6b6b1f",
   "metadata": {},
   "outputs": [
    {
     "data": {
      "text/plain": [
       "College Code      0\n",
       "College_Name      0\n",
       "Branch Code       0\n",
       "Branch Name       0\n",
       "OC                0\n",
       "BC                0\n",
       "BCM               0\n",
       "MBC               0\n",
       "SC                0\n",
       "SCA               0\n",
       "ST                0\n",
       "tYear             0\n",
       "BC_is_missing     0\n",
       "BCM_is_missing    0\n",
       "MBC_is_missing    0\n",
       "SC_is_missing     0\n",
       "SCA_is_missing    0\n",
       "ST_is_missing     0\n",
       "dtype: int64"
      ]
     },
     "execution_count": 62,
     "metadata": {},
     "output_type": "execute_result"
    }
   ],
   "source": [
    "df_tmp.isna().sum()"
   ]
  },
  {
   "cell_type": "code",
   "execution_count": 63,
   "id": "52a1bf18",
   "metadata": {},
   "outputs": [
    {
     "name": "stdout",
     "output_type": "stream",
     "text": [
      "College_Name\n",
      "Branch Code\n",
      "Branch Name\n"
     ]
    }
   ],
   "source": [
    "for label, content in df_tmp.items():\n",
    "    if not pd.api.types.is_numeric_dtype(content):\n",
    "        print(label)"
   ]
  },
  {
   "cell_type": "code",
   "execution_count": 64,
   "id": "4ebeaae5",
   "metadata": {},
   "outputs": [],
   "source": [
    "for label, content in df_tmp.items():\n",
    "    if not pd.api.types.is_numeric_dtype(content):\n",
    "        # Add binary column to indicate whether sample had missing value\n",
    "        df_tmp[label+\"_is_missing\"] = pd.isnull(content)\n",
    "        # Turn categories into numbers and add +1\n",
    "        df_tmp[label] = pd.Categorical(content).codes+1"
   ]
  },
  {
   "cell_type": "code",
   "execution_count": 65,
   "id": "94591f67",
   "metadata": {},
   "outputs": [
    {
     "data": {
      "text/plain": [
       "array([ 8,  9,  9,  9,  9,  9,  9,  9,  9,  9,  9,  6,  6,  6,  6,  5,  5,\n",
       "        5,  5,  5,  3,  3,  3,  3,  3,  4,  4,  4,  9,  9,  6,  7,  9,  8,\n",
       "        8,  8,  8,  8,  8,  8,  8,  8,  8,  8,  8,  8,  8,  7,  8,  8,  7,\n",
       "        7,  7,  7,  7,  7,  8,  7,  7,  7,  9,  9,  9,  6,  9,  9,  9,  9,\n",
       "        9,  9,  9,  6,  9,  6,  5,  6,  5,  5,  5,  5,  3,  3,  3,  3,  3,\n",
       "        4,  4,  6,  9,  4,  7,  8,  8,  8,  8,  8,  8,  8,  9,  8,  8,  8,\n",
       "        8,  8,  8,  8,  8,  8,  7,  7,  7,  7,  7,  7,  7,  7,  7,  8,  8,\n",
       "        7,  2,  2,  2,  2, 15, 15, 15, 15, 15, 15, 15, 15,  2, 10,  2,  2,\n",
       "        2,  2,  2, 11, 11, 11, 11, 11, 10, 10, 15,  2, 15,  2, 15, 13, 13,\n",
       "       13, 13, 13, 13, 13, 15, 13, 13, 13, 13, 13, 13, 13, 13, 13, 12, 12,\n",
       "       12, 12, 12, 12, 12, 12, 12, 12, 13, 12, 14,  1,  1,  1, 14, 14, 14,\n",
       "       14, 14, 14, 14, 14,  1, 10,  1,  1,  1,  1,  1,  1,  1, 11, 11, 11,\n",
       "       11, 11, 14,  1, 14, 13, 12, 10, 13, 13, 13, 13, 13, 13, 13, 13, 13,\n",
       "       13, 13, 13, 13, 13, 13, 13, 12, 12, 12, 12, 12, 12, 12, 12, 12, 12,\n",
       "       14, 10], dtype=int8)"
      ]
     },
     "execution_count": 65,
     "metadata": {},
     "output_type": "execute_result"
    }
   ],
   "source": [
    "pd.Categorical(df_tmp[\"College_Name\"]).codes+1"
   ]
  },
  {
   "cell_type": "code",
   "execution_count": 66,
   "id": "1d67f132",
   "metadata": {},
   "outputs": [
    {
     "name": "stdout",
     "output_type": "stream",
     "text": [
      "<class 'pandas.core.frame.DataFrame'>\n",
      "RangeIndex: 240 entries, 0 to 239\n",
      "Data columns (total 21 columns):\n",
      " #   Column                   Non-Null Count  Dtype  \n",
      "---  ------                   --------------  -----  \n",
      " 0   College Code             240 non-null    int64  \n",
      " 1   College_Name             240 non-null    int8   \n",
      " 2   Branch Code              240 non-null    int8   \n",
      " 3   Branch Name              240 non-null    int8   \n",
      " 4   OC                       240 non-null    float64\n",
      " 5   BC                       240 non-null    float64\n",
      " 6   BCM                      240 non-null    float64\n",
      " 7   MBC                      240 non-null    float64\n",
      " 8   SC                       240 non-null    float64\n",
      " 9   SCA                      240 non-null    float64\n",
      " 10  ST                       240 non-null    float64\n",
      " 11  tYear                    240 non-null    int64  \n",
      " 12  BC_is_missing            240 non-null    bool   \n",
      " 13  BCM_is_missing           240 non-null    bool   \n",
      " 14  MBC_is_missing           240 non-null    bool   \n",
      " 15  SC_is_missing            240 non-null    bool   \n",
      " 16  SCA_is_missing           240 non-null    bool   \n",
      " 17  ST_is_missing            240 non-null    bool   \n",
      " 18  College_Name_is_missing  240 non-null    bool   \n",
      " 19  Branch Code_is_missing   240 non-null    bool   \n",
      " 20  Branch Name_is_missing   240 non-null    bool   \n",
      "dtypes: bool(9), float64(7), int64(2), int8(3)\n",
      "memory usage: 19.8 KB\n"
     ]
    }
   ],
   "source": [
    "df_tmp.info()"
   ]
  },
  {
   "cell_type": "code",
   "execution_count": 67,
   "id": "9dfa6fa8",
   "metadata": {},
   "outputs": [
    {
     "data": {
      "text/html": [
       "<div>\n",
       "<style scoped>\n",
       "    .dataframe tbody tr th:only-of-type {\n",
       "        vertical-align: middle;\n",
       "    }\n",
       "\n",
       "    .dataframe tbody tr th {\n",
       "        vertical-align: top;\n",
       "    }\n",
       "\n",
       "    .dataframe thead th {\n",
       "        text-align: right;\n",
       "    }\n",
       "</style>\n",
       "<table border=\"1\" class=\"dataframe\">\n",
       "  <thead>\n",
       "    <tr style=\"text-align: right;\">\n",
       "      <th></th>\n",
       "      <th>0</th>\n",
       "      <th>1</th>\n",
       "      <th>2</th>\n",
       "      <th>3</th>\n",
       "      <th>4</th>\n",
       "    </tr>\n",
       "  </thead>\n",
       "  <tbody>\n",
       "    <tr>\n",
       "      <th>College Code</th>\n",
       "      <td>1</td>\n",
       "      <td>4</td>\n",
       "      <td>4</td>\n",
       "      <td>4</td>\n",
       "      <td>4</td>\n",
       "    </tr>\n",
       "    <tr>\n",
       "      <th>College_Name</th>\n",
       "      <td>8</td>\n",
       "      <td>9</td>\n",
       "      <td>9</td>\n",
       "      <td>9</td>\n",
       "      <td>9</td>\n",
       "    </tr>\n",
       "    <tr>\n",
       "      <th>Branch Code</th>\n",
       "      <td>2</td>\n",
       "      <td>12</td>\n",
       "      <td>14</td>\n",
       "      <td>16</td>\n",
       "      <td>18</td>\n",
       "    </tr>\n",
       "    <tr>\n",
       "      <th>Branch Name</th>\n",
       "      <td>7</td>\n",
       "      <td>30</td>\n",
       "      <td>29</td>\n",
       "      <td>43</td>\n",
       "      <td>47</td>\n",
       "    </tr>\n",
       "    <tr>\n",
       "      <th>OC</th>\n",
       "      <td>196.25</td>\n",
       "      <td>198.5</td>\n",
       "      <td>198.75</td>\n",
       "      <td>199.25</td>\n",
       "      <td>198.25</td>\n",
       "    </tr>\n",
       "    <tr>\n",
       "      <th>BC</th>\n",
       "      <td>195.25</td>\n",
       "      <td>198.33</td>\n",
       "      <td>198.5</td>\n",
       "      <td>199.0</td>\n",
       "      <td>198.0</td>\n",
       "    </tr>\n",
       "    <tr>\n",
       "      <th>BCM</th>\n",
       "      <td>193.25</td>\n",
       "      <td>197.5</td>\n",
       "      <td>198.0</td>\n",
       "      <td>198.0</td>\n",
       "      <td>197.75</td>\n",
       "    </tr>\n",
       "    <tr>\n",
       "      <th>MBC</th>\n",
       "      <td>194.25</td>\n",
       "      <td>197.0</td>\n",
       "      <td>197.75</td>\n",
       "      <td>198.25</td>\n",
       "      <td>197.25</td>\n",
       "    </tr>\n",
       "    <tr>\n",
       "      <th>SC</th>\n",
       "      <td>188.75</td>\n",
       "      <td>192.0</td>\n",
       "      <td>195.0</td>\n",
       "      <td>196.5</td>\n",
       "      <td>192.75</td>\n",
       "    </tr>\n",
       "    <tr>\n",
       "      <th>SCA</th>\n",
       "      <td>185.75</td>\n",
       "      <td>186.0</td>\n",
       "      <td>197.5</td>\n",
       "      <td>196.25</td>\n",
       "      <td>190.75</td>\n",
       "    </tr>\n",
       "    <tr>\n",
       "      <th>ST</th>\n",
       "      <td>175.25</td>\n",
       "      <td>167.0</td>\n",
       "      <td>192.25</td>\n",
       "      <td>188.25</td>\n",
       "      <td>176.5</td>\n",
       "    </tr>\n",
       "    <tr>\n",
       "      <th>tYear</th>\n",
       "      <td>2017</td>\n",
       "      <td>2017</td>\n",
       "      <td>2017</td>\n",
       "      <td>2017</td>\n",
       "      <td>2017</td>\n",
       "    </tr>\n",
       "    <tr>\n",
       "      <th>BC_is_missing</th>\n",
       "      <td>False</td>\n",
       "      <td>False</td>\n",
       "      <td>False</td>\n",
       "      <td>False</td>\n",
       "      <td>False</td>\n",
       "    </tr>\n",
       "    <tr>\n",
       "      <th>BCM_is_missing</th>\n",
       "      <td>False</td>\n",
       "      <td>False</td>\n",
       "      <td>False</td>\n",
       "      <td>False</td>\n",
       "      <td>False</td>\n",
       "    </tr>\n",
       "    <tr>\n",
       "      <th>MBC_is_missing</th>\n",
       "      <td>False</td>\n",
       "      <td>False</td>\n",
       "      <td>False</td>\n",
       "      <td>False</td>\n",
       "      <td>False</td>\n",
       "    </tr>\n",
       "    <tr>\n",
       "      <th>SC_is_missing</th>\n",
       "      <td>False</td>\n",
       "      <td>False</td>\n",
       "      <td>False</td>\n",
       "      <td>False</td>\n",
       "      <td>False</td>\n",
       "    </tr>\n",
       "    <tr>\n",
       "      <th>SCA_is_missing</th>\n",
       "      <td>False</td>\n",
       "      <td>False</td>\n",
       "      <td>False</td>\n",
       "      <td>False</td>\n",
       "      <td>False</td>\n",
       "    </tr>\n",
       "    <tr>\n",
       "      <th>ST_is_missing</th>\n",
       "      <td>False</td>\n",
       "      <td>True</td>\n",
       "      <td>False</td>\n",
       "      <td>False</td>\n",
       "      <td>False</td>\n",
       "    </tr>\n",
       "    <tr>\n",
       "      <th>College_Name_is_missing</th>\n",
       "      <td>False</td>\n",
       "      <td>False</td>\n",
       "      <td>False</td>\n",
       "      <td>False</td>\n",
       "      <td>False</td>\n",
       "    </tr>\n",
       "    <tr>\n",
       "      <th>Branch Code_is_missing</th>\n",
       "      <td>False</td>\n",
       "      <td>False</td>\n",
       "      <td>False</td>\n",
       "      <td>False</td>\n",
       "      <td>False</td>\n",
       "    </tr>\n",
       "    <tr>\n",
       "      <th>Branch Name_is_missing</th>\n",
       "      <td>False</td>\n",
       "      <td>False</td>\n",
       "      <td>False</td>\n",
       "      <td>False</td>\n",
       "      <td>False</td>\n",
       "    </tr>\n",
       "  </tbody>\n",
       "</table>\n",
       "</div>"
      ],
      "text/plain": [
       "                              0       1       2       3       4\n",
       "College Code                  1       4       4       4       4\n",
       "College_Name                  8       9       9       9       9\n",
       "Branch Code                   2      12      14      16      18\n",
       "Branch Name                   7      30      29      43      47\n",
       "OC                       196.25   198.5  198.75  199.25  198.25\n",
       "BC                       195.25  198.33   198.5   199.0   198.0\n",
       "BCM                      193.25   197.5   198.0   198.0  197.75\n",
       "MBC                      194.25   197.0  197.75  198.25  197.25\n",
       "SC                       188.75   192.0   195.0   196.5  192.75\n",
       "SCA                      185.75   186.0   197.5  196.25  190.75\n",
       "ST                       175.25   167.0  192.25  188.25   176.5\n",
       "tYear                      2017    2017    2017    2017    2017\n",
       "BC_is_missing             False   False   False   False   False\n",
       "BCM_is_missing            False   False   False   False   False\n",
       "MBC_is_missing            False   False   False   False   False\n",
       "SC_is_missing             False   False   False   False   False\n",
       "SCA_is_missing            False   False   False   False   False\n",
       "ST_is_missing             False    True   False   False   False\n",
       "College_Name_is_missing   False   False   False   False   False\n",
       "Branch Code_is_missing    False   False   False   False   False\n",
       "Branch Name_is_missing    False   False   False   False   False"
      ]
     },
     "execution_count": 67,
     "metadata": {},
     "output_type": "execute_result"
    }
   ],
   "source": [
    "df_tmp.head().T"
   ]
  },
  {
   "cell_type": "code",
   "execution_count": 68,
   "id": "be7de91a",
   "metadata": {},
   "outputs": [
    {
     "data": {
      "text/plain": [
       "College Code               0\n",
       "College_Name               0\n",
       "Branch Code                0\n",
       "Branch Name                0\n",
       "OC                         0\n",
       "BC                         0\n",
       "BCM                        0\n",
       "MBC                        0\n",
       "SC                         0\n",
       "SCA                        0\n",
       "ST                         0\n",
       "tYear                      0\n",
       "BC_is_missing              0\n",
       "BCM_is_missing             0\n",
       "MBC_is_missing             0\n",
       "SC_is_missing              0\n",
       "SCA_is_missing             0\n",
       "ST_is_missing              0\n",
       "College_Name_is_missing    0\n",
       "Branch Code_is_missing     0\n",
       "Branch Name_is_missing     0\n",
       "dtype: int64"
      ]
     },
     "execution_count": 68,
     "metadata": {},
     "output_type": "execute_result"
    }
   ],
   "source": [
    "df_tmp.isna().sum()"
   ]
  },
  {
   "cell_type": "code",
   "execution_count": 69,
   "id": "adeaa3a7",
   "metadata": {},
   "outputs": [
    {
     "data": {
      "text/html": [
       "<div>\n",
       "<style scoped>\n",
       "    .dataframe tbody tr th:only-of-type {\n",
       "        vertical-align: middle;\n",
       "    }\n",
       "\n",
       "    .dataframe tbody tr th {\n",
       "        vertical-align: top;\n",
       "    }\n",
       "\n",
       "    .dataframe thead th {\n",
       "        text-align: right;\n",
       "    }\n",
       "</style>\n",
       "<table border=\"1\" class=\"dataframe\">\n",
       "  <thead>\n",
       "    <tr style=\"text-align: right;\">\n",
       "      <th></th>\n",
       "      <th>College Code</th>\n",
       "      <th>College_Name</th>\n",
       "      <th>Branch Code</th>\n",
       "      <th>Branch Name</th>\n",
       "      <th>OC</th>\n",
       "      <th>BC</th>\n",
       "      <th>BCM</th>\n",
       "      <th>MBC</th>\n",
       "      <th>SC</th>\n",
       "      <th>SCA</th>\n",
       "      <th>...</th>\n",
       "      <th>tYear</th>\n",
       "      <th>BC_is_missing</th>\n",
       "      <th>BCM_is_missing</th>\n",
       "      <th>MBC_is_missing</th>\n",
       "      <th>SC_is_missing</th>\n",
       "      <th>SCA_is_missing</th>\n",
       "      <th>ST_is_missing</th>\n",
       "      <th>College_Name_is_missing</th>\n",
       "      <th>Branch Code_is_missing</th>\n",
       "      <th>Branch Name_is_missing</th>\n",
       "    </tr>\n",
       "  </thead>\n",
       "  <tbody>\n",
       "    <tr>\n",
       "      <th>0</th>\n",
       "      <td>1</td>\n",
       "      <td>8</td>\n",
       "      <td>2</td>\n",
       "      <td>7</td>\n",
       "      <td>196.25</td>\n",
       "      <td>195.25</td>\n",
       "      <td>193.25</td>\n",
       "      <td>194.25</td>\n",
       "      <td>188.75</td>\n",
       "      <td>185.75</td>\n",
       "      <td>...</td>\n",
       "      <td>2017</td>\n",
       "      <td>False</td>\n",
       "      <td>False</td>\n",
       "      <td>False</td>\n",
       "      <td>False</td>\n",
       "      <td>False</td>\n",
       "      <td>False</td>\n",
       "      <td>False</td>\n",
       "      <td>False</td>\n",
       "      <td>False</td>\n",
       "    </tr>\n",
       "    <tr>\n",
       "      <th>1</th>\n",
       "      <td>4</td>\n",
       "      <td>9</td>\n",
       "      <td>12</td>\n",
       "      <td>30</td>\n",
       "      <td>198.50</td>\n",
       "      <td>198.33</td>\n",
       "      <td>197.50</td>\n",
       "      <td>197.00</td>\n",
       "      <td>192.00</td>\n",
       "      <td>186.00</td>\n",
       "      <td>...</td>\n",
       "      <td>2017</td>\n",
       "      <td>False</td>\n",
       "      <td>False</td>\n",
       "      <td>False</td>\n",
       "      <td>False</td>\n",
       "      <td>False</td>\n",
       "      <td>True</td>\n",
       "      <td>False</td>\n",
       "      <td>False</td>\n",
       "      <td>False</td>\n",
       "    </tr>\n",
       "    <tr>\n",
       "      <th>2</th>\n",
       "      <td>4</td>\n",
       "      <td>9</td>\n",
       "      <td>14</td>\n",
       "      <td>29</td>\n",
       "      <td>198.75</td>\n",
       "      <td>198.50</td>\n",
       "      <td>198.00</td>\n",
       "      <td>197.75</td>\n",
       "      <td>195.00</td>\n",
       "      <td>197.50</td>\n",
       "      <td>...</td>\n",
       "      <td>2017</td>\n",
       "      <td>False</td>\n",
       "      <td>False</td>\n",
       "      <td>False</td>\n",
       "      <td>False</td>\n",
       "      <td>False</td>\n",
       "      <td>False</td>\n",
       "      <td>False</td>\n",
       "      <td>False</td>\n",
       "      <td>False</td>\n",
       "    </tr>\n",
       "    <tr>\n",
       "      <th>3</th>\n",
       "      <td>4</td>\n",
       "      <td>9</td>\n",
       "      <td>16</td>\n",
       "      <td>43</td>\n",
       "      <td>199.25</td>\n",
       "      <td>199.00</td>\n",
       "      <td>198.00</td>\n",
       "      <td>198.25</td>\n",
       "      <td>196.50</td>\n",
       "      <td>196.25</td>\n",
       "      <td>...</td>\n",
       "      <td>2017</td>\n",
       "      <td>False</td>\n",
       "      <td>False</td>\n",
       "      <td>False</td>\n",
       "      <td>False</td>\n",
       "      <td>False</td>\n",
       "      <td>False</td>\n",
       "      <td>False</td>\n",
       "      <td>False</td>\n",
       "      <td>False</td>\n",
       "    </tr>\n",
       "    <tr>\n",
       "      <th>4</th>\n",
       "      <td>4</td>\n",
       "      <td>9</td>\n",
       "      <td>18</td>\n",
       "      <td>47</td>\n",
       "      <td>198.25</td>\n",
       "      <td>198.00</td>\n",
       "      <td>197.75</td>\n",
       "      <td>197.25</td>\n",
       "      <td>192.75</td>\n",
       "      <td>190.75</td>\n",
       "      <td>...</td>\n",
       "      <td>2017</td>\n",
       "      <td>False</td>\n",
       "      <td>False</td>\n",
       "      <td>False</td>\n",
       "      <td>False</td>\n",
       "      <td>False</td>\n",
       "      <td>False</td>\n",
       "      <td>False</td>\n",
       "      <td>False</td>\n",
       "      <td>False</td>\n",
       "    </tr>\n",
       "  </tbody>\n",
       "</table>\n",
       "<p>5 rows × 21 columns</p>\n",
       "</div>"
      ],
      "text/plain": [
       "   College Code  College_Name  Branch Code  Branch Name      OC      BC  \\\n",
       "0             1             8            2            7  196.25  195.25   \n",
       "1             4             9           12           30  198.50  198.33   \n",
       "2             4             9           14           29  198.75  198.50   \n",
       "3             4             9           16           43  199.25  199.00   \n",
       "4             4             9           18           47  198.25  198.00   \n",
       "\n",
       "      BCM     MBC      SC     SCA  ...  tYear  BC_is_missing  BCM_is_missing  \\\n",
       "0  193.25  194.25  188.75  185.75  ...   2017          False           False   \n",
       "1  197.50  197.00  192.00  186.00  ...   2017          False           False   \n",
       "2  198.00  197.75  195.00  197.50  ...   2017          False           False   \n",
       "3  198.00  198.25  196.50  196.25  ...   2017          False           False   \n",
       "4  197.75  197.25  192.75  190.75  ...   2017          False           False   \n",
       "\n",
       "   MBC_is_missing  SC_is_missing  SCA_is_missing  ST_is_missing  \\\n",
       "0           False          False           False          False   \n",
       "1           False          False           False           True   \n",
       "2           False          False           False          False   \n",
       "3           False          False           False          False   \n",
       "4           False          False           False          False   \n",
       "\n",
       "   College_Name_is_missing  Branch Code_is_missing  Branch Name_is_missing  \n",
       "0                    False                   False                   False  \n",
       "1                    False                   False                   False  \n",
       "2                    False                   False                   False  \n",
       "3                    False                   False                   False  \n",
       "4                    False                   False                   False  \n",
       "\n",
       "[5 rows x 21 columns]"
      ]
     },
     "execution_count": 69,
     "metadata": {},
     "output_type": "execute_result"
    }
   ],
   "source": [
    "df_tmp.head()"
   ]
  },
  {
   "cell_type": "code",
   "execution_count": 70,
   "id": "7d77720e",
   "metadata": {},
   "outputs": [
    {
     "data": {
      "text/plain": [
       "240"
      ]
     },
     "execution_count": 70,
     "metadata": {},
     "output_type": "execute_result"
    }
   ],
   "source": [
    "len(df_tmp)"
   ]
  },
  {
   "cell_type": "code",
   "execution_count": 71,
   "id": "300bf2a5",
   "metadata": {},
   "outputs": [
    {
     "name": "stdout",
     "output_type": "stream",
     "text": [
      "CPU times: total: 281 ms\n",
      "Wall time: 286 ms\n"
     ]
    },
    {
     "data": {
      "text/html": [
       "<style>#sk-container-id-1 {color: black;background-color: white;}#sk-container-id-1 pre{padding: 0;}#sk-container-id-1 div.sk-toggleable {background-color: white;}#sk-container-id-1 label.sk-toggleable__label {cursor: pointer;display: block;width: 100%;margin-bottom: 0;padding: 0.3em;box-sizing: border-box;text-align: center;}#sk-container-id-1 label.sk-toggleable__label-arrow:before {content: \"▸\";float: left;margin-right: 0.25em;color: #696969;}#sk-container-id-1 label.sk-toggleable__label-arrow:hover:before {color: black;}#sk-container-id-1 div.sk-estimator:hover label.sk-toggleable__label-arrow:before {color: black;}#sk-container-id-1 div.sk-toggleable__content {max-height: 0;max-width: 0;overflow: hidden;text-align: left;background-color: #f0f8ff;}#sk-container-id-1 div.sk-toggleable__content pre {margin: 0.2em;color: black;border-radius: 0.25em;background-color: #f0f8ff;}#sk-container-id-1 input.sk-toggleable__control:checked~div.sk-toggleable__content {max-height: 200px;max-width: 100%;overflow: auto;}#sk-container-id-1 input.sk-toggleable__control:checked~label.sk-toggleable__label-arrow:before {content: \"▾\";}#sk-container-id-1 div.sk-estimator input.sk-toggleable__control:checked~label.sk-toggleable__label {background-color: #d4ebff;}#sk-container-id-1 div.sk-label input.sk-toggleable__control:checked~label.sk-toggleable__label {background-color: #d4ebff;}#sk-container-id-1 input.sk-hidden--visually {border: 0;clip: rect(1px 1px 1px 1px);clip: rect(1px, 1px, 1px, 1px);height: 1px;margin: -1px;overflow: hidden;padding: 0;position: absolute;width: 1px;}#sk-container-id-1 div.sk-estimator {font-family: monospace;background-color: #f0f8ff;border: 1px dotted black;border-radius: 0.25em;box-sizing: border-box;margin-bottom: 0.5em;}#sk-container-id-1 div.sk-estimator:hover {background-color: #d4ebff;}#sk-container-id-1 div.sk-parallel-item::after {content: \"\";width: 100%;border-bottom: 1px solid gray;flex-grow: 1;}#sk-container-id-1 div.sk-label:hover label.sk-toggleable__label {background-color: #d4ebff;}#sk-container-id-1 div.sk-serial::before {content: \"\";position: absolute;border-left: 1px solid gray;box-sizing: border-box;top: 0;bottom: 0;left: 50%;z-index: 0;}#sk-container-id-1 div.sk-serial {display: flex;flex-direction: column;align-items: center;background-color: white;padding-right: 0.2em;padding-left: 0.2em;position: relative;}#sk-container-id-1 div.sk-item {position: relative;z-index: 1;}#sk-container-id-1 div.sk-parallel {display: flex;align-items: stretch;justify-content: center;background-color: white;position: relative;}#sk-container-id-1 div.sk-item::before, #sk-container-id-1 div.sk-parallel-item::before {content: \"\";position: absolute;border-left: 1px solid gray;box-sizing: border-box;top: 0;bottom: 0;left: 50%;z-index: -1;}#sk-container-id-1 div.sk-parallel-item {display: flex;flex-direction: column;z-index: 1;position: relative;background-color: white;}#sk-container-id-1 div.sk-parallel-item:first-child::after {align-self: flex-end;width: 50%;}#sk-container-id-1 div.sk-parallel-item:last-child::after {align-self: flex-start;width: 50%;}#sk-container-id-1 div.sk-parallel-item:only-child::after {width: 0;}#sk-container-id-1 div.sk-dashed-wrapped {border: 1px dashed gray;margin: 0 0.4em 0.5em 0.4em;box-sizing: border-box;padding-bottom: 0.4em;background-color: white;}#sk-container-id-1 div.sk-label label {font-family: monospace;font-weight: bold;display: inline-block;line-height: 1.2em;}#sk-container-id-1 div.sk-label-container {text-align: center;}#sk-container-id-1 div.sk-container {/* jupyter's `normalize.less` sets `[hidden] { display: none; }` but bootstrap.min.css set `[hidden] { display: none !important; }` so we also need the `!important` here to be able to override the default hidden behavior on the sphinx rendered scikit-learn.org. See: https://github.com/scikit-learn/scikit-learn/issues/21755 */display: inline-block !important;position: relative;}#sk-container-id-1 div.sk-text-repr-fallback {display: none;}</style><div id=\"sk-container-id-1\" class=\"sk-top-container\"><div class=\"sk-text-repr-fallback\"><pre>RandomForestRegressor(n_jobs=-1, random_state=42)</pre><b>In a Jupyter environment, please rerun this cell to show the HTML representation or trust the notebook. <br />On GitHub, the HTML representation is unable to render, please try loading this page with nbviewer.org.</b></div><div class=\"sk-container\" hidden><div class=\"sk-item\"><div class=\"sk-estimator sk-toggleable\"><input class=\"sk-toggleable__control sk-hidden--visually\" id=\"sk-estimator-id-1\" type=\"checkbox\" checked><label for=\"sk-estimator-id-1\" class=\"sk-toggleable__label sk-toggleable__label-arrow\">RandomForestRegressor</label><div class=\"sk-toggleable__content\"><pre>RandomForestRegressor(n_jobs=-1, random_state=42)</pre></div></div></div></div></div>"
      ],
      "text/plain": [
       "RandomForestRegressor(n_jobs=-1, random_state=42)"
      ]
     },
     "execution_count": 71,
     "metadata": {},
     "output_type": "execute_result"
    }
   ],
   "source": [
    "%%time\n",
    "# Instantiate model\n",
    "model = RandomForestRegressor(n_jobs=-1, random_state=42)\n",
    "\n",
    "# Fit the model\n",
    "model.fit(df_tmp.drop(\"OC\", axis=1), df_tmp[\"OC\"])"
   ]
  },
  {
   "cell_type": "code",
   "execution_count": 72,
   "id": "58e42700",
   "metadata": {},
   "outputs": [
    {
     "data": {
      "text/plain": [
       "0.9945104742162915"
      ]
     },
     "execution_count": 72,
     "metadata": {},
     "output_type": "execute_result"
    }
   ],
   "source": [
    "# Score the model\n",
    "model.score(df_tmp.drop(\"OC\", axis=1), df_tmp[\"OC\"])"
   ]
  },
  {
   "cell_type": "markdown",
   "id": "0e264e24",
   "metadata": {},
   "source": [
    "# Splitting data into train/validation sets"
   ]
  },
  {
   "cell_type": "code",
   "execution_count": 73,
   "id": "b3109f45",
   "metadata": {},
   "outputs": [
    {
     "data": {
      "text/plain": [
       "0      2017\n",
       "1      2017\n",
       "2      2017\n",
       "3      2017\n",
       "4      2017\n",
       "       ... \n",
       "235    2020\n",
       "236    2020\n",
       "237    2020\n",
       "238    2020\n",
       "239    2020\n",
       "Name: tYear, Length: 240, dtype: int64"
      ]
     },
     "execution_count": 73,
     "metadata": {},
     "output_type": "execute_result"
    }
   ],
   "source": [
    "df_tmp.tYear"
   ]
  },
  {
   "cell_type": "code",
   "execution_count": 74,
   "id": "2a3e11ec",
   "metadata": {},
   "outputs": [
    {
     "data": {
      "text/plain": [
       "2017    60\n",
       "2018    60\n",
       "2019    60\n",
       "2020    60\n",
       "Name: tYear, dtype: int64"
      ]
     },
     "execution_count": 74,
     "metadata": {},
     "output_type": "execute_result"
    }
   ],
   "source": [
    "df_tmp.tYear.value_counts()"
   ]
  },
  {
   "cell_type": "code",
   "execution_count": 75,
   "id": "6036cb8b",
   "metadata": {},
   "outputs": [
    {
     "data": {
      "text/plain": [
       "(60, 180)"
      ]
     },
     "execution_count": 75,
     "metadata": {},
     "output_type": "execute_result"
    }
   ],
   "source": [
    "df_val = df_tmp[df_tmp.tYear == 2017]\n",
    "df_train = df_tmp[df_tmp.tYear != 2017]\n",
    "\n",
    "len(df_val), len(df_train)"
   ]
  },
  {
   "cell_type": "code",
   "execution_count": 76,
   "id": "61d7cbb2",
   "metadata": {},
   "outputs": [
    {
     "data": {
      "text/plain": [
       "((180, 20), (180,), (60, 20), (60,))"
      ]
     },
     "execution_count": 76,
     "metadata": {},
     "output_type": "execute_result"
    }
   ],
   "source": [
    "X_train, y_train = df_train.drop(\"OC\", axis=1), df_train.OC\n",
    "X_valid, y_valid = df_val.drop(\"OC\", axis=1), df_val.OC\n",
    "\n",
    "X_train.shape, y_train.shape, X_valid.shape, y_valid.shape"
   ]
  },
  {
   "cell_type": "code",
   "execution_count": 77,
   "id": "c8cf00ce",
   "metadata": {},
   "outputs": [
    {
     "data": {
      "text/plain": [
       "60     196.50\n",
       "61     193.50\n",
       "62     195.33\n",
       "63     175.00\n",
       "64     190.00\n",
       "        ...  \n",
       "235    167.50\n",
       "236    182.50\n",
       "237    177.50\n",
       "238    191.50\n",
       "239    118.00\n",
       "Name: OC, Length: 180, dtype: float64"
      ]
     },
     "execution_count": 77,
     "metadata": {},
     "output_type": "execute_result"
    }
   ],
   "source": [
    "y_train"
   ]
  },
  {
   "cell_type": "markdown",
   "id": "d85c6c8f",
   "metadata": {},
   "source": [
    "# Building an evaluation function"
   ]
  },
  {
   "cell_type": "code",
   "execution_count": 78,
   "id": "f5322edd",
   "metadata": {},
   "outputs": [],
   "source": [
    "from sklearn.metrics import mean_squared_log_error, mean_absolute_error, r2_score\n",
    "\n",
    "def rmsle(y_test, y_preds):\n",
    "    \"\"\"\n",
    "    Caculates root mean squared log error between predictions and\n",
    "    true labels.\n",
    "    \"\"\"\n",
    "    return np.sqrt(mean_squared_log_error(y_test, y_preds))\n",
    "\n",
    "# Create function to evaluate model on a few different levels\n",
    "def show_scores(model):\n",
    "    train_preds = model.predict(X_train)\n",
    "    val_preds = model.predict(X_valid)\n",
    "    scores = {\"Training MAE\": mean_absolute_error(y_train, train_preds),\n",
    "              \"Valid MAE\": mean_absolute_error(y_valid, val_preds),\n",
    "              \"Training RMSLE\": rmsle(y_train, train_preds),\n",
    "              \"Valid RMSLE\": rmsle(y_valid, val_preds),\n",
    "              \"Training R^2\": r2_score(y_train, train_preds),\n",
    "              \"Valid R^2\": r2_score(y_valid, val_preds)}\n",
    "    return scores"
   ]
  },
  {
   "cell_type": "markdown",
   "id": "70760a35",
   "metadata": {},
   "source": [
    "# Testing our model on a subset (to tune the hyperparameters)"
   ]
  },
  {
   "cell_type": "code",
   "execution_count": 80,
   "id": "2ea65a4b",
   "metadata": {},
   "outputs": [
    {
     "name": "stdout",
     "output_type": "stream",
     "text": [
      "CPU times: total: 328 ms\n",
      "Wall time: 251 ms\n"
     ]
    },
    {
     "data": {
      "text/html": [
       "<style>#sk-container-id-3 {color: black;background-color: white;}#sk-container-id-3 pre{padding: 0;}#sk-container-id-3 div.sk-toggleable {background-color: white;}#sk-container-id-3 label.sk-toggleable__label {cursor: pointer;display: block;width: 100%;margin-bottom: 0;padding: 0.3em;box-sizing: border-box;text-align: center;}#sk-container-id-3 label.sk-toggleable__label-arrow:before {content: \"▸\";float: left;margin-right: 0.25em;color: #696969;}#sk-container-id-3 label.sk-toggleable__label-arrow:hover:before {color: black;}#sk-container-id-3 div.sk-estimator:hover label.sk-toggleable__label-arrow:before {color: black;}#sk-container-id-3 div.sk-toggleable__content {max-height: 0;max-width: 0;overflow: hidden;text-align: left;background-color: #f0f8ff;}#sk-container-id-3 div.sk-toggleable__content pre {margin: 0.2em;color: black;border-radius: 0.25em;background-color: #f0f8ff;}#sk-container-id-3 input.sk-toggleable__control:checked~div.sk-toggleable__content {max-height: 200px;max-width: 100%;overflow: auto;}#sk-container-id-3 input.sk-toggleable__control:checked~label.sk-toggleable__label-arrow:before {content: \"▾\";}#sk-container-id-3 div.sk-estimator input.sk-toggleable__control:checked~label.sk-toggleable__label {background-color: #d4ebff;}#sk-container-id-3 div.sk-label input.sk-toggleable__control:checked~label.sk-toggleable__label {background-color: #d4ebff;}#sk-container-id-3 input.sk-hidden--visually {border: 0;clip: rect(1px 1px 1px 1px);clip: rect(1px, 1px, 1px, 1px);height: 1px;margin: -1px;overflow: hidden;padding: 0;position: absolute;width: 1px;}#sk-container-id-3 div.sk-estimator {font-family: monospace;background-color: #f0f8ff;border: 1px dotted black;border-radius: 0.25em;box-sizing: border-box;margin-bottom: 0.5em;}#sk-container-id-3 div.sk-estimator:hover {background-color: #d4ebff;}#sk-container-id-3 div.sk-parallel-item::after {content: \"\";width: 100%;border-bottom: 1px solid gray;flex-grow: 1;}#sk-container-id-3 div.sk-label:hover label.sk-toggleable__label {background-color: #d4ebff;}#sk-container-id-3 div.sk-serial::before {content: \"\";position: absolute;border-left: 1px solid gray;box-sizing: border-box;top: 0;bottom: 0;left: 50%;z-index: 0;}#sk-container-id-3 div.sk-serial {display: flex;flex-direction: column;align-items: center;background-color: white;padding-right: 0.2em;padding-left: 0.2em;position: relative;}#sk-container-id-3 div.sk-item {position: relative;z-index: 1;}#sk-container-id-3 div.sk-parallel {display: flex;align-items: stretch;justify-content: center;background-color: white;position: relative;}#sk-container-id-3 div.sk-item::before, #sk-container-id-3 div.sk-parallel-item::before {content: \"\";position: absolute;border-left: 1px solid gray;box-sizing: border-box;top: 0;bottom: 0;left: 50%;z-index: -1;}#sk-container-id-3 div.sk-parallel-item {display: flex;flex-direction: column;z-index: 1;position: relative;background-color: white;}#sk-container-id-3 div.sk-parallel-item:first-child::after {align-self: flex-end;width: 50%;}#sk-container-id-3 div.sk-parallel-item:last-child::after {align-self: flex-start;width: 50%;}#sk-container-id-3 div.sk-parallel-item:only-child::after {width: 0;}#sk-container-id-3 div.sk-dashed-wrapped {border: 1px dashed gray;margin: 0 0.4em 0.5em 0.4em;box-sizing: border-box;padding-bottom: 0.4em;background-color: white;}#sk-container-id-3 div.sk-label label {font-family: monospace;font-weight: bold;display: inline-block;line-height: 1.2em;}#sk-container-id-3 div.sk-label-container {text-align: center;}#sk-container-id-3 div.sk-container {/* jupyter's `normalize.less` sets `[hidden] { display: none; }` but bootstrap.min.css set `[hidden] { display: none !important; }` so we also need the `!important` here to be able to override the default hidden behavior on the sphinx rendered scikit-learn.org. See: https://github.com/scikit-learn/scikit-learn/issues/21755 */display: inline-block !important;position: relative;}#sk-container-id-3 div.sk-text-repr-fallback {display: none;}</style><div id=\"sk-container-id-3\" class=\"sk-top-container\"><div class=\"sk-text-repr-fallback\"><pre>RandomForestRegressor(n_jobs=-1, random_state=42)</pre><b>In a Jupyter environment, please rerun this cell to show the HTML representation or trust the notebook. <br />On GitHub, the HTML representation is unable to render, please try loading this page with nbviewer.org.</b></div><div class=\"sk-container\" hidden><div class=\"sk-item\"><div class=\"sk-estimator sk-toggleable\"><input class=\"sk-toggleable__control sk-hidden--visually\" id=\"sk-estimator-id-3\" type=\"checkbox\" checked><label for=\"sk-estimator-id-3\" class=\"sk-toggleable__label sk-toggleable__label-arrow\">RandomForestRegressor</label><div class=\"sk-toggleable__content\"><pre>RandomForestRegressor(n_jobs=-1, random_state=42)</pre></div></div></div></div></div>"
      ],
      "text/plain": [
       "RandomForestRegressor(n_jobs=-1, random_state=42)"
      ]
     },
     "execution_count": 80,
     "metadata": {},
     "output_type": "execute_result"
    }
   ],
   "source": [
    "%%time\n",
    " model = RandomForestRegressor(n_jobs=-1, \n",
    "                              random_state=42)\n",
    "\n",
    " model.fit(X_train, y_train)"
   ]
  },
  {
   "cell_type": "code",
   "execution_count": 83,
   "id": "21945f7d",
   "metadata": {},
   "outputs": [
    {
     "data": {
      "text/plain": [
       "180"
      ]
     },
     "execution_count": 83,
     "metadata": {},
     "output_type": "execute_result"
    }
   ],
   "source": [
    "len(X_train)"
   ]
  },
  {
   "cell_type": "code",
   "execution_count": 84,
   "id": "6a86382d",
   "metadata": {},
   "outputs": [],
   "source": [
    "model = RandomForestRegressor(n_jobs=-1,\n",
    "                              random_state=42,\n",
    "                              max_samples=100)"
   ]
  },
  {
   "cell_type": "code",
   "execution_count": 85,
   "id": "b2539d8f",
   "metadata": {},
   "outputs": [
    {
     "name": "stdout",
     "output_type": "stream",
     "text": [
      "CPU times: total: 266 ms\n",
      "Wall time: 228 ms\n"
     ]
    },
    {
     "data": {
      "text/html": [
       "<style>#sk-container-id-4 {color: black;background-color: white;}#sk-container-id-4 pre{padding: 0;}#sk-container-id-4 div.sk-toggleable {background-color: white;}#sk-container-id-4 label.sk-toggleable__label {cursor: pointer;display: block;width: 100%;margin-bottom: 0;padding: 0.3em;box-sizing: border-box;text-align: center;}#sk-container-id-4 label.sk-toggleable__label-arrow:before {content: \"▸\";float: left;margin-right: 0.25em;color: #696969;}#sk-container-id-4 label.sk-toggleable__label-arrow:hover:before {color: black;}#sk-container-id-4 div.sk-estimator:hover label.sk-toggleable__label-arrow:before {color: black;}#sk-container-id-4 div.sk-toggleable__content {max-height: 0;max-width: 0;overflow: hidden;text-align: left;background-color: #f0f8ff;}#sk-container-id-4 div.sk-toggleable__content pre {margin: 0.2em;color: black;border-radius: 0.25em;background-color: #f0f8ff;}#sk-container-id-4 input.sk-toggleable__control:checked~div.sk-toggleable__content {max-height: 200px;max-width: 100%;overflow: auto;}#sk-container-id-4 input.sk-toggleable__control:checked~label.sk-toggleable__label-arrow:before {content: \"▾\";}#sk-container-id-4 div.sk-estimator input.sk-toggleable__control:checked~label.sk-toggleable__label {background-color: #d4ebff;}#sk-container-id-4 div.sk-label input.sk-toggleable__control:checked~label.sk-toggleable__label {background-color: #d4ebff;}#sk-container-id-4 input.sk-hidden--visually {border: 0;clip: rect(1px 1px 1px 1px);clip: rect(1px, 1px, 1px, 1px);height: 1px;margin: -1px;overflow: hidden;padding: 0;position: absolute;width: 1px;}#sk-container-id-4 div.sk-estimator {font-family: monospace;background-color: #f0f8ff;border: 1px dotted black;border-radius: 0.25em;box-sizing: border-box;margin-bottom: 0.5em;}#sk-container-id-4 div.sk-estimator:hover {background-color: #d4ebff;}#sk-container-id-4 div.sk-parallel-item::after {content: \"\";width: 100%;border-bottom: 1px solid gray;flex-grow: 1;}#sk-container-id-4 div.sk-label:hover label.sk-toggleable__label {background-color: #d4ebff;}#sk-container-id-4 div.sk-serial::before {content: \"\";position: absolute;border-left: 1px solid gray;box-sizing: border-box;top: 0;bottom: 0;left: 50%;z-index: 0;}#sk-container-id-4 div.sk-serial {display: flex;flex-direction: column;align-items: center;background-color: white;padding-right: 0.2em;padding-left: 0.2em;position: relative;}#sk-container-id-4 div.sk-item {position: relative;z-index: 1;}#sk-container-id-4 div.sk-parallel {display: flex;align-items: stretch;justify-content: center;background-color: white;position: relative;}#sk-container-id-4 div.sk-item::before, #sk-container-id-4 div.sk-parallel-item::before {content: \"\";position: absolute;border-left: 1px solid gray;box-sizing: border-box;top: 0;bottom: 0;left: 50%;z-index: -1;}#sk-container-id-4 div.sk-parallel-item {display: flex;flex-direction: column;z-index: 1;position: relative;background-color: white;}#sk-container-id-4 div.sk-parallel-item:first-child::after {align-self: flex-end;width: 50%;}#sk-container-id-4 div.sk-parallel-item:last-child::after {align-self: flex-start;width: 50%;}#sk-container-id-4 div.sk-parallel-item:only-child::after {width: 0;}#sk-container-id-4 div.sk-dashed-wrapped {border: 1px dashed gray;margin: 0 0.4em 0.5em 0.4em;box-sizing: border-box;padding-bottom: 0.4em;background-color: white;}#sk-container-id-4 div.sk-label label {font-family: monospace;font-weight: bold;display: inline-block;line-height: 1.2em;}#sk-container-id-4 div.sk-label-container {text-align: center;}#sk-container-id-4 div.sk-container {/* jupyter's `normalize.less` sets `[hidden] { display: none; }` but bootstrap.min.css set `[hidden] { display: none !important; }` so we also need the `!important` here to be able to override the default hidden behavior on the sphinx rendered scikit-learn.org. See: https://github.com/scikit-learn/scikit-learn/issues/21755 */display: inline-block !important;position: relative;}#sk-container-id-4 div.sk-text-repr-fallback {display: none;}</style><div id=\"sk-container-id-4\" class=\"sk-top-container\"><div class=\"sk-text-repr-fallback\"><pre>RandomForestRegressor(max_samples=100, n_jobs=-1, random_state=42)</pre><b>In a Jupyter environment, please rerun this cell to show the HTML representation or trust the notebook. <br />On GitHub, the HTML representation is unable to render, please try loading this page with nbviewer.org.</b></div><div class=\"sk-container\" hidden><div class=\"sk-item\"><div class=\"sk-estimator sk-toggleable\"><input class=\"sk-toggleable__control sk-hidden--visually\" id=\"sk-estimator-id-4\" type=\"checkbox\" checked><label for=\"sk-estimator-id-4\" class=\"sk-toggleable__label sk-toggleable__label-arrow\">RandomForestRegressor</label><div class=\"sk-toggleable__content\"><pre>RandomForestRegressor(max_samples=100, n_jobs=-1, random_state=42)</pre></div></div></div></div></div>"
      ],
      "text/plain": [
       "RandomForestRegressor(max_samples=100, n_jobs=-1, random_state=42)"
      ]
     },
     "execution_count": 85,
     "metadata": {},
     "output_type": "execute_result"
    }
   ],
   "source": [
    "%%time\n",
    "# Cutting down on the max number of samples each estimator can see improves training time\n",
    "model.fit(X_train, y_train)"
   ]
  },
  {
   "cell_type": "code",
   "execution_count": 86,
   "id": "23c42e8a",
   "metadata": {},
   "outputs": [
    {
     "data": {
      "text/plain": [
       "0.018"
      ]
     },
     "execution_count": 86,
     "metadata": {},
     "output_type": "execute_result"
    }
   ],
   "source": [
    "(X_train.shape[0] * 100) / 1000000"
   ]
  },
  {
   "cell_type": "markdown",
   "id": "e6446d37",
   "metadata": {},
   "source": [
    "10000 * 100"
   ]
  },
  {
   "cell_type": "code",
   "execution_count": 87,
   "id": "820bea7c",
   "metadata": {},
   "outputs": [
    {
     "data": {
      "text/plain": [
       "{'Training MAE': 2.0676922222222207,\n",
       " 'Valid MAE': 4.580643333333318,\n",
       " 'Training RMSLE': 0.03688279591859139,\n",
       " 'Valid RMSLE': 0.0681024884443132,\n",
       " 'Training R^2': 0.9857261803128229,\n",
       " 'Valid R^2': 0.7171606811408532}"
      ]
     },
     "execution_count": 87,
     "metadata": {},
     "output_type": "execute_result"
    }
   ],
   "source": [
    "show_scores(model)"
   ]
  },
  {
   "cell_type": "markdown",
   "id": "a3599aac",
   "metadata": {},
   "source": [
    "# Hyerparameter tuning with RandomizedSearchCV"
   ]
  },
  {
   "cell_type": "code",
   "execution_count": 88,
   "id": "6d598514",
   "metadata": {},
   "outputs": [
    {
     "name": "stdout",
     "output_type": "stream",
     "text": [
      "Fitting 5 folds for each of 2 candidates, totalling 10 fits\n",
      "CPU times: total: 1.59 s\n",
      "Wall time: 11.2 s\n"
     ]
    },
    {
     "data": {
      "text/html": [
       "<style>#sk-container-id-5 {color: black;background-color: white;}#sk-container-id-5 pre{padding: 0;}#sk-container-id-5 div.sk-toggleable {background-color: white;}#sk-container-id-5 label.sk-toggleable__label {cursor: pointer;display: block;width: 100%;margin-bottom: 0;padding: 0.3em;box-sizing: border-box;text-align: center;}#sk-container-id-5 label.sk-toggleable__label-arrow:before {content: \"▸\";float: left;margin-right: 0.25em;color: #696969;}#sk-container-id-5 label.sk-toggleable__label-arrow:hover:before {color: black;}#sk-container-id-5 div.sk-estimator:hover label.sk-toggleable__label-arrow:before {color: black;}#sk-container-id-5 div.sk-toggleable__content {max-height: 0;max-width: 0;overflow: hidden;text-align: left;background-color: #f0f8ff;}#sk-container-id-5 div.sk-toggleable__content pre {margin: 0.2em;color: black;border-radius: 0.25em;background-color: #f0f8ff;}#sk-container-id-5 input.sk-toggleable__control:checked~div.sk-toggleable__content {max-height: 200px;max-width: 100%;overflow: auto;}#sk-container-id-5 input.sk-toggleable__control:checked~label.sk-toggleable__label-arrow:before {content: \"▾\";}#sk-container-id-5 div.sk-estimator input.sk-toggleable__control:checked~label.sk-toggleable__label {background-color: #d4ebff;}#sk-container-id-5 div.sk-label input.sk-toggleable__control:checked~label.sk-toggleable__label {background-color: #d4ebff;}#sk-container-id-5 input.sk-hidden--visually {border: 0;clip: rect(1px 1px 1px 1px);clip: rect(1px, 1px, 1px, 1px);height: 1px;margin: -1px;overflow: hidden;padding: 0;position: absolute;width: 1px;}#sk-container-id-5 div.sk-estimator {font-family: monospace;background-color: #f0f8ff;border: 1px dotted black;border-radius: 0.25em;box-sizing: border-box;margin-bottom: 0.5em;}#sk-container-id-5 div.sk-estimator:hover {background-color: #d4ebff;}#sk-container-id-5 div.sk-parallel-item::after {content: \"\";width: 100%;border-bottom: 1px solid gray;flex-grow: 1;}#sk-container-id-5 div.sk-label:hover label.sk-toggleable__label {background-color: #d4ebff;}#sk-container-id-5 div.sk-serial::before {content: \"\";position: absolute;border-left: 1px solid gray;box-sizing: border-box;top: 0;bottom: 0;left: 50%;z-index: 0;}#sk-container-id-5 div.sk-serial {display: flex;flex-direction: column;align-items: center;background-color: white;padding-right: 0.2em;padding-left: 0.2em;position: relative;}#sk-container-id-5 div.sk-item {position: relative;z-index: 1;}#sk-container-id-5 div.sk-parallel {display: flex;align-items: stretch;justify-content: center;background-color: white;position: relative;}#sk-container-id-5 div.sk-item::before, #sk-container-id-5 div.sk-parallel-item::before {content: \"\";position: absolute;border-left: 1px solid gray;box-sizing: border-box;top: 0;bottom: 0;left: 50%;z-index: -1;}#sk-container-id-5 div.sk-parallel-item {display: flex;flex-direction: column;z-index: 1;position: relative;background-color: white;}#sk-container-id-5 div.sk-parallel-item:first-child::after {align-self: flex-end;width: 50%;}#sk-container-id-5 div.sk-parallel-item:last-child::after {align-self: flex-start;width: 50%;}#sk-container-id-5 div.sk-parallel-item:only-child::after {width: 0;}#sk-container-id-5 div.sk-dashed-wrapped {border: 1px dashed gray;margin: 0 0.4em 0.5em 0.4em;box-sizing: border-box;padding-bottom: 0.4em;background-color: white;}#sk-container-id-5 div.sk-label label {font-family: monospace;font-weight: bold;display: inline-block;line-height: 1.2em;}#sk-container-id-5 div.sk-label-container {text-align: center;}#sk-container-id-5 div.sk-container {/* jupyter's `normalize.less` sets `[hidden] { display: none; }` but bootstrap.min.css set `[hidden] { display: none !important; }` so we also need the `!important` here to be able to override the default hidden behavior on the sphinx rendered scikit-learn.org. See: https://github.com/scikit-learn/scikit-learn/issues/21755 */display: inline-block !important;position: relative;}#sk-container-id-5 div.sk-text-repr-fallback {display: none;}</style><div id=\"sk-container-id-5\" class=\"sk-top-container\"><div class=\"sk-text-repr-fallback\"><pre>RandomizedSearchCV(cv=5,\n",
       "                   estimator=RandomForestRegressor(n_jobs=-1, random_state=42),\n",
       "                   n_iter=2,\n",
       "                   param_distributions={&#x27;max_depth&#x27;: [None, 3, 5, 10],\n",
       "                                        &#x27;max_features&#x27;: [0.5, 1, &#x27;sqrt&#x27;,\n",
       "                                                         &#x27;auto&#x27;],\n",
       "                                        &#x27;max_samples&#x27;: [100],\n",
       "                                        &#x27;min_samples_leaf&#x27;: array([ 1,  3,  5,  7,  9, 11, 13, 15, 17, 19]),\n",
       "                                        &#x27;min_samples_split&#x27;: array([ 2,  4,  6,  8, 10, 12, 14, 16, 18]),\n",
       "                                        &#x27;n_estimators&#x27;: array([10, 20, 30, 40, 50, 60, 70, 80, 90])},\n",
       "                   verbose=True)</pre><b>In a Jupyter environment, please rerun this cell to show the HTML representation or trust the notebook. <br />On GitHub, the HTML representation is unable to render, please try loading this page with nbviewer.org.</b></div><div class=\"sk-container\" hidden><div class=\"sk-item sk-dashed-wrapped\"><div class=\"sk-label-container\"><div class=\"sk-label sk-toggleable\"><input class=\"sk-toggleable__control sk-hidden--visually\" id=\"sk-estimator-id-5\" type=\"checkbox\" ><label for=\"sk-estimator-id-5\" class=\"sk-toggleable__label sk-toggleable__label-arrow\">RandomizedSearchCV</label><div class=\"sk-toggleable__content\"><pre>RandomizedSearchCV(cv=5,\n",
       "                   estimator=RandomForestRegressor(n_jobs=-1, random_state=42),\n",
       "                   n_iter=2,\n",
       "                   param_distributions={&#x27;max_depth&#x27;: [None, 3, 5, 10],\n",
       "                                        &#x27;max_features&#x27;: [0.5, 1, &#x27;sqrt&#x27;,\n",
       "                                                         &#x27;auto&#x27;],\n",
       "                                        &#x27;max_samples&#x27;: [100],\n",
       "                                        &#x27;min_samples_leaf&#x27;: array([ 1,  3,  5,  7,  9, 11, 13, 15, 17, 19]),\n",
       "                                        &#x27;min_samples_split&#x27;: array([ 2,  4,  6,  8, 10, 12, 14, 16, 18]),\n",
       "                                        &#x27;n_estimators&#x27;: array([10, 20, 30, 40, 50, 60, 70, 80, 90])},\n",
       "                   verbose=True)</pre></div></div></div><div class=\"sk-parallel\"><div class=\"sk-parallel-item\"><div class=\"sk-item\"><div class=\"sk-label-container\"><div class=\"sk-label sk-toggleable\"><input class=\"sk-toggleable__control sk-hidden--visually\" id=\"sk-estimator-id-6\" type=\"checkbox\" ><label for=\"sk-estimator-id-6\" class=\"sk-toggleable__label sk-toggleable__label-arrow\">estimator: RandomForestRegressor</label><div class=\"sk-toggleable__content\"><pre>RandomForestRegressor(n_jobs=-1, random_state=42)</pre></div></div></div><div class=\"sk-serial\"><div class=\"sk-item\"><div class=\"sk-estimator sk-toggleable\"><input class=\"sk-toggleable__control sk-hidden--visually\" id=\"sk-estimator-id-7\" type=\"checkbox\" ><label for=\"sk-estimator-id-7\" class=\"sk-toggleable__label sk-toggleable__label-arrow\">RandomForestRegressor</label><div class=\"sk-toggleable__content\"><pre>RandomForestRegressor(n_jobs=-1, random_state=42)</pre></div></div></div></div></div></div></div></div></div></div>"
      ],
      "text/plain": [
       "RandomizedSearchCV(cv=5,\n",
       "                   estimator=RandomForestRegressor(n_jobs=-1, random_state=42),\n",
       "                   n_iter=2,\n",
       "                   param_distributions={'max_depth': [None, 3, 5, 10],\n",
       "                                        'max_features': [0.5, 1, 'sqrt',\n",
       "                                                         'auto'],\n",
       "                                        'max_samples': [100],\n",
       "                                        'min_samples_leaf': array([ 1,  3,  5,  7,  9, 11, 13, 15, 17, 19]),\n",
       "                                        'min_samples_split': array([ 2,  4,  6,  8, 10, 12, 14, 16, 18]),\n",
       "                                        'n_estimators': array([10, 20, 30, 40, 50, 60, 70, 80, 90])},\n",
       "                   verbose=True)"
      ]
     },
     "execution_count": 88,
     "metadata": {},
     "output_type": "execute_result"
    }
   ],
   "source": [
    "%%time\n",
    "from sklearn.model_selection import RandomizedSearchCV\n",
    "\n",
    "# Different RandomForestRegressor hyperparameters\n",
    "rf_grid = {\"n_estimators\": np.arange(10, 100, 10),\n",
    "           \"max_depth\": [None, 3, 5, 10],\n",
    "           \"min_samples_split\": np.arange(2, 20, 2),\n",
    "           \"min_samples_leaf\": np.arange(1, 20, 2),\n",
    "           \"max_features\": [0.5, 1, \"sqrt\", \"auto\"],\n",
    "           \"max_samples\": [100]}\n",
    "\n",
    "# Instantiate RandomizedSearchCV model\n",
    "rs_model = RandomizedSearchCV(RandomForestRegressor(n_jobs=-1,random_state=42),param_distributions=rf_grid,\n",
    "                              n_iter=2,cv=5,\n",
    "                              verbose=True)\n",
    "\n",
    "# Fit the RandomizedSearchCV model\n",
    "rs_model.fit(X_train, y_train)"
   ]
  },
  {
   "cell_type": "code",
   "execution_count": 89,
   "id": "12c77874",
   "metadata": {},
   "outputs": [
    {
     "data": {
      "text/plain": [
       "{'n_estimators': 90,\n",
       " 'min_samples_split': 6,\n",
       " 'min_samples_leaf': 1,\n",
       " 'max_samples': 100,\n",
       " 'max_features': 'sqrt',\n",
       " 'max_depth': None}"
      ]
     },
     "execution_count": 89,
     "metadata": {},
     "output_type": "execute_result"
    }
   ],
   "source": [
    "rs_model.best_params_"
   ]
  },
  {
   "cell_type": "code",
   "execution_count": 90,
   "id": "0e457fce",
   "metadata": {},
   "outputs": [
    {
     "data": {
      "text/plain": [
       "{'Training MAE': 3.022171206865836,\n",
       " 'Valid MAE': 3.304751606341194,\n",
       " 'Training RMSLE': 0.04747139081754705,\n",
       " 'Valid RMSLE': 0.04091998093700422,\n",
       " 'Training R^2': 0.9744786938516548,\n",
       " 'Valid R^2': 0.9068493107466015}"
      ]
     },
     "execution_count": 90,
     "metadata": {},
     "output_type": "execute_result"
    }
   ],
   "source": [
    "show_scores(rs_model)"
   ]
  },
  {
   "cell_type": "markdown",
   "id": "2bd37c15",
   "metadata": {},
   "source": [
    "# Train a model with the best hyperparamters"
   ]
  },
  {
   "cell_type": "code",
   "execution_count": 91,
   "id": "f4188808",
   "metadata": {},
   "outputs": [
    {
     "name": "stdout",
     "output_type": "stream",
     "text": [
      "CPU times: total: 31.2 ms\n",
      "Wall time: 31.8 ms\n"
     ]
    },
    {
     "data": {
      "text/html": [
       "<style>#sk-container-id-6 {color: black;background-color: white;}#sk-container-id-6 pre{padding: 0;}#sk-container-id-6 div.sk-toggleable {background-color: white;}#sk-container-id-6 label.sk-toggleable__label {cursor: pointer;display: block;width: 100%;margin-bottom: 0;padding: 0.3em;box-sizing: border-box;text-align: center;}#sk-container-id-6 label.sk-toggleable__label-arrow:before {content: \"▸\";float: left;margin-right: 0.25em;color: #696969;}#sk-container-id-6 label.sk-toggleable__label-arrow:hover:before {color: black;}#sk-container-id-6 div.sk-estimator:hover label.sk-toggleable__label-arrow:before {color: black;}#sk-container-id-6 div.sk-toggleable__content {max-height: 0;max-width: 0;overflow: hidden;text-align: left;background-color: #f0f8ff;}#sk-container-id-6 div.sk-toggleable__content pre {margin: 0.2em;color: black;border-radius: 0.25em;background-color: #f0f8ff;}#sk-container-id-6 input.sk-toggleable__control:checked~div.sk-toggleable__content {max-height: 200px;max-width: 100%;overflow: auto;}#sk-container-id-6 input.sk-toggleable__control:checked~label.sk-toggleable__label-arrow:before {content: \"▾\";}#sk-container-id-6 div.sk-estimator input.sk-toggleable__control:checked~label.sk-toggleable__label {background-color: #d4ebff;}#sk-container-id-6 div.sk-label input.sk-toggleable__control:checked~label.sk-toggleable__label {background-color: #d4ebff;}#sk-container-id-6 input.sk-hidden--visually {border: 0;clip: rect(1px 1px 1px 1px);clip: rect(1px, 1px, 1px, 1px);height: 1px;margin: -1px;overflow: hidden;padding: 0;position: absolute;width: 1px;}#sk-container-id-6 div.sk-estimator {font-family: monospace;background-color: #f0f8ff;border: 1px dotted black;border-radius: 0.25em;box-sizing: border-box;margin-bottom: 0.5em;}#sk-container-id-6 div.sk-estimator:hover {background-color: #d4ebff;}#sk-container-id-6 div.sk-parallel-item::after {content: \"\";width: 100%;border-bottom: 1px solid gray;flex-grow: 1;}#sk-container-id-6 div.sk-label:hover label.sk-toggleable__label {background-color: #d4ebff;}#sk-container-id-6 div.sk-serial::before {content: \"\";position: absolute;border-left: 1px solid gray;box-sizing: border-box;top: 0;bottom: 0;left: 50%;z-index: 0;}#sk-container-id-6 div.sk-serial {display: flex;flex-direction: column;align-items: center;background-color: white;padding-right: 0.2em;padding-left: 0.2em;position: relative;}#sk-container-id-6 div.sk-item {position: relative;z-index: 1;}#sk-container-id-6 div.sk-parallel {display: flex;align-items: stretch;justify-content: center;background-color: white;position: relative;}#sk-container-id-6 div.sk-item::before, #sk-container-id-6 div.sk-parallel-item::before {content: \"\";position: absolute;border-left: 1px solid gray;box-sizing: border-box;top: 0;bottom: 0;left: 50%;z-index: -1;}#sk-container-id-6 div.sk-parallel-item {display: flex;flex-direction: column;z-index: 1;position: relative;background-color: white;}#sk-container-id-6 div.sk-parallel-item:first-child::after {align-self: flex-end;width: 50%;}#sk-container-id-6 div.sk-parallel-item:last-child::after {align-self: flex-start;width: 50%;}#sk-container-id-6 div.sk-parallel-item:only-child::after {width: 0;}#sk-container-id-6 div.sk-dashed-wrapped {border: 1px dashed gray;margin: 0 0.4em 0.5em 0.4em;box-sizing: border-box;padding-bottom: 0.4em;background-color: white;}#sk-container-id-6 div.sk-label label {font-family: monospace;font-weight: bold;display: inline-block;line-height: 1.2em;}#sk-container-id-6 div.sk-label-container {text-align: center;}#sk-container-id-6 div.sk-container {/* jupyter's `normalize.less` sets `[hidden] { display: none; }` but bootstrap.min.css set `[hidden] { display: none !important; }` so we also need the `!important` here to be able to override the default hidden behavior on the sphinx rendered scikit-learn.org. See: https://github.com/scikit-learn/scikit-learn/issues/21755 */display: inline-block !important;position: relative;}#sk-container-id-6 div.sk-text-repr-fallback {display: none;}</style><div id=\"sk-container-id-6\" class=\"sk-top-container\"><div class=\"sk-text-repr-fallback\"><pre>RandomForestRegressor(max_features=1, min_samples_leaf=10, min_samples_split=10,\n",
       "                      n_estimators=10, n_jobs=-1, random_state=42)</pre><b>In a Jupyter environment, please rerun this cell to show the HTML representation or trust the notebook. <br />On GitHub, the HTML representation is unable to render, please try loading this page with nbviewer.org.</b></div><div class=\"sk-container\" hidden><div class=\"sk-item\"><div class=\"sk-estimator sk-toggleable\"><input class=\"sk-toggleable__control sk-hidden--visually\" id=\"sk-estimator-id-8\" type=\"checkbox\" checked><label for=\"sk-estimator-id-8\" class=\"sk-toggleable__label sk-toggleable__label-arrow\">RandomForestRegressor</label><div class=\"sk-toggleable__content\"><pre>RandomForestRegressor(max_features=1, min_samples_leaf=10, min_samples_split=10,\n",
       "                      n_estimators=10, n_jobs=-1, random_state=42)</pre></div></div></div></div></div>"
      ],
      "text/plain": [
       "RandomForestRegressor(max_features=1, min_samples_leaf=10, min_samples_split=10,\n",
       "                      n_estimators=10, n_jobs=-1, random_state=42)"
      ]
     },
     "execution_count": 91,
     "metadata": {},
     "output_type": "execute_result"
    }
   ],
   "source": [
    "%%time\n",
    "\n",
    "# Most ideal hyperparamters\n",
    "ideal_model = RandomForestRegressor(n_estimators=10,\n",
    "                                    min_samples_leaf=10,\n",
    "                                    min_samples_split=10,\n",
    "                                    max_features=1,\n",
    "                                    n_jobs=-1,\n",
    "                                    max_samples=None,\n",
    "                                    random_state=42) # random state so our results are reproducible\n",
    "\n",
    "# Fit the ideal model\n",
    "ideal_model.fit(X_train, y_train)"
   ]
  },
  {
   "cell_type": "code",
   "execution_count": 92,
   "id": "f99ce966",
   "metadata": {},
   "outputs": [
    {
     "data": {
      "text/plain": [
       "{'Training MAE': 10.511515494858049,\n",
       " 'Valid MAE': 10.179725479128052,\n",
       " 'Training RMSLE': 0.12945643691275663,\n",
       " 'Valid RMSLE': 0.06995395266077918,\n",
       " 'Training R^2': 0.7798916055146773,\n",
       " 'Valid R^2': 0.6759832816816411}"
      ]
     },
     "execution_count": 92,
     "metadata": {},
     "output_type": "execute_result"
    }
   ],
   "source": [
    "show_scores(ideal_model)"
   ]
  },
  {
   "cell_type": "code",
   "execution_count": 93,
   "id": "89eb5357",
   "metadata": {},
   "outputs": [
    {
     "data": {
      "text/plain": [
       "{'Training MAE': 3.0221712068658335,\n",
       " 'Valid MAE': 3.304751606341195,\n",
       " 'Training RMSLE': 0.047471390817547025,\n",
       " 'Valid RMSLE': 0.04091998093700417,\n",
       " 'Training R^2': 0.9744786938516548,\n",
       " 'Valid R^2': 0.9068493107466015}"
      ]
     },
     "execution_count": 93,
     "metadata": {},
     "output_type": "execute_result"
    }
   ],
   "source": [
    "show_scores(rs_model)"
   ]
  },
  {
   "cell_type": "markdown",
   "id": "583e698d",
   "metadata": {},
   "source": [
    "# Make predictions on test data"
   ]
  },
  {
   "cell_type": "code",
   "execution_count": 94,
   "id": "b5be7038",
   "metadata": {},
   "outputs": [
    {
     "data": {
      "text/html": [
       "<div>\n",
       "<style scoped>\n",
       "    .dataframe tbody tr th:only-of-type {\n",
       "        vertical-align: middle;\n",
       "    }\n",
       "\n",
       "    .dataframe tbody tr th {\n",
       "        vertical-align: top;\n",
       "    }\n",
       "\n",
       "    .dataframe thead th {\n",
       "        text-align: right;\n",
       "    }\n",
       "</style>\n",
       "<table border=\"1\" class=\"dataframe\">\n",
       "  <thead>\n",
       "    <tr style=\"text-align: right;\">\n",
       "      <th></th>\n",
       "      <th>Year</th>\n",
       "      <th>College Code</th>\n",
       "      <th>College_Name</th>\n",
       "      <th>Branch Code</th>\n",
       "      <th>Branch Name</th>\n",
       "      <th>BC</th>\n",
       "      <th>BCM</th>\n",
       "      <th>MBC</th>\n",
       "      <th>SC</th>\n",
       "      <th>SCA</th>\n",
       "      <th>ST</th>\n",
       "    </tr>\n",
       "  </thead>\n",
       "  <tbody>\n",
       "    <tr>\n",
       "      <th>0</th>\n",
       "      <td>2021-01-01</td>\n",
       "      <td>1</td>\n",
       "      <td>University Departments of Anna University, Che...</td>\n",
       "      <td>BY</td>\n",
       "      <td>BIO MEDICAL ENGINEERING (SS)</td>\n",
       "      <td>194.000000</td>\n",
       "      <td>193.500</td>\n",
       "      <td>194.775</td>\n",
       "      <td>189.00</td>\n",
       "      <td>182.500</td>\n",
       "      <td>181.000</td>\n",
       "    </tr>\n",
       "    <tr>\n",
       "      <th>1</th>\n",
       "      <td>2021-01-01</td>\n",
       "      <td>1</td>\n",
       "      <td>University Departments of Anna University, Che...</td>\n",
       "      <td>CE</td>\n",
       "      <td>CIVIL ENGINEERING</td>\n",
       "      <td>192.685000</td>\n",
       "      <td>190.500</td>\n",
       "      <td>193.330</td>\n",
       "      <td>190.00</td>\n",
       "      <td>182.000</td>\n",
       "      <td>174.635</td>\n",
       "    </tr>\n",
       "    <tr>\n",
       "      <th>2</th>\n",
       "      <td>2021-01-01</td>\n",
       "      <td>1</td>\n",
       "      <td>University Departments of Anna University, Che...</td>\n",
       "      <td>CM</td>\n",
       "      <td>COMPUTER SCIENCE AND ENGINEERING (SS)</td>\n",
       "      <td>197.666667</td>\n",
       "      <td>196.375</td>\n",
       "      <td>197.500</td>\n",
       "      <td>193.00</td>\n",
       "      <td>192.060</td>\n",
       "      <td>190.815</td>\n",
       "    </tr>\n",
       "    <tr>\n",
       "      <th>3</th>\n",
       "      <td>2021-01-01</td>\n",
       "      <td>1</td>\n",
       "      <td>University Departments of Anna University, Che...</td>\n",
       "      <td>CS</td>\n",
       "      <td>COMPUTER SCIENCE AND ENGINEERING</td>\n",
       "      <td>198.120000</td>\n",
       "      <td>197.020</td>\n",
       "      <td>198.625</td>\n",
       "      <td>196.50</td>\n",
       "      <td>193.935</td>\n",
       "      <td>192.165</td>\n",
       "    </tr>\n",
       "    <tr>\n",
       "      <th>4</th>\n",
       "      <td>2021-01-01</td>\n",
       "      <td>1</td>\n",
       "      <td>University Departments of Anna University, Che...</td>\n",
       "      <td>EC</td>\n",
       "      <td>ELECTRONICS AND COMMUNICATION ENGINEERING</td>\n",
       "      <td>197.333333</td>\n",
       "      <td>196.000</td>\n",
       "      <td>197.130</td>\n",
       "      <td>194.35</td>\n",
       "      <td>192.000</td>\n",
       "      <td>192.500</td>\n",
       "    </tr>\n",
       "  </tbody>\n",
       "</table>\n",
       "</div>"
      ],
      "text/plain": [
       "        Year  College Code                                       College_Name  \\\n",
       "0 2021-01-01             1  University Departments of Anna University, Che...   \n",
       "1 2021-01-01             1  University Departments of Anna University, Che...   \n",
       "2 2021-01-01             1  University Departments of Anna University, Che...   \n",
       "3 2021-01-01             1  University Departments of Anna University, Che...   \n",
       "4 2021-01-01             1  University Departments of Anna University, Che...   \n",
       "\n",
       "  Branch Code                                Branch Name          BC      BCM  \\\n",
       "0          BY               BIO MEDICAL ENGINEERING (SS)  194.000000  193.500   \n",
       "1          CE                          CIVIL ENGINEERING  192.685000  190.500   \n",
       "2          CM      COMPUTER SCIENCE AND ENGINEERING (SS)  197.666667  196.375   \n",
       "3          CS           COMPUTER SCIENCE AND ENGINEERING  198.120000  197.020   \n",
       "4          EC  ELECTRONICS AND COMMUNICATION ENGINEERING  197.333333  196.000   \n",
       "\n",
       "       MBC      SC      SCA       ST  \n",
       "0  194.775  189.00  182.500  181.000  \n",
       "1  193.330  190.00  182.000  174.635  \n",
       "2  197.500  193.00  192.060  190.815  \n",
       "3  198.625  196.50  193.935  192.165  \n",
       "4  197.130  194.35  192.000  192.500  "
      ]
     },
     "execution_count": 94,
     "metadata": {},
     "output_type": "execute_result"
    }
   ],
   "source": [
    "df_test = pd.read_csv(\"data/2021 - Sheet1.csv\",\n",
    "                      low_memory=False,\n",
    "                      parse_dates=[\"Year\"])\n",
    "\n",
    "df_test.head()"
   ]
  },
  {
   "cell_type": "code",
   "execution_count": 95,
   "id": "310346cc",
   "metadata": {},
   "outputs": [
    {
     "name": "stderr",
     "output_type": "stream",
     "text": [
      "C:\\Users\\indhu\\OneDrive\\Desktop\\tnea-proj\\env\\lib\\site-packages\\sklearn\\base.py:493: FutureWarning: The feature names should match those that were passed during fit. Starting version 1.2, an error will be raised.\n",
      "Feature names unseen at fit time:\n",
      "- Year\n",
      "Feature names seen at fit time, yet now missing:\n",
      "- BCM_is_missing\n",
      "- BC_is_missing\n",
      "- Branch Code_is_missing\n",
      "- Branch Name_is_missing\n",
      "- College_Name_is_missing\n",
      "- ...\n",
      "\n",
      "  warnings.warn(message, FutureWarning)\n"
     ]
    },
    {
     "ename": "TypeError",
     "evalue": "float() argument must be a string or a real number, not 'Timestamp'",
     "output_type": "error",
     "traceback": [
      "\u001b[1;31m---------------------------------------------------------------------------\u001b[0m",
      "\u001b[1;31mTypeError\u001b[0m                                 Traceback (most recent call last)",
      "Cell \u001b[1;32mIn [95], line 1\u001b[0m\n\u001b[1;32m----> 1\u001b[0m test_preds \u001b[38;5;241m=\u001b[39m \u001b[43mideal_model\u001b[49m\u001b[38;5;241;43m.\u001b[39;49m\u001b[43mpredict\u001b[49m\u001b[43m(\u001b[49m\u001b[43mdf_test\u001b[49m\u001b[43m)\u001b[49m\n",
      "File \u001b[1;32m~\\OneDrive\\Desktop\\tnea-proj\\env\\lib\\site-packages\\sklearn\\ensemble\\_forest.py:991\u001b[0m, in \u001b[0;36mForestRegressor.predict\u001b[1;34m(self, X)\u001b[0m\n\u001b[0;32m    989\u001b[0m check_is_fitted(\u001b[38;5;28mself\u001b[39m)\n\u001b[0;32m    990\u001b[0m \u001b[38;5;66;03m# Check data\u001b[39;00m\n\u001b[1;32m--> 991\u001b[0m X \u001b[38;5;241m=\u001b[39m \u001b[38;5;28;43mself\u001b[39;49m\u001b[38;5;241;43m.\u001b[39;49m\u001b[43m_validate_X_predict\u001b[49m\u001b[43m(\u001b[49m\u001b[43mX\u001b[49m\u001b[43m)\u001b[49m\n\u001b[0;32m    993\u001b[0m \u001b[38;5;66;03m# Assign chunk of trees to jobs\u001b[39;00m\n\u001b[0;32m    994\u001b[0m n_jobs, _, _ \u001b[38;5;241m=\u001b[39m _partition_estimators(\u001b[38;5;28mself\u001b[39m\u001b[38;5;241m.\u001b[39mn_estimators, \u001b[38;5;28mself\u001b[39m\u001b[38;5;241m.\u001b[39mn_jobs)\n",
      "File \u001b[1;32m~\\OneDrive\\Desktop\\tnea-proj\\env\\lib\\site-packages\\sklearn\\ensemble\\_forest.py:605\u001b[0m, in \u001b[0;36mBaseForest._validate_X_predict\u001b[1;34m(self, X)\u001b[0m\n\u001b[0;32m    602\u001b[0m \u001b[38;5;124;03m\"\"\"\u001b[39;00m\n\u001b[0;32m    603\u001b[0m \u001b[38;5;124;03mValidate X whenever one tries to predict, apply, predict_proba.\"\"\"\u001b[39;00m\n\u001b[0;32m    604\u001b[0m check_is_fitted(\u001b[38;5;28mself\u001b[39m)\n\u001b[1;32m--> 605\u001b[0m X \u001b[38;5;241m=\u001b[39m \u001b[38;5;28;43mself\u001b[39;49m\u001b[38;5;241;43m.\u001b[39;49m\u001b[43m_validate_data\u001b[49m\u001b[43m(\u001b[49m\u001b[43mX\u001b[49m\u001b[43m,\u001b[49m\u001b[43m \u001b[49m\u001b[43mdtype\u001b[49m\u001b[38;5;241;43m=\u001b[39;49m\u001b[43mDTYPE\u001b[49m\u001b[43m,\u001b[49m\u001b[43m \u001b[49m\u001b[43maccept_sparse\u001b[49m\u001b[38;5;241;43m=\u001b[39;49m\u001b[38;5;124;43m\"\u001b[39;49m\u001b[38;5;124;43mcsr\u001b[39;49m\u001b[38;5;124;43m\"\u001b[39;49m\u001b[43m,\u001b[49m\u001b[43m \u001b[49m\u001b[43mreset\u001b[49m\u001b[38;5;241;43m=\u001b[39;49m\u001b[38;5;28;43;01mFalse\u001b[39;49;00m\u001b[43m)\u001b[49m\n\u001b[0;32m    606\u001b[0m \u001b[38;5;28;01mif\u001b[39;00m issparse(X) \u001b[38;5;129;01mand\u001b[39;00m (X\u001b[38;5;241m.\u001b[39mindices\u001b[38;5;241m.\u001b[39mdtype \u001b[38;5;241m!=\u001b[39m np\u001b[38;5;241m.\u001b[39mintc \u001b[38;5;129;01mor\u001b[39;00m X\u001b[38;5;241m.\u001b[39mindptr\u001b[38;5;241m.\u001b[39mdtype \u001b[38;5;241m!=\u001b[39m np\u001b[38;5;241m.\u001b[39mintc):\n\u001b[0;32m    607\u001b[0m     \u001b[38;5;28;01mraise\u001b[39;00m \u001b[38;5;167;01mValueError\u001b[39;00m(\u001b[38;5;124m\"\u001b[39m\u001b[38;5;124mNo support for np.int64 index based sparse matrices\u001b[39m\u001b[38;5;124m\"\u001b[39m)\n",
      "File \u001b[1;32m~\\OneDrive\\Desktop\\tnea-proj\\env\\lib\\site-packages\\sklearn\\base.py:577\u001b[0m, in \u001b[0;36mBaseEstimator._validate_data\u001b[1;34m(self, X, y, reset, validate_separately, **check_params)\u001b[0m\n\u001b[0;32m    575\u001b[0m     \u001b[38;5;28;01mraise\u001b[39;00m \u001b[38;5;167;01mValueError\u001b[39;00m(\u001b[38;5;124m\"\u001b[39m\u001b[38;5;124mValidation should be done on X, y or both.\u001b[39m\u001b[38;5;124m\"\u001b[39m)\n\u001b[0;32m    576\u001b[0m \u001b[38;5;28;01melif\u001b[39;00m \u001b[38;5;129;01mnot\u001b[39;00m no_val_X \u001b[38;5;129;01mand\u001b[39;00m no_val_y:\n\u001b[1;32m--> 577\u001b[0m     X \u001b[38;5;241m=\u001b[39m check_array(X, input_name\u001b[38;5;241m=\u001b[39m\u001b[38;5;124m\"\u001b[39m\u001b[38;5;124mX\u001b[39m\u001b[38;5;124m\"\u001b[39m, \u001b[38;5;241m*\u001b[39m\u001b[38;5;241m*\u001b[39mcheck_params)\n\u001b[0;32m    578\u001b[0m     out \u001b[38;5;241m=\u001b[39m X\n\u001b[0;32m    579\u001b[0m \u001b[38;5;28;01melif\u001b[39;00m no_val_X \u001b[38;5;129;01mand\u001b[39;00m \u001b[38;5;129;01mnot\u001b[39;00m no_val_y:\n",
      "File \u001b[1;32m~\\OneDrive\\Desktop\\tnea-proj\\env\\lib\\site-packages\\sklearn\\utils\\validation.py:856\u001b[0m, in \u001b[0;36mcheck_array\u001b[1;34m(array, accept_sparse, accept_large_sparse, dtype, order, copy, force_all_finite, ensure_2d, allow_nd, ensure_min_samples, ensure_min_features, estimator, input_name)\u001b[0m\n\u001b[0;32m    854\u001b[0m         array \u001b[38;5;241m=\u001b[39m array\u001b[38;5;241m.\u001b[39mastype(dtype, casting\u001b[38;5;241m=\u001b[39m\u001b[38;5;124m\"\u001b[39m\u001b[38;5;124munsafe\u001b[39m\u001b[38;5;124m\"\u001b[39m, copy\u001b[38;5;241m=\u001b[39m\u001b[38;5;28;01mFalse\u001b[39;00m)\n\u001b[0;32m    855\u001b[0m     \u001b[38;5;28;01melse\u001b[39;00m:\n\u001b[1;32m--> 856\u001b[0m         array \u001b[38;5;241m=\u001b[39m \u001b[43mnp\u001b[49m\u001b[38;5;241;43m.\u001b[39;49m\u001b[43masarray\u001b[49m\u001b[43m(\u001b[49m\u001b[43marray\u001b[49m\u001b[43m,\u001b[49m\u001b[43m \u001b[49m\u001b[43morder\u001b[49m\u001b[38;5;241;43m=\u001b[39;49m\u001b[43morder\u001b[49m\u001b[43m,\u001b[49m\u001b[43m \u001b[49m\u001b[43mdtype\u001b[49m\u001b[38;5;241;43m=\u001b[39;49m\u001b[43mdtype\u001b[49m\u001b[43m)\u001b[49m\n\u001b[0;32m    857\u001b[0m \u001b[38;5;28;01mexcept\u001b[39;00m ComplexWarning \u001b[38;5;28;01mas\u001b[39;00m complex_warning:\n\u001b[0;32m    858\u001b[0m     \u001b[38;5;28;01mraise\u001b[39;00m \u001b[38;5;167;01mValueError\u001b[39;00m(\n\u001b[0;32m    859\u001b[0m         \u001b[38;5;124m\"\u001b[39m\u001b[38;5;124mComplex data not supported\u001b[39m\u001b[38;5;130;01m\\n\u001b[39;00m\u001b[38;5;132;01m{}\u001b[39;00m\u001b[38;5;130;01m\\n\u001b[39;00m\u001b[38;5;124m\"\u001b[39m\u001b[38;5;241m.\u001b[39mformat(array)\n\u001b[0;32m    860\u001b[0m     ) \u001b[38;5;28;01mfrom\u001b[39;00m \u001b[38;5;21;01mcomplex_warning\u001b[39;00m\n",
      "File \u001b[1;32m~\\OneDrive\\Desktop\\tnea-proj\\env\\lib\\site-packages\\pandas\\core\\generic.py:2064\u001b[0m, in \u001b[0;36mNDFrame.__array__\u001b[1;34m(self, dtype)\u001b[0m\n\u001b[0;32m   2063\u001b[0m \u001b[38;5;28;01mdef\u001b[39;00m \u001b[38;5;21m__array__\u001b[39m(\u001b[38;5;28mself\u001b[39m, dtype: npt\u001b[38;5;241m.\u001b[39mDTypeLike \u001b[38;5;241m|\u001b[39m \u001b[38;5;28;01mNone\u001b[39;00m \u001b[38;5;241m=\u001b[39m \u001b[38;5;28;01mNone\u001b[39;00m) \u001b[38;5;241m-\u001b[39m\u001b[38;5;241m>\u001b[39m np\u001b[38;5;241m.\u001b[39mndarray:\n\u001b[1;32m-> 2064\u001b[0m     \u001b[38;5;28;01mreturn\u001b[39;00m \u001b[43mnp\u001b[49m\u001b[38;5;241;43m.\u001b[39;49m\u001b[43masarray\u001b[49m\u001b[43m(\u001b[49m\u001b[38;5;28;43mself\u001b[39;49m\u001b[38;5;241;43m.\u001b[39;49m\u001b[43m_values\u001b[49m\u001b[43m,\u001b[49m\u001b[43m \u001b[49m\u001b[43mdtype\u001b[49m\u001b[38;5;241;43m=\u001b[39;49m\u001b[43mdtype\u001b[49m\u001b[43m)\u001b[49m\n",
      "\u001b[1;31mTypeError\u001b[0m: float() argument must be a string or a real number, not 'Timestamp'"
     ]
    }
   ],
   "source": [
    "test_preds = ideal_model.predict(df_test)"
   ]
  },
  {
   "cell_type": "markdown",
   "id": "570d1f05",
   "metadata": {},
   "source": [
    "# Preprocessing the data (getting the test dataset in the same format as our training dataset)"
   ]
  },
  {
   "cell_type": "markdown",
   "id": "988fb086",
   "metadata": {},
   "source": [
    "df_test.isna().sum()"
   ]
  },
  {
   "cell_type": "markdown",
   "id": "ba7e400e",
   "metadata": {},
   "source": [
    "df_test.info()"
   ]
  },
  {
   "cell_type": "markdown",
   "id": "38db150a",
   "metadata": {},
   "source": [
    "df_test.columns\n"
   ]
  },
  {
   "cell_type": "markdown",
   "id": "44f9db71",
   "metadata": {},
   "source": [
    "X_train.columns"
   ]
  },
  {
   "cell_type": "code",
   "execution_count": 97,
   "id": "79904e3f",
   "metadata": {},
   "outputs": [],
   "source": [
    "def preprocess_data(df):\n",
    "    \"\"\"\n",
    "    Performs transformations on df and returns transformed df.\n",
    "    \"\"\"\n",
    "    df[\"tYear\"] = df.Year.dt.year\n",
    "    #df_tmp[\"Year\"] = df_tmp.Year.dt.year\n",
    "    \n",
    "    df.drop(\"Year\", axis=1, inplace=True)\n",
    "    \n",
    "    # Fill the numeric rows with median\n",
    "    for label, content in df.items():\n",
    "        if pd.api.types.is_numeric_dtype(content):\n",
    "            if pd.isnull(content).sum():\n",
    "                # Add a binary column which tells us if the data was missing or not\n",
    "                df[label+\"_is_missing\"] = pd.isnull(content)\n",
    "                # Fill missing numeric values with median\n",
    "                df[label] = content.fillna(content.median())\n",
    "    \n",
    "        # Filled categorical missing data and turn categories into numbers\n",
    "        if not pd.api.types.is_numeric_dtype(content):\n",
    "            df[label+\"_is_missing\"] = pd.isnull(content)\n",
    "            # We add +1 to the category code because pandas encodes missing categories as -1\n",
    "            df[label] = pd.Categorical(content).codes+1\n",
    "    \n",
    "    return df"
   ]
  },
  {
   "cell_type": "code",
   "execution_count": 98,
   "id": "fc439cdc",
   "metadata": {},
   "outputs": [
    {
     "data": {
      "text/html": [
       "<div>\n",
       "<style scoped>\n",
       "    .dataframe tbody tr th:only-of-type {\n",
       "        vertical-align: middle;\n",
       "    }\n",
       "\n",
       "    .dataframe tbody tr th {\n",
       "        vertical-align: top;\n",
       "    }\n",
       "\n",
       "    .dataframe thead th {\n",
       "        text-align: right;\n",
       "    }\n",
       "</style>\n",
       "<table border=\"1\" class=\"dataframe\">\n",
       "  <thead>\n",
       "    <tr style=\"text-align: right;\">\n",
       "      <th></th>\n",
       "      <th>College Code</th>\n",
       "      <th>College_Name</th>\n",
       "      <th>Branch Code</th>\n",
       "      <th>Branch Name</th>\n",
       "      <th>BC</th>\n",
       "      <th>BCM</th>\n",
       "      <th>MBC</th>\n",
       "      <th>SC</th>\n",
       "      <th>SCA</th>\n",
       "      <th>ST</th>\n",
       "      <th>tYear</th>\n",
       "      <th>College_Name_is_missing</th>\n",
       "      <th>Branch Code_is_missing</th>\n",
       "      <th>Branch Name_is_missing</th>\n",
       "      <th>BC_is_missing</th>\n",
       "      <th>BCM_is_missing</th>\n",
       "      <th>MBC_is_missing</th>\n",
       "      <th>SC_is_missing</th>\n",
       "      <th>SCA_is_missing</th>\n",
       "      <th>ST_is_missing</th>\n",
       "    </tr>\n",
       "  </thead>\n",
       "  <tbody>\n",
       "    <tr>\n",
       "      <th>0</th>\n",
       "      <td>1</td>\n",
       "      <td>5</td>\n",
       "      <td>5</td>\n",
       "      <td>4</td>\n",
       "      <td>194.000000</td>\n",
       "      <td>193.500</td>\n",
       "      <td>194.775</td>\n",
       "      <td>189.00</td>\n",
       "      <td>182.500</td>\n",
       "      <td>181.000</td>\n",
       "      <td>2021</td>\n",
       "      <td>False</td>\n",
       "      <td>False</td>\n",
       "      <td>False</td>\n",
       "      <td>False</td>\n",
       "      <td>False</td>\n",
       "      <td>False</td>\n",
       "      <td>False</td>\n",
       "      <td>False</td>\n",
       "      <td>False</td>\n",
       "    </tr>\n",
       "    <tr>\n",
       "      <th>1</th>\n",
       "      <td>1</td>\n",
       "      <td>5</td>\n",
       "      <td>6</td>\n",
       "      <td>9</td>\n",
       "      <td>192.685000</td>\n",
       "      <td>190.500</td>\n",
       "      <td>193.330</td>\n",
       "      <td>190.00</td>\n",
       "      <td>182.000</td>\n",
       "      <td>174.635</td>\n",
       "      <td>2021</td>\n",
       "      <td>False</td>\n",
       "      <td>False</td>\n",
       "      <td>False</td>\n",
       "      <td>False</td>\n",
       "      <td>False</td>\n",
       "      <td>False</td>\n",
       "      <td>False</td>\n",
       "      <td>False</td>\n",
       "      <td>False</td>\n",
       "    </tr>\n",
       "    <tr>\n",
       "      <th>2</th>\n",
       "      <td>1</td>\n",
       "      <td>5</td>\n",
       "      <td>10</td>\n",
       "      <td>14</td>\n",
       "      <td>197.666667</td>\n",
       "      <td>196.375</td>\n",
       "      <td>197.500</td>\n",
       "      <td>193.00</td>\n",
       "      <td>192.060</td>\n",
       "      <td>190.815</td>\n",
       "      <td>2021</td>\n",
       "      <td>False</td>\n",
       "      <td>False</td>\n",
       "      <td>False</td>\n",
       "      <td>False</td>\n",
       "      <td>False</td>\n",
       "      <td>False</td>\n",
       "      <td>False</td>\n",
       "      <td>False</td>\n",
       "      <td>False</td>\n",
       "    </tr>\n",
       "    <tr>\n",
       "      <th>3</th>\n",
       "      <td>1</td>\n",
       "      <td>5</td>\n",
       "      <td>12</td>\n",
       "      <td>11</td>\n",
       "      <td>198.120000</td>\n",
       "      <td>197.020</td>\n",
       "      <td>198.625</td>\n",
       "      <td>196.50</td>\n",
       "      <td>193.935</td>\n",
       "      <td>192.165</td>\n",
       "      <td>2021</td>\n",
       "      <td>False</td>\n",
       "      <td>False</td>\n",
       "      <td>False</td>\n",
       "      <td>False</td>\n",
       "      <td>False</td>\n",
       "      <td>False</td>\n",
       "      <td>False</td>\n",
       "      <td>False</td>\n",
       "      <td>False</td>\n",
       "    </tr>\n",
       "    <tr>\n",
       "      <th>4</th>\n",
       "      <td>1</td>\n",
       "      <td>5</td>\n",
       "      <td>14</td>\n",
       "      <td>16</td>\n",
       "      <td>197.333333</td>\n",
       "      <td>196.000</td>\n",
       "      <td>197.130</td>\n",
       "      <td>194.35</td>\n",
       "      <td>192.000</td>\n",
       "      <td>192.500</td>\n",
       "      <td>2021</td>\n",
       "      <td>False</td>\n",
       "      <td>False</td>\n",
       "      <td>False</td>\n",
       "      <td>False</td>\n",
       "      <td>False</td>\n",
       "      <td>False</td>\n",
       "      <td>False</td>\n",
       "      <td>False</td>\n",
       "      <td>False</td>\n",
       "    </tr>\n",
       "  </tbody>\n",
       "</table>\n",
       "</div>"
      ],
      "text/plain": [
       "   College Code  College_Name  Branch Code  Branch Name          BC      BCM  \\\n",
       "0             1             5            5            4  194.000000  193.500   \n",
       "1             1             5            6            9  192.685000  190.500   \n",
       "2             1             5           10           14  197.666667  196.375   \n",
       "3             1             5           12           11  198.120000  197.020   \n",
       "4             1             5           14           16  197.333333  196.000   \n",
       "\n",
       "       MBC      SC      SCA       ST  tYear  College_Name_is_missing  \\\n",
       "0  194.775  189.00  182.500  181.000   2021                    False   \n",
       "1  193.330  190.00  182.000  174.635   2021                    False   \n",
       "2  197.500  193.00  192.060  190.815   2021                    False   \n",
       "3  198.625  196.50  193.935  192.165   2021                    False   \n",
       "4  197.130  194.35  192.000  192.500   2021                    False   \n",
       "\n",
       "   Branch Code_is_missing  Branch Name_is_missing  BC_is_missing  \\\n",
       "0                   False                   False          False   \n",
       "1                   False                   False          False   \n",
       "2                   False                   False          False   \n",
       "3                   False                   False          False   \n",
       "4                   False                   False          False   \n",
       "\n",
       "   BCM_is_missing  MBC_is_missing  SC_is_missing  SCA_is_missing  \\\n",
       "0           False           False          False           False   \n",
       "1           False           False          False           False   \n",
       "2           False           False          False           False   \n",
       "3           False           False          False           False   \n",
       "4           False           False          False           False   \n",
       "\n",
       "   ST_is_missing  \n",
       "0          False  \n",
       "1          False  \n",
       "2          False  \n",
       "3          False  \n",
       "4          False  "
      ]
     },
     "execution_count": 98,
     "metadata": {},
     "output_type": "execute_result"
    }
   ],
   "source": [
    "df_test = preprocess_data(df_test)\n",
    "df_test.head()"
   ]
  },
  {
   "cell_type": "code",
   "execution_count": 99,
   "id": "2306e132",
   "metadata": {},
   "outputs": [
    {
     "name": "stderr",
     "output_type": "stream",
     "text": [
      "C:\\Users\\indhu\\OneDrive\\Desktop\\tnea-proj\\env\\lib\\site-packages\\sklearn\\base.py:493: FutureWarning: The feature names should match those that were passed during fit. Starting version 1.2, an error will be raised.\n",
      "Feature names must be in the same order as they were in fit.\n",
      "\n",
      "  warnings.warn(message, FutureWarning)\n"
     ]
    }
   ],
   "source": [
    "test_preds = ideal_model.predict(df_test)"
   ]
  },
  {
   "cell_type": "code",
   "execution_count": 100,
   "id": "1ee2c673",
   "metadata": {},
   "outputs": [
    {
     "data": {
      "text/html": [
       "<div>\n",
       "<style scoped>\n",
       "    .dataframe tbody tr th:only-of-type {\n",
       "        vertical-align: middle;\n",
       "    }\n",
       "\n",
       "    .dataframe tbody tr th {\n",
       "        vertical-align: top;\n",
       "    }\n",
       "\n",
       "    .dataframe thead th {\n",
       "        text-align: right;\n",
       "    }\n",
       "</style>\n",
       "<table border=\"1\" class=\"dataframe\">\n",
       "  <thead>\n",
       "    <tr style=\"text-align: right;\">\n",
       "      <th></th>\n",
       "      <th>College Code</th>\n",
       "      <th>College_Name</th>\n",
       "      <th>Branch Code</th>\n",
       "      <th>Branch Name</th>\n",
       "      <th>BC</th>\n",
       "      <th>BCM</th>\n",
       "      <th>MBC</th>\n",
       "      <th>SC</th>\n",
       "      <th>SCA</th>\n",
       "      <th>ST</th>\n",
       "      <th>tYear</th>\n",
       "      <th>BC_is_missing</th>\n",
       "      <th>BCM_is_missing</th>\n",
       "      <th>MBC_is_missing</th>\n",
       "      <th>SC_is_missing</th>\n",
       "      <th>SCA_is_missing</th>\n",
       "      <th>ST_is_missing</th>\n",
       "      <th>College_Name_is_missing</th>\n",
       "      <th>Branch Code_is_missing</th>\n",
       "      <th>Branch Name_is_missing</th>\n",
       "    </tr>\n",
       "  </thead>\n",
       "  <tbody>\n",
       "    <tr>\n",
       "      <th>60</th>\n",
       "      <td>4</td>\n",
       "      <td>9</td>\n",
       "      <td>31</td>\n",
       "      <td>72</td>\n",
       "      <td>196.25</td>\n",
       "      <td>194.00</td>\n",
       "      <td>195.00</td>\n",
       "      <td>190.00</td>\n",
       "      <td>182.75</td>\n",
       "      <td>168.75</td>\n",
       "      <td>2018</td>\n",
       "      <td>False</td>\n",
       "      <td>False</td>\n",
       "      <td>False</td>\n",
       "      <td>False</td>\n",
       "      <td>False</td>\n",
       "      <td>False</td>\n",
       "      <td>False</td>\n",
       "      <td>False</td>\n",
       "      <td>False</td>\n",
       "    </tr>\n",
       "    <tr>\n",
       "      <th>61</th>\n",
       "      <td>4</td>\n",
       "      <td>9</td>\n",
       "      <td>37</td>\n",
       "      <td>87</td>\n",
       "      <td>192.25</td>\n",
       "      <td>189.75</td>\n",
       "      <td>189.75</td>\n",
       "      <td>178.00</td>\n",
       "      <td>169.50</td>\n",
       "      <td>119.75</td>\n",
       "      <td>2018</td>\n",
       "      <td>False</td>\n",
       "      <td>False</td>\n",
       "      <td>False</td>\n",
       "      <td>False</td>\n",
       "      <td>False</td>\n",
       "      <td>False</td>\n",
       "      <td>False</td>\n",
       "      <td>False</td>\n",
       "      <td>False</td>\n",
       "    </tr>\n",
       "    <tr>\n",
       "      <th>62</th>\n",
       "      <td>4</td>\n",
       "      <td>9</td>\n",
       "      <td>6</td>\n",
       "      <td>4</td>\n",
       "      <td>194.25</td>\n",
       "      <td>191.75</td>\n",
       "      <td>193.00</td>\n",
       "      <td>182.25</td>\n",
       "      <td>179.00</td>\n",
       "      <td>171.25</td>\n",
       "      <td>2018</td>\n",
       "      <td>False</td>\n",
       "      <td>False</td>\n",
       "      <td>False</td>\n",
       "      <td>False</td>\n",
       "      <td>False</td>\n",
       "      <td>False</td>\n",
       "      <td>False</td>\n",
       "      <td>False</td>\n",
       "      <td>False</td>\n",
       "    </tr>\n",
       "    <tr>\n",
       "      <th>63</th>\n",
       "      <td>1013</td>\n",
       "      <td>6</td>\n",
       "      <td>14</td>\n",
       "      <td>20</td>\n",
       "      <td>161.75</td>\n",
       "      <td>159.25</td>\n",
       "      <td>163.50</td>\n",
       "      <td>143.50</td>\n",
       "      <td>161.75</td>\n",
       "      <td>118.00</td>\n",
       "      <td>2018</td>\n",
       "      <td>False</td>\n",
       "      <td>False</td>\n",
       "      <td>False</td>\n",
       "      <td>False</td>\n",
       "      <td>True</td>\n",
       "      <td>False</td>\n",
       "      <td>False</td>\n",
       "      <td>False</td>\n",
       "      <td>False</td>\n",
       "    </tr>\n",
       "    <tr>\n",
       "      <th>64</th>\n",
       "      <td>4</td>\n",
       "      <td>9</td>\n",
       "      <td>39</td>\n",
       "      <td>95</td>\n",
       "      <td>188.00</td>\n",
       "      <td>185.25</td>\n",
       "      <td>185.50</td>\n",
       "      <td>172.00</td>\n",
       "      <td>146.75</td>\n",
       "      <td>141.75</td>\n",
       "      <td>2018</td>\n",
       "      <td>False</td>\n",
       "      <td>False</td>\n",
       "      <td>False</td>\n",
       "      <td>False</td>\n",
       "      <td>False</td>\n",
       "      <td>False</td>\n",
       "      <td>False</td>\n",
       "      <td>False</td>\n",
       "      <td>False</td>\n",
       "    </tr>\n",
       "  </tbody>\n",
       "</table>\n",
       "</div>"
      ],
      "text/plain": [
       "    College Code  College_Name  Branch Code  Branch Name      BC     BCM  \\\n",
       "60             4             9           31           72  196.25  194.00   \n",
       "61             4             9           37           87  192.25  189.75   \n",
       "62             4             9            6            4  194.25  191.75   \n",
       "63          1013             6           14           20  161.75  159.25   \n",
       "64             4             9           39           95  188.00  185.25   \n",
       "\n",
       "       MBC      SC     SCA      ST  tYear  BC_is_missing  BCM_is_missing  \\\n",
       "60  195.00  190.00  182.75  168.75   2018          False           False   \n",
       "61  189.75  178.00  169.50  119.75   2018          False           False   \n",
       "62  193.00  182.25  179.00  171.25   2018          False           False   \n",
       "63  163.50  143.50  161.75  118.00   2018          False           False   \n",
       "64  185.50  172.00  146.75  141.75   2018          False           False   \n",
       "\n",
       "    MBC_is_missing  SC_is_missing  SCA_is_missing  ST_is_missing  \\\n",
       "60           False          False           False          False   \n",
       "61           False          False           False          False   \n",
       "62           False          False           False          False   \n",
       "63           False          False            True          False   \n",
       "64           False          False           False          False   \n",
       "\n",
       "    College_Name_is_missing  Branch Code_is_missing  Branch Name_is_missing  \n",
       "60                    False                   False                   False  \n",
       "61                    False                   False                   False  \n",
       "62                    False                   False                   False  \n",
       "63                    False                   False                   False  \n",
       "64                    False                   False                   False  "
      ]
     },
     "execution_count": 100,
     "metadata": {},
     "output_type": "execute_result"
    }
   ],
   "source": [
    "X_train.head()"
   ]
  },
  {
   "cell_type": "code",
   "execution_count": 101,
   "id": "375731ef",
   "metadata": {},
   "outputs": [
    {
     "data": {
      "text/plain": [
       "set()"
      ]
     },
     "execution_count": 101,
     "metadata": {},
     "output_type": "execute_result"
    }
   ],
   "source": [
    "set(X_train.columns) - set(df_test.columns)"
   ]
  },
  {
   "cell_type": "markdown",
   "id": "21d403a1",
   "metadata": {},
   "source": [
    "df_test[\"set()\"] = False\n",
    "df_test.head()"
   ]
  },
  {
   "cell_type": "code",
   "execution_count": 102,
   "id": "731eda32",
   "metadata": {},
   "outputs": [
    {
     "name": "stderr",
     "output_type": "stream",
     "text": [
      "C:\\Users\\indhu\\OneDrive\\Desktop\\tnea-proj\\env\\lib\\site-packages\\sklearn\\base.py:493: FutureWarning: The feature names should match those that were passed during fit. Starting version 1.2, an error will be raised.\n",
      "Feature names must be in the same order as they were in fit.\n",
      "\n",
      "  warnings.warn(message, FutureWarning)\n"
     ]
    }
   ],
   "source": [
    "test_preds = ideal_model.predict(df_test)"
   ]
  },
  {
   "cell_type": "markdown",
   "id": "62bb7adf",
   "metadata": {},
   "source": [
    "test_preds = ideal_model.predict(df_test)"
   ]
  },
  {
   "cell_type": "markdown",
   "id": "3052c3ab",
   "metadata": {},
   "source": [
    "df_test[\"set()\"] = False\n",
    "df_test[\"Branch Code_is_missing\"] = False\n",
    "df_test[\"Branch Name_is_missing\"] = False\n",
    "df_test[\"College_Name_is_missing\"] = False\n",
    "df_test.head()"
   ]
  },
  {
   "cell_type": "code",
   "execution_count": 103,
   "id": "d09cb99b",
   "metadata": {},
   "outputs": [
    {
     "data": {
      "text/plain": [
       "array([180.30313625, 180.30313625, 183.12119921, 183.12119921,\n",
       "       183.12119921, 182.761601  , 183.12119921, 182.761601  ,\n",
       "       182.55675153, 182.91634975, 182.55675153, 182.55675153,\n",
       "       182.55869076, 182.55675153, 182.55869076, 181.44410297,\n",
       "       181.31827507, 178.99728039, 170.47623596, 180.30313625,\n",
       "       180.78256521, 181.49255338, 181.49255338, 182.761601  ,\n",
       "       180.55040907, 182.55869076, 181.76649035, 181.07764591,\n",
       "       177.20449791, 175.93545029, 180.02256087, 180.02256087,\n",
       "       178.39391503, 179.66296265, 179.66296265, 179.45811319,\n",
       "       179.98535003, 179.46005241, 179.46005241, 166.24698996,\n",
       "       160.86053069, 157.88521224, 164.29243114, 168.97626517,\n",
       "       158.20806132, 156.91177653, 159.96513369, 168.21543243,\n",
       "       162.43204819, 158.72061093, 160.43698276, 165.54436471,\n",
       "       162.64581551, 164.52933725, 151.04068467, 156.57290714,\n",
       "       159.10345832, 164.60037433, 163.31899543, 166.01832104])"
      ]
     },
     "execution_count": 103,
     "metadata": {},
     "output_type": "execute_result"
    }
   ],
   "source": [
    "test_preds"
   ]
  },
  {
   "cell_type": "code",
   "execution_count": 104,
   "id": "9341dc0e",
   "metadata": {},
   "outputs": [
    {
     "data": {
      "text/html": [
       "<div>\n",
       "<style scoped>\n",
       "    .dataframe tbody tr th:only-of-type {\n",
       "        vertical-align: middle;\n",
       "    }\n",
       "\n",
       "    .dataframe tbody tr th {\n",
       "        vertical-align: top;\n",
       "    }\n",
       "\n",
       "    .dataframe thead th {\n",
       "        text-align: right;\n",
       "    }\n",
       "</style>\n",
       "<table border=\"1\" class=\"dataframe\">\n",
       "  <thead>\n",
       "    <tr style=\"text-align: right;\">\n",
       "      <th></th>\n",
       "      <th>College_Name</th>\n",
       "      <th>OC</th>\n",
       "    </tr>\n",
       "  </thead>\n",
       "  <tbody>\n",
       "    <tr>\n",
       "      <th>0</th>\n",
       "      <td>5</td>\n",
       "      <td>180.303136</td>\n",
       "    </tr>\n",
       "    <tr>\n",
       "      <th>1</th>\n",
       "      <td>5</td>\n",
       "      <td>180.303136</td>\n",
       "    </tr>\n",
       "    <tr>\n",
       "      <th>2</th>\n",
       "      <td>5</td>\n",
       "      <td>183.121199</td>\n",
       "    </tr>\n",
       "    <tr>\n",
       "      <th>3</th>\n",
       "      <td>5</td>\n",
       "      <td>183.121199</td>\n",
       "    </tr>\n",
       "    <tr>\n",
       "      <th>4</th>\n",
       "      <td>5</td>\n",
       "      <td>183.121199</td>\n",
       "    </tr>\n",
       "    <tr>\n",
       "      <th>5</th>\n",
       "      <td>5</td>\n",
       "      <td>182.761601</td>\n",
       "    </tr>\n",
       "    <tr>\n",
       "      <th>6</th>\n",
       "      <td>5</td>\n",
       "      <td>183.121199</td>\n",
       "    </tr>\n",
       "    <tr>\n",
       "      <th>7</th>\n",
       "      <td>5</td>\n",
       "      <td>182.761601</td>\n",
       "    </tr>\n",
       "    <tr>\n",
       "      <th>8</th>\n",
       "      <td>5</td>\n",
       "      <td>182.556752</td>\n",
       "    </tr>\n",
       "    <tr>\n",
       "      <th>9</th>\n",
       "      <td>5</td>\n",
       "      <td>182.916350</td>\n",
       "    </tr>\n",
       "    <tr>\n",
       "      <th>10</th>\n",
       "      <td>5</td>\n",
       "      <td>182.556752</td>\n",
       "    </tr>\n",
       "    <tr>\n",
       "      <th>11</th>\n",
       "      <td>5</td>\n",
       "      <td>182.556752</td>\n",
       "    </tr>\n",
       "    <tr>\n",
       "      <th>12</th>\n",
       "      <td>5</td>\n",
       "      <td>182.558691</td>\n",
       "    </tr>\n",
       "    <tr>\n",
       "      <th>13</th>\n",
       "      <td>5</td>\n",
       "      <td>182.556752</td>\n",
       "    </tr>\n",
       "    <tr>\n",
       "      <th>14</th>\n",
       "      <td>5</td>\n",
       "      <td>182.558691</td>\n",
       "    </tr>\n",
       "    <tr>\n",
       "      <th>15</th>\n",
       "      <td>5</td>\n",
       "      <td>181.444103</td>\n",
       "    </tr>\n",
       "    <tr>\n",
       "      <th>16</th>\n",
       "      <td>5</td>\n",
       "      <td>181.318275</td>\n",
       "    </tr>\n",
       "    <tr>\n",
       "      <th>17</th>\n",
       "      <td>4</td>\n",
       "      <td>178.997280</td>\n",
       "    </tr>\n",
       "    <tr>\n",
       "      <th>18</th>\n",
       "      <td>4</td>\n",
       "      <td>170.476236</td>\n",
       "    </tr>\n",
       "    <tr>\n",
       "      <th>19</th>\n",
       "      <td>4</td>\n",
       "      <td>180.303136</td>\n",
       "    </tr>\n",
       "    <tr>\n",
       "      <th>20</th>\n",
       "      <td>4</td>\n",
       "      <td>180.782565</td>\n",
       "    </tr>\n",
       "    <tr>\n",
       "      <th>21</th>\n",
       "      <td>4</td>\n",
       "      <td>181.492553</td>\n",
       "    </tr>\n",
       "    <tr>\n",
       "      <th>22</th>\n",
       "      <td>4</td>\n",
       "      <td>181.492553</td>\n",
       "    </tr>\n",
       "    <tr>\n",
       "      <th>23</th>\n",
       "      <td>4</td>\n",
       "      <td>182.761601</td>\n",
       "    </tr>\n",
       "    <tr>\n",
       "      <th>24</th>\n",
       "      <td>4</td>\n",
       "      <td>180.550409</td>\n",
       "    </tr>\n",
       "    <tr>\n",
       "      <th>25</th>\n",
       "      <td>4</td>\n",
       "      <td>182.558691</td>\n",
       "    </tr>\n",
       "    <tr>\n",
       "      <th>26</th>\n",
       "      <td>4</td>\n",
       "      <td>181.766490</td>\n",
       "    </tr>\n",
       "    <tr>\n",
       "      <th>27</th>\n",
       "      <td>4</td>\n",
       "      <td>181.077646</td>\n",
       "    </tr>\n",
       "    <tr>\n",
       "      <th>28</th>\n",
       "      <td>6</td>\n",
       "      <td>177.204498</td>\n",
       "    </tr>\n",
       "    <tr>\n",
       "      <th>29</th>\n",
       "      <td>6</td>\n",
       "      <td>175.935450</td>\n",
       "    </tr>\n",
       "    <tr>\n",
       "      <th>30</th>\n",
       "      <td>6</td>\n",
       "      <td>180.022561</td>\n",
       "    </tr>\n",
       "    <tr>\n",
       "      <th>31</th>\n",
       "      <td>6</td>\n",
       "      <td>180.022561</td>\n",
       "    </tr>\n",
       "    <tr>\n",
       "      <th>32</th>\n",
       "      <td>6</td>\n",
       "      <td>178.393915</td>\n",
       "    </tr>\n",
       "    <tr>\n",
       "      <th>33</th>\n",
       "      <td>6</td>\n",
       "      <td>179.662963</td>\n",
       "    </tr>\n",
       "    <tr>\n",
       "      <th>34</th>\n",
       "      <td>6</td>\n",
       "      <td>179.662963</td>\n",
       "    </tr>\n",
       "    <tr>\n",
       "      <th>35</th>\n",
       "      <td>6</td>\n",
       "      <td>179.458113</td>\n",
       "    </tr>\n",
       "    <tr>\n",
       "      <th>36</th>\n",
       "      <td>6</td>\n",
       "      <td>179.985350</td>\n",
       "    </tr>\n",
       "    <tr>\n",
       "      <th>37</th>\n",
       "      <td>6</td>\n",
       "      <td>179.460052</td>\n",
       "    </tr>\n",
       "    <tr>\n",
       "      <th>38</th>\n",
       "      <td>6</td>\n",
       "      <td>179.460052</td>\n",
       "    </tr>\n",
       "    <tr>\n",
       "      <th>39</th>\n",
       "      <td>1</td>\n",
       "      <td>166.246990</td>\n",
       "    </tr>\n",
       "    <tr>\n",
       "      <th>40</th>\n",
       "      <td>1</td>\n",
       "      <td>160.860531</td>\n",
       "    </tr>\n",
       "    <tr>\n",
       "      <th>41</th>\n",
       "      <td>1</td>\n",
       "      <td>157.885212</td>\n",
       "    </tr>\n",
       "    <tr>\n",
       "      <th>42</th>\n",
       "      <td>1</td>\n",
       "      <td>164.292431</td>\n",
       "    </tr>\n",
       "    <tr>\n",
       "      <th>43</th>\n",
       "      <td>1</td>\n",
       "      <td>168.976265</td>\n",
       "    </tr>\n",
       "    <tr>\n",
       "      <th>44</th>\n",
       "      <td>1</td>\n",
       "      <td>158.208061</td>\n",
       "    </tr>\n",
       "    <tr>\n",
       "      <th>45</th>\n",
       "      <td>1</td>\n",
       "      <td>156.911777</td>\n",
       "    </tr>\n",
       "    <tr>\n",
       "      <th>46</th>\n",
       "      <td>1</td>\n",
       "      <td>159.965134</td>\n",
       "    </tr>\n",
       "    <tr>\n",
       "      <th>47</th>\n",
       "      <td>1</td>\n",
       "      <td>168.215432</td>\n",
       "    </tr>\n",
       "    <tr>\n",
       "      <th>48</th>\n",
       "      <td>1</td>\n",
       "      <td>162.432048</td>\n",
       "    </tr>\n",
       "    <tr>\n",
       "      <th>49</th>\n",
       "      <td>1</td>\n",
       "      <td>158.720611</td>\n",
       "    </tr>\n",
       "    <tr>\n",
       "      <th>50</th>\n",
       "      <td>1</td>\n",
       "      <td>160.436983</td>\n",
       "    </tr>\n",
       "    <tr>\n",
       "      <th>51</th>\n",
       "      <td>3</td>\n",
       "      <td>165.544365</td>\n",
       "    </tr>\n",
       "    <tr>\n",
       "      <th>52</th>\n",
       "      <td>3</td>\n",
       "      <td>162.645816</td>\n",
       "    </tr>\n",
       "    <tr>\n",
       "      <th>53</th>\n",
       "      <td>3</td>\n",
       "      <td>164.529337</td>\n",
       "    </tr>\n",
       "    <tr>\n",
       "      <th>54</th>\n",
       "      <td>3</td>\n",
       "      <td>151.040685</td>\n",
       "    </tr>\n",
       "    <tr>\n",
       "      <th>55</th>\n",
       "      <td>3</td>\n",
       "      <td>156.572907</td>\n",
       "    </tr>\n",
       "    <tr>\n",
       "      <th>56</th>\n",
       "      <td>2</td>\n",
       "      <td>159.103458</td>\n",
       "    </tr>\n",
       "    <tr>\n",
       "      <th>57</th>\n",
       "      <td>2</td>\n",
       "      <td>164.600374</td>\n",
       "    </tr>\n",
       "    <tr>\n",
       "      <th>58</th>\n",
       "      <td>2</td>\n",
       "      <td>163.318995</td>\n",
       "    </tr>\n",
       "    <tr>\n",
       "      <th>59</th>\n",
       "      <td>2</td>\n",
       "      <td>166.018321</td>\n",
       "    </tr>\n",
       "  </tbody>\n",
       "</table>\n",
       "</div>"
      ],
      "text/plain": [
       "    College_Name          OC\n",
       "0              5  180.303136\n",
       "1              5  180.303136\n",
       "2              5  183.121199\n",
       "3              5  183.121199\n",
       "4              5  183.121199\n",
       "5              5  182.761601\n",
       "6              5  183.121199\n",
       "7              5  182.761601\n",
       "8              5  182.556752\n",
       "9              5  182.916350\n",
       "10             5  182.556752\n",
       "11             5  182.556752\n",
       "12             5  182.558691\n",
       "13             5  182.556752\n",
       "14             5  182.558691\n",
       "15             5  181.444103\n",
       "16             5  181.318275\n",
       "17             4  178.997280\n",
       "18             4  170.476236\n",
       "19             4  180.303136\n",
       "20             4  180.782565\n",
       "21             4  181.492553\n",
       "22             4  181.492553\n",
       "23             4  182.761601\n",
       "24             4  180.550409\n",
       "25             4  182.558691\n",
       "26             4  181.766490\n",
       "27             4  181.077646\n",
       "28             6  177.204498\n",
       "29             6  175.935450\n",
       "30             6  180.022561\n",
       "31             6  180.022561\n",
       "32             6  178.393915\n",
       "33             6  179.662963\n",
       "34             6  179.662963\n",
       "35             6  179.458113\n",
       "36             6  179.985350\n",
       "37             6  179.460052\n",
       "38             6  179.460052\n",
       "39             1  166.246990\n",
       "40             1  160.860531\n",
       "41             1  157.885212\n",
       "42             1  164.292431\n",
       "43             1  168.976265\n",
       "44             1  158.208061\n",
       "45             1  156.911777\n",
       "46             1  159.965134\n",
       "47             1  168.215432\n",
       "48             1  162.432048\n",
       "49             1  158.720611\n",
       "50             1  160.436983\n",
       "51             3  165.544365\n",
       "52             3  162.645816\n",
       "53             3  164.529337\n",
       "54             3  151.040685\n",
       "55             3  156.572907\n",
       "56             2  159.103458\n",
       "57             2  164.600374\n",
       "58             2  163.318995\n",
       "59             2  166.018321"
      ]
     },
     "execution_count": 104,
     "metadata": {},
     "output_type": "execute_result"
    }
   ],
   "source": [
    "df_preds = pd.DataFrame()\n",
    "df_preds[\"College_Name\"] = df_test[\"College_Name\"]\n",
    "df_preds[\"OC\"] = test_preds\n",
    "df_preds"
   ]
  },
  {
   "cell_type": "code",
   "execution_count": 106,
   "id": "e93e0d43",
   "metadata": {},
   "outputs": [],
   "source": [
    "df_preds.to_csv(\"data/predictions.csv\", index=False)"
   ]
  },
  {
   "cell_type": "code",
   "execution_count": 107,
   "id": "5610ad22",
   "metadata": {},
   "outputs": [],
   "source": [
    "dff = pd.read_csv(\"data/predictions.csv\",low_memory=False)"
   ]
  },
  {
   "cell_type": "code",
   "execution_count": 108,
   "id": "38016b11",
   "metadata": {},
   "outputs": [
    {
     "data": {
      "text/plain": [
       "Text(0.5, 1.0, 'Predicted Cutoff Marks of OC category 2021')"
      ]
     },
     "execution_count": 108,
     "metadata": {},
     "output_type": "execute_result"
    },
    {
     "data": {
      "image/png": "[encoded data removed]",
      "text/plain": [
       "<Figure size 640x480 with 1 Axes>"
      ]
     },
     "metadata": {},
     "output_type": "display_data"
    }
   ],
   "source": [
    "fig, ax = plt.subplots()\n",
    "ax.scatter(dff[\"College_Name\"][:1000], dff[\"OC\"][:1000])\n",
    "plt.xlabel(\"College Codes\")\n",
    "plt.ylabel(\"Cutoff mark\")\n",
    "plt.title(\"Predicted Cutoff Marks of OC category 2021\")\n"
   ]
  },
  {
   "cell_type": "markdown",
   "id": "57fb34a5",
   "metadata": {},
   "source": [
    "# Feature Importance"
   ]
  },
  {
   "cell_type": "code",
   "execution_count": 109,
   "id": "58946f9f",
   "metadata": {},
   "outputs": [
    {
     "data": {
      "text/plain": [
       "array([0.10638472, 0.11894935, 0.11380929, 0.00137888, 0.05559795,\n",
       "       0.00044335, 0.10414846, 0.08122269, 0.11140217, 0.01100591,\n",
       "       0.01535775, 0.        , 0.1249235 , 0.        , 0.        ,\n",
       "       0.12641047, 0.0289655 , 0.        , 0.        , 0.        ])"
      ]
     },
     "execution_count": 109,
     "metadata": {},
     "output_type": "execute_result"
    }
   ],
   "source": [
    "ideal_model.feature_importances_"
   ]
  },
  {
   "cell_type": "code",
   "execution_count": 110,
   "id": "68773839",
   "metadata": {},
   "outputs": [],
   "source": [
    "def plot_features(columns, importances, n=20):\n",
    "    df = (pd.DataFrame({\"features\": columns,\n",
    "                        \"feature_importances\": importances})\n",
    "          .sort_values(\"feature_importances\", ascending=False)\n",
    "          .reset_index(drop=True))\n",
    "    \n",
    "    # Plot the dataframe\n",
    "    fig, ax = plt.subplots()\n",
    "    ax.barh(df[\"features\"][:n], df[\"feature_importances\"][:20])\n",
    "    ax.set_ylabel(\"Features\")\n",
    "    ax.set_xlabel(\"Feature importance\")\n",
    "    ax.invert_yaxis()"
   ]
  },
  {
   "cell_type": "code",
   "execution_count": 111,
   "id": "ef555b87",
   "metadata": {},
   "outputs": [
    {
     "data": {
      "image/png": "[encoded data removed]",
      "text/plain": [
       "<Figure size 640x480 with 1 Axes>"
      ]
     },
     "metadata": {},
     "output_type": "display_data"
    }
   ],
   "source": [
    "plot_features(X_train.columns, ideal_model.feature_importances_)"
   ]
  },
  {
   "cell_type": "code",
   "execution_count": 112,
   "id": "5077d260",
   "metadata": {},
   "outputs": [
    {
     "data": {
      "text/plain": [
       "174.00    4\n",
       "155.00    3\n",
       "149.00    3\n",
       "113.50    3\n",
       "190.00    3\n",
       "         ..\n",
       "183.50    1\n",
       "193.25    1\n",
       "186.75    1\n",
       "185.50    1\n",
       "85.50     1\n",
       "Name: SCA, Length: 155, dtype: int64"
      ]
     },
     "execution_count": 112,
     "metadata": {},
     "output_type": "execute_result"
    }
   ],
   "source": [
    "df[\"SCA\"].value_counts()"
   ]
  },
  {
   "cell_type": "code",
   "execution_count": null,
   "id": "1787a504",
   "metadata": {},
   "outputs": [],
   "source": []
  },
  {
   "cell_type": "code",
   "execution_count": null,
   "id": "6d995105",
   "metadata": {},
   "outputs": [],
   "source": []
  }
 ],
 "metadata": {
  "kernelspec": {
   "display_name": "Python 3",
   "language": "python",
   "name": "python3"
  },
  "language_info": {
   "codemirror_mode": {
    "name": "ipython",
    "version": 3
   },
   "file_extension": ".py",
   "mimetype": "text/x-python",
   "name": "python",
   "nbconvert_exporter": "python",
   "pygments_lexer": "ipython3",
   "version": "3.10.6"
  }
 },
 "nbformat": 4,
 "nbformat_minor": 5
}
