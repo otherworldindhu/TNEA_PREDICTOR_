{
 "cells": [
  {
   "cell_type": "code",
   "execution_count": 1,
   "metadata": {},
   "outputs": [
    {
     "name": "stdout",
     "output_type": "stream",
     "text": [
      "<!doctype html><html lang=\"en\" dir=\"ltr\"><head><meta charset=\"utf-8\"/><meta http-equiv=\"X-UA-Compatible\" content=\"IE=edge\"><link rel=\"shortcut icon\" href=\"/favicon.ico\"/><link rel=\"apple-touch-icon\" sizes=\"57x57\" href=\"https://static.tneaonline.org/apple-icon-57x57.png\"><link rel=\"apple-touch-icon\" sizes=\"60x60\" href=\"https://static.tneaonline.org/apple-icon-60x60.png\"><link rel=\"apple-touch-icon\" sizes=\"72x72\" href=\"https://static.tneaonline.org/apple-icon-72x72.png\"><link rel=\"apple-touch-icon\" sizes=\"76x76\" href=\"https://static.tneaonline.org/apple-icon-76x76.png\"><link rel=\"apple-touch-icon\" sizes=\"114x114\" href=\"https://static.tneaonline.org/apple-icon-114x114.png\"><link rel=\"apple-touch-icon\" sizes=\"120x120\" href=\"https://static.tneaonline.org/apple-icon-120x120.png\"><link rel=\"apple-touch-icon\" sizes=\"144x144\" href=\"https://static.tneaonline.org/apple-icon-144x144.png\"><link rel=\"apple-touch-icon\" sizes=\"152x152\" href=\"https://static.tneaonline.org/apple-icon-152x152.png\"><link rel=\"apple-touch-icon\" sizes=\"180x180\" href=\"https://static.tneaonline.org/apple-icon-180x180.png\"><link rel=\"icon\" type=\"image/png\" sizes=\"192x192\" href=\"https://static.tneaonline.org/android-icon-192x192.png\"><link rel=\"icon\" type=\"image/png\" sizes=\"32x32\" href=\"https://static.tneaonline.org/favicon-32x32.png\"><link rel=\"icon\" type=\"image/png\" sizes=\"96x96\" href=\"https://static.tneaonline.org/favicon-96x96.png\"><link rel=\"icon\" type=\"image/png\" sizes=\"16x16\" href=\"https://static.tneaonline.org/favicon-16x16.png\"><meta name=\"msapplication-TileColor\" content=\"#ffffff\"><meta name=\"msapplication-TileImage\" content=\"https://static.tneaonline.org/ms-icon-144x144.png\"><meta name=\"viewport\" content=\"width=device-width,initial-scale=1\"/><meta name=\"theme-color\" content=\"#ffffff\"/><meta name=\"description\" content=\"Tamil nadu Engineering Admission (TNEA Online Counselling) -2022\"/><link rel=\"manifest\" href=\"/manifest.json\"/><title>Tamil nadu Engineering Admission(TNEA Online Counselling)-2022</title><link rel=\"preconnect\" href=\"https://fonts.googleapis.com\"><link rel=\"preconnect\" href=\"https://fonts.gstatic.com\" crossorigin><link href=\"https://fonts.googleapis.com/css2?family=Noto+Sans+Tamil:wght@400;700&display=swap\" rel=\"stylesheet\"><style>.tnea-tamil-font{font-family:'Noto Sans Tamil',sans-serif}</style><link href=\"/static/css/10.98bdd38e.chunk.css\" rel=\"stylesheet\"><link href=\"/static/css/main.c37d7b58.chunk.css\" rel=\"stylesheet\"></head><body><noscript>You need to enable JavaScript to run this app.</noscript><div id=\"root\"></div><script>!function(e){function t(t){for(var n,a,o=t[0],d=t[1],u=t[2],i=0,s=[];i<o.length;i++)a=o[i],Object.prototype.hasOwnProperty.call(c,a)&&c[a]&&s.push(c[a][0]),c[a]=0;for(n in d)Object.prototype.hasOwnProperty.call(d,n)&&(e[n]=d[n]);for(l&&l(t);s.length;)s.shift()();return f.push.apply(f,u||[]),r()}function r(){for(var e,t=0;t<f.length;t++){for(var r=f[t],n=!0,a=1;a<r.length;a++){var d=r[a];0!==c[d]&&(n=!1)}n&&(f.splice(t--,1),e=o(o.s=r[0]))}return e}var n={},a={8:0},c={8:0},f=[];function o(t){if(n[t])return n[t].exports;var r=n[t]={i:t,l:!1,exports:{}};return e[t].call(r.exports,r,r.exports,o),r.l=!0,r.exports}o.e=function(e){var t=[];a[e]?t.push(a[e]):0!==a[e]&&{0:1,3:1,4:1,5:1,6:1,9:1,11:1,12:1,13:1,14:1,15:1,16:1,17:1,18:1,19:1,20:1,21:1,22:1,23:1,24:1,25:1,26:1,27:1,28:1,29:1}[e]&&t.push(a[e]=new Promise((function(t,r){for(var n=\"static/css/\"+({}[e]||e)+\".\"+{0:\"5470d61d\",1:\"31d6cfe0\",2:\"31d6cfe0\",3:\"de1c6f3c\",4:\"fd71633d\",5:\"59172ceb\",6:\"7ea634dd\",9:\"5ae31930\",11:\"cbc90794\",12:\"cbc90794\",13:\"1957ef75\",14:\"d2ce0563\",15:\"fe4ca370\",16:\"3a9d85d8\",17:\"e660a42f\",18:\"06da4af3\",19:\"9234506a\",20:\"f2cfccff\",21:\"12d1116a\",22:\"8152e61c\",23:\"72e000d1\",24:\"caec5483\",25:\"7a4fb7f9\",26:\"7a4fb7f9\",27:\"7a4fb7f9\",28:\"daecd125\",29:\"d12442a8\",30:\"31d6cfe0\",31:\"31d6cfe0\",32:\"31d6cfe0\",33:\"31d6cfe0\",34:\"31d6cfe0\",35:\"31d6cfe0\",36:\"31d6cfe0\",37:\"31d6cfe0\",38:\"31d6cfe0\",39:\"31d6cfe0\",40:\"31d6cfe0\",41:\"31d6cfe0\",42:\"31d6cfe0\"}[e]+\".chunk.css\",c=o.p+n,f=document.getElementsByTagName(\"link\"),d=0;d<f.length;d++){var u=(l=f[d]).getAttribute(\"data-href\")||l.getAttribute(\"href\");if(\"stylesheet\"===l.rel&&(u===n||u===c))return t()}var i=document.getElementsByTagName(\"style\");for(d=0;d<i.length;d++){var l;if((u=(l=i[d]).getAttribute(\"data-href\"))===n||u===c)return t()}var s=document.createElement(\"link\");s.rel=\"stylesheet\",s.type=\"text/css\",s.onload=t,s.onerror=function(t){var n=t&&t.target&&t.target.src||c,f=new Error(\"Loading CSS chunk \"+e+\" failed.\\n(\"+n+\")\");f.code=\"CSS_CHUNK_LOAD_FAILED\",f.request=n,delete a[e],s.parentNode.removeChild(s),r(f)},s.href=c,document.getElementsByTagName(\"head\")[0].appendChild(s)})).then((function(){a[e]=0})));var r=c[e];if(0!==r)if(r)t.push(r[2]);else{var n=new Promise((function(t,n){r=c[e]=[t,n]}));t.push(r[2]=n);var f,d=document.createElement(\"script\");d.charset=\"utf-8\",d.timeout=120,o.nc&&d.setAttribute(\"nonce\",o.nc),d.src=function(e){return o.p+\"static/js/\"+({}[e]||e)+\".\"+{0:\"57a2a074\",1:\"abe82545\",2:\"8f85ec17\",3:\"6a57ea1a\",4:\"4bb66227\",5:\"4762b719\",6:\"75bf495b\",9:\"26e92120\",11:\"3572f7b3\",12:\"aa491fcc\",13:\"62cdb897\",14:\"8b99958c\",15:\"535b2f5a\",16:\"f352fd7e\",17:\"de8859a3\",18:\"fbd130b7\",19:\"ee5fd583\",20:\"ccd47a22\",21:\"40a8d13a\",22:\"053fce45\",23:\"7e146aff\",24:\"10e6f982\",25:\"f3f6c319\",26:\"64b2dbb0\",27:\"25c64776\",28:\"21a0875a\",29:\"89aba699\",30:\"9db8a13f\",31:\"bb358d52\",32:\"a3ca58f6\",33:\"1516e7ac\",34:\"73c44dca\",35:\"eac8f4b3\",36:\"d2ac2794\",37:\"acd6a7c7\",38:\"b0c9481c\",39:\"10deb88c\",40:\"c49fc100\",41:\"a7950b55\",42:\"11efd948\"}[e]+\".chunk.js\"}(e);var u=new Error;f=function(t){d.onerror=d.onload=null,clearTimeout(i);var r=c[e];if(0!==r){if(r){var n=t&&(\"load\"===t.type?\"missing\":t.type),a=t&&t.target&&t.target.src;u.message=\"Loading chunk \"+e+\" failed.\\n(\"+n+\": \"+a+\")\",u.name=\"ChunkLoadError\",u.type=n,u.request=a,r[1](u)}c[e]=void 0}};var i=setTimeout((function(){f({type:\"timeout\",target:d})}),12e4);d.onerror=d.onload=f,document.head.appendChild(d)}return Promise.all(t)},o.m=e,o.c=n,o.d=function(e,t,r){o.o(e,t)||Object.defineProperty(e,t,{enumerable:!0,get:r})},o.r=function(e){\"undefined\"!=typeof Symbol&&Symbol.toStringTag&&Object.defineProperty(e,Symbol.toStringTag,{value:\"Module\"}),Object.defineProperty(e,\"__esModule\",{value:!0})},o.t=function(e,t){if(1&t&&(e=o(e)),8&t)return e;if(4&t&&\"object\"==typeof e&&e&&e.__esModule)return e;var r=Object.create(null);if(o.r(r),Object.defineProperty(r,\"default\",{enumerable:!0,value:e}),2&t&&\"string\"!=typeof e)for(var n in e)o.d(r,n,function(t){return e[t]}.bind(null,n));return r},o.n=function(e){var t=e&&e.__esModule?function(){return e.default}:function(){return e};return o.d(t,\"a\",t),t},o.o=function(e,t){return Object.prototype.hasOwnProperty.call(e,t)},o.p=\"/\",o.oe=function(e){throw console.error(e),e};var d=this.webpackJsonptneauser=this.webpackJsonptneauser||[],u=d.push.bind(d);d.push=t,d=d.slice();for(var i=0;i<d.length;i++)t(d[i]);var l=u;r()}([])</script><script src=\"/static/js/10.4f1421c4.chunk.js\"></script><script src=\"/static/js/main.39fa9e48.chunk.js\"></script></body></html>\n",
      "200\n"
     ]
    }
   ],
   "source": [
    "import requests\n",
    "\n",
    "res = requests.get('https://www.tneaonline.org/')\n",
    "\n",
    "print(res.text)\n",
    "print(res.status_code)"
   ]
  },
  {
   "cell_type": "code",
   "execution_count": null,
   "metadata": {},
   "outputs": [],
   "source": [
    "import requests\n",
    "\n",
    "# Make a request to https://codedamn-classrooms.github.io/webscraper-python-codedamn-classroom-website/\n",
    "# Store the result in 'res' variable\n",
    "res = requests.get(\n",
    "    'https://codedamn-classrooms.github.io/webscraper-python-codedamn-classroom-website/')\n",
    "txt = res.text\n",
    "status = res.status_code\n",
    "\n",
    "print(txt, status)\n",
    "# print the result"
   ]
  }
 ],
 "metadata": {
  "kernelspec": {
   "display_name": "Python 3",
   "language": "python",
   "name": "python3"
  },
  "language_info": {
   "codemirror_mode": {
    "name": "ipython",
    "version": 3
   },
   "file_extension": ".py",
   "mimetype": "text/x-python",
   "name": "python",
   "nbconvert_exporter": "python",
   "pygments_lexer": "ipython3",
   "version": "3.10.6"
  },
  "orig_nbformat": 4
 },
 "nbformat": 4,
 "nbformat_minor": 2
}
