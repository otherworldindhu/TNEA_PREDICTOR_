{
 "cells": [
  {
   "cell_type": "code",
   "execution_count": 22,
   "id": "7f985ef6",
   "metadata": {},
   "outputs": [],
   "source": [
    "import warnings\n",
    "warnings.filterwarnings(\"ignore\")"
   ]
  },
  {
   "cell_type": "code",
   "execution_count": 23,
   "id": "9e439467",
   "metadata": {},
   "outputs": [],
   "source": [
    "import pandas as pd\n",
    "df = pd.read_csv(\"C:/Users/indhu/OneDrive/Desktop/tnea-proj/data/2017-2020.csv\")"
   ]
  },
  {
   "cell_type": "code",
   "execution_count": 24,
   "id": "0188a2d0",
   "metadata": {},
   "outputs": [
    {
     "data": {
      "text/html": [
       "<div>\n",
       "<style scoped>\n",
       "    .dataframe tbody tr th:only-of-type {\n",
       "        vertical-align: middle;\n",
       "    }\n",
       "\n",
       "    .dataframe tbody tr th {\n",
       "        vertical-align: top;\n",
       "    }\n",
       "\n",
       "    .dataframe thead th {\n",
       "        text-align: right;\n",
       "    }\n",
       "</style>\n",
       "<table border=\"1\" class=\"dataframe\">\n",
       "  <thead>\n",
       "    <tr style=\"text-align: right;\">\n",
       "      <th></th>\n",
       "      <th>Year</th>\n",
       "      <th>College Code</th>\n",
       "      <th>College_Name</th>\n",
       "      <th>Branch Code</th>\n",
       "      <th>Branch Name</th>\n",
       "      <th>OC</th>\n",
       "      <th>BC</th>\n",
       "      <th>BCM</th>\n",
       "      <th>MBC</th>\n",
       "      <th>SC</th>\n",
       "      <th>SCA</th>\n",
       "      <th>ST</th>\n",
       "    </tr>\n",
       "  </thead>\n",
       "  <tbody>\n",
       "    <tr>\n",
       "      <th>0</th>\n",
       "      <td>2017</td>\n",
       "      <td>1</td>\n",
       "      <td>UNIVERSITY DEPARTMENTS OF ANNA UNIVERSITY, CHE...</td>\n",
       "      <td>AI</td>\n",
       "      <td>Agricultural and Irrigation Engg.(SS)</td>\n",
       "      <td>196.25</td>\n",
       "      <td>195.25</td>\n",
       "      <td>193.25</td>\n",
       "      <td>194.25</td>\n",
       "      <td>188.75</td>\n",
       "      <td>185.75</td>\n",
       "      <td>175.25</td>\n",
       "    </tr>\n",
       "    <tr>\n",
       "      <th>1</th>\n",
       "      <td>2017</td>\n",
       "      <td>1</td>\n",
       "      <td>UNIVERSITY DEPARTMENTS OF ANNA UNIVERSITY, CHE...</td>\n",
       "      <td>BY</td>\n",
       "      <td>Bio Medical Engg(SS)</td>\n",
       "      <td>198.25</td>\n",
       "      <td>197.50</td>\n",
       "      <td>197.25</td>\n",
       "      <td>196.50</td>\n",
       "      <td>193.00</td>\n",
       "      <td>191.75</td>\n",
       "      <td>188.00</td>\n",
       "    </tr>\n",
       "    <tr>\n",
       "      <th>2</th>\n",
       "      <td>2017</td>\n",
       "      <td>1</td>\n",
       "      <td>UNIVERSITY DEPARTMENTS OF ANNA UNIVERSITY, CHE...</td>\n",
       "      <td>CE</td>\n",
       "      <td>Civil Engineering</td>\n",
       "      <td>198.50</td>\n",
       "      <td>198.00</td>\n",
       "      <td>197.50</td>\n",
       "      <td>197.50</td>\n",
       "      <td>196.00</td>\n",
       "      <td>193.50</td>\n",
       "      <td>196.00</td>\n",
       "    </tr>\n",
       "    <tr>\n",
       "      <th>3</th>\n",
       "      <td>2017</td>\n",
       "      <td>1</td>\n",
       "      <td>UNIVERSITY DEPARTMENTS OF ANNA UNIVERSITY, CHE...</td>\n",
       "      <td>CM</td>\n",
       "      <td>Computer Science and Engg.(SS)</td>\n",
       "      <td>199.00</td>\n",
       "      <td>198.75</td>\n",
       "      <td>199.00</td>\n",
       "      <td>197.75</td>\n",
       "      <td>193.50</td>\n",
       "      <td>190.50</td>\n",
       "      <td>193.33</td>\n",
       "    </tr>\n",
       "    <tr>\n",
       "      <th>4</th>\n",
       "      <td>2017</td>\n",
       "      <td>1</td>\n",
       "      <td>UNIVERSITY DEPARTMENTS OF ANNA UNIVERSITY, CHE...</td>\n",
       "      <td>CS</td>\n",
       "      <td>Computer Science and Engg.</td>\n",
       "      <td>199.75</td>\n",
       "      <td>199.50</td>\n",
       "      <td>199.50</td>\n",
       "      <td>199.00</td>\n",
       "      <td>197.50</td>\n",
       "      <td>196.25</td>\n",
       "      <td>193.75</td>\n",
       "    </tr>\n",
       "  </tbody>\n",
       "</table>\n",
       "</div>"
      ],
      "text/plain": [
       "   Year  College Code                                       College_Name  \\\n",
       "0  2017             1  UNIVERSITY DEPARTMENTS OF ANNA UNIVERSITY, CHE...   \n",
       "1  2017             1  UNIVERSITY DEPARTMENTS OF ANNA UNIVERSITY, CHE...   \n",
       "2  2017             1  UNIVERSITY DEPARTMENTS OF ANNA UNIVERSITY, CHE...   \n",
       "3  2017             1  UNIVERSITY DEPARTMENTS OF ANNA UNIVERSITY, CHE...   \n",
       "4  2017             1  UNIVERSITY DEPARTMENTS OF ANNA UNIVERSITY, CHE...   \n",
       "\n",
       "  Branch Code                            Branch Name      OC      BC     BCM  \\\n",
       "0          AI  Agricultural and Irrigation Engg.(SS)  196.25  195.25  193.25   \n",
       "1          BY                   Bio Medical Engg(SS)  198.25  197.50  197.25   \n",
       "2          CE                      Civil Engineering  198.50  198.00  197.50   \n",
       "3          CM         Computer Science and Engg.(SS)  199.00  198.75  199.00   \n",
       "4          CS             Computer Science and Engg.  199.75  199.50  199.50   \n",
       "\n",
       "      MBC      SC     SCA      ST  \n",
       "0  194.25  188.75  185.75  175.25  \n",
       "1  196.50  193.00  191.75  188.00  \n",
       "2  197.50  196.00  193.50  196.00  \n",
       "3  197.75  193.50  190.50  193.33  \n",
       "4  199.00  197.50  196.25  193.75  "
      ]
     },
     "execution_count": 24,
     "metadata": {},
     "output_type": "execute_result"
    }
   ],
   "source": [
    "df.head()"
   ]
  },
  {
   "cell_type": "code",
   "execution_count": 25,
   "id": "d18c772a",
   "metadata": {},
   "outputs": [
    {
     "data": {
      "text/plain": [
       "['OC', 'BC', 'BCM', 'MBC', 'SC', 'SCA', 'ST']"
      ]
     },
     "execution_count": 25,
     "metadata": {},
     "output_type": "execute_result"
    }
   ],
   "source": [
    "castes = list(df.columns[5:])\n",
    "castes"
   ]
  },
  {
   "cell_type": "code",
   "execution_count": 26,
   "id": "ca5cc9b8",
   "metadata": {},
   "outputs": [
    {
     "data": {
      "text/html": [
       "<div>\n",
       "<style scoped>\n",
       "    .dataframe tbody tr th:only-of-type {\n",
       "        vertical-align: middle;\n",
       "    }\n",
       "\n",
       "    .dataframe tbody tr th {\n",
       "        vertical-align: top;\n",
       "    }\n",
       "\n",
       "    .dataframe thead th {\n",
       "        text-align: right;\n",
       "    }\n",
       "</style>\n",
       "<table border=\"1\" class=\"dataframe\">\n",
       "  <thead>\n",
       "    <tr style=\"text-align: right;\">\n",
       "      <th></th>\n",
       "      <th>Year</th>\n",
       "      <th>College Code</th>\n",
       "      <th>Branch Code</th>\n",
       "      <th>Caste</th>\n",
       "      <th>Mark</th>\n",
       "    </tr>\n",
       "  </thead>\n",
       "  <tbody>\n",
       "  </tbody>\n",
       "</table>\n",
       "</div>"
      ],
      "text/plain": [
       "Empty DataFrame\n",
       "Columns: [Year, College Code, Branch Code, Caste, Mark]\n",
       "Index: []"
      ]
     },
     "execution_count": 26,
     "metadata": {},
     "output_type": "execute_result"
    }
   ],
   "source": [
    "dic = {\n",
    "   'Year' : [], \n",
    "    'College Code' : [], \n",
    "    'Branch Code' : [], \n",
    "    'Caste':[], \n",
    "    'Mark': []\n",
    "}\n",
    "\n",
    "new_df = pd.DataFrame(dic)\n",
    "new_df"
   ]
  },
  {
   "cell_type": "code",
   "execution_count": 27,
   "id": "72e1c02f",
   "metadata": {},
   "outputs": [],
   "source": [
    "for index, row in df.iterrows():\n",
    "    for caste in castes:\n",
    "        new_df.loc[len(new_df.index)] = [row[\"Year\"], \n",
    "                                          row[\"College Code\"], \n",
    "                                          row[\"Branch Code\"], \n",
    "                                           caste, \n",
    "                                           row[caste]\n",
    "                                          ] "
   ]
  },
  {
   "cell_type": "code",
   "execution_count": 28,
   "id": "6f192dca",
   "metadata": {},
   "outputs": [
    {
     "data": {
      "text/html": [
       "<div>\n",
       "<style scoped>\n",
       "    .dataframe tbody tr th:only-of-type {\n",
       "        vertical-align: middle;\n",
       "    }\n",
       "\n",
       "    .dataframe tbody tr th {\n",
       "        vertical-align: top;\n",
       "    }\n",
       "\n",
       "    .dataframe thead th {\n",
       "        text-align: right;\n",
       "    }\n",
       "</style>\n",
       "<table border=\"1\" class=\"dataframe\">\n",
       "  <thead>\n",
       "    <tr style=\"text-align: right;\">\n",
       "      <th></th>\n",
       "      <th>Year</th>\n",
       "      <th>College Code</th>\n",
       "      <th>Branch Code</th>\n",
       "      <th>Caste</th>\n",
       "      <th>Mark</th>\n",
       "    </tr>\n",
       "  </thead>\n",
       "  <tbody>\n",
       "    <tr>\n",
       "      <th>0</th>\n",
       "      <td>2017</td>\n",
       "      <td>1</td>\n",
       "      <td>AI</td>\n",
       "      <td>OC</td>\n",
       "      <td>196.25</td>\n",
       "    </tr>\n",
       "    <tr>\n",
       "      <th>1</th>\n",
       "      <td>2017</td>\n",
       "      <td>1</td>\n",
       "      <td>AI</td>\n",
       "      <td>BC</td>\n",
       "      <td>195.25</td>\n",
       "    </tr>\n",
       "    <tr>\n",
       "      <th>2</th>\n",
       "      <td>2017</td>\n",
       "      <td>1</td>\n",
       "      <td>AI</td>\n",
       "      <td>BCM</td>\n",
       "      <td>193.25</td>\n",
       "    </tr>\n",
       "    <tr>\n",
       "      <th>3</th>\n",
       "      <td>2017</td>\n",
       "      <td>1</td>\n",
       "      <td>AI</td>\n",
       "      <td>MBC</td>\n",
       "      <td>194.25</td>\n",
       "    </tr>\n",
       "    <tr>\n",
       "      <th>4</th>\n",
       "      <td>2017</td>\n",
       "      <td>1</td>\n",
       "      <td>AI</td>\n",
       "      <td>SC</td>\n",
       "      <td>188.75</td>\n",
       "    </tr>\n",
       "    <tr>\n",
       "      <th>...</th>\n",
       "      <td>...</td>\n",
       "      <td>...</td>\n",
       "      <td>...</td>\n",
       "      <td>...</td>\n",
       "      <td>...</td>\n",
       "    </tr>\n",
       "    <tr>\n",
       "      <th>1675</th>\n",
       "      <td>2020</td>\n",
       "      <td>1014</td>\n",
       "      <td>EC</td>\n",
       "      <td>BCM</td>\n",
       "      <td>86.00</td>\n",
       "    </tr>\n",
       "    <tr>\n",
       "      <th>1676</th>\n",
       "      <td>2020</td>\n",
       "      <td>1014</td>\n",
       "      <td>EC</td>\n",
       "      <td>MBC</td>\n",
       "      <td>86.00</td>\n",
       "    </tr>\n",
       "    <tr>\n",
       "      <th>1677</th>\n",
       "      <td>2020</td>\n",
       "      <td>1014</td>\n",
       "      <td>EC</td>\n",
       "      <td>SC</td>\n",
       "      <td>81.00</td>\n",
       "    </tr>\n",
       "    <tr>\n",
       "      <th>1678</th>\n",
       "      <td>2020</td>\n",
       "      <td>1014</td>\n",
       "      <td>EC</td>\n",
       "      <td>SCA</td>\n",
       "      <td>NaN</td>\n",
       "    </tr>\n",
       "    <tr>\n",
       "      <th>1679</th>\n",
       "      <td>2020</td>\n",
       "      <td>1014</td>\n",
       "      <td>EC</td>\n",
       "      <td>ST</td>\n",
       "      <td>NaN</td>\n",
       "    </tr>\n",
       "  </tbody>\n",
       "</table>\n",
       "<p>1680 rows × 5 columns</p>\n",
       "</div>"
      ],
      "text/plain": [
       "      Year  College Code Branch Code Caste    Mark\n",
       "0     2017             1          AI    OC  196.25\n",
       "1     2017             1          AI    BC  195.25\n",
       "2     2017             1          AI   BCM  193.25\n",
       "3     2017             1          AI   MBC  194.25\n",
       "4     2017             1          AI    SC  188.75\n",
       "...    ...           ...         ...   ...     ...\n",
       "1675  2020          1014          EC   BCM   86.00\n",
       "1676  2020          1014          EC   MBC   86.00\n",
       "1677  2020          1014          EC    SC   81.00\n",
       "1678  2020          1014          EC   SCA     NaN\n",
       "1679  2020          1014          EC    ST     NaN\n",
       "\n",
       "[1680 rows x 5 columns]"
      ]
     },
     "execution_count": 28,
     "metadata": {},
     "output_type": "execute_result"
    }
   ],
   "source": [
    "new_df"
   ]
  },
  {
   "cell_type": "code",
   "execution_count": 29,
   "id": "23f6dfc8",
   "metadata": {},
   "outputs": [],
   "source": [
    "new_df.to_csv(\"C:/Users/indhu/OneDrive/Desktop/tnea-proj/data/final_data.csv\", index=False)"
   ]
  },
  {
   "cell_type": "code",
   "execution_count": 30,
   "id": "5493a561",
   "metadata": {},
   "outputs": [],
   "source": [
    "new_df = pd.read_csv(\"C:/Users/indhu/OneDrive/Desktop/tnea-proj/data/final_data.csv\")"
   ]
  },
  {
   "cell_type": "code",
   "execution_count": 43,
   "id": "8d712231",
   "metadata": {},
   "outputs": [
    {
     "data": {
      "text/plain": [
       "{0: 0,\n",
       " 1: 1,\n",
       " 2: 2,\n",
       " 3: 3,\n",
       " 4: 4,\n",
       " 5: 5,\n",
       " 6: 6,\n",
       " 7: 7,\n",
       " 8: 8,\n",
       " 9: 9,\n",
       " 10: 10,\n",
       " 11: 11,\n",
       " 12: 12,\n",
       " 13: 13,\n",
       " 14: 14,\n",
       " 15: 15,\n",
       " 16: 16,\n",
       " 17: 17,\n",
       " 18: 18,\n",
       " 19: 19,\n",
       " 20: 20,\n",
       " 21: 21,\n",
       " 22: 22,\n",
       " 23: 23,\n",
       " 24: 24,\n",
       " 25: 25,\n",
       " 26: 26,\n",
       " 27: 27,\n",
       " 28: 28,\n",
       " 29: 29,\n",
       " 30: 30,\n",
       " 31: 31,\n",
       " 32: 32,\n",
       " 33: 33,\n",
       " 34: 34,\n",
       " 35: 35,\n",
       " 36: 36,\n",
       " 37: 37,\n",
       " 38: 38,\n",
       " 39: 39,\n",
       " 40: 40,\n",
       " 41: 41}"
      ]
     },
     "execution_count": 43,
     "metadata": {},
     "output_type": "execute_result"
    }
   ],
   "source": [
    "mapping_branch = {}\n",
    "branch = list(new_df[\"Branch Code\"].unique())\n",
    "\n",
    "for x in range(len(branch)):\n",
    "    mapping_branch[branch[x]] = x\n",
    "    \n",
    "mapping_branch"
   ]
  },
  {
   "cell_type": "code",
   "execution_count": 44,
   "id": "8bf2da70",
   "metadata": {},
   "outputs": [
    {
     "data": {
      "text/plain": [
       "{0: 0, 1: 1, 2: 2, 3: 3, 4: 4, 5: 5, 6: 6}"
      ]
     },
     "execution_count": 44,
     "metadata": {},
     "output_type": "execute_result"
    }
   ],
   "source": [
    "mapping_caste = {}\n",
    "caste = list(new_df[\"Caste\"].unique())\n",
    "\n",
    "for x in range(len(caste)):\n",
    "    mapping_caste[caste[x]] = x\n",
    "    \n",
    "mapping_caste"
   ]
  },
  {
   "cell_type": "code",
   "execution_count": 45,
   "id": "503bb20d",
   "metadata": {},
   "outputs": [],
   "source": [
    "def cat2num_encoding(label, mapping):\n",
    "    # integer representation\n",
    "    for x in range(len(label)):\n",
    "        label[x] = mapping[label[x]]\n",
    "    return label"
   ]
  },
  {
   "cell_type": "code",
   "execution_count": 46,
   "id": "da75e052",
   "metadata": {},
   "outputs": [],
   "source": [
    "new_df[\"Caste\"] = cat2num_encoding(new_df[\"Caste\"], mapping_caste)\n",
    "new_df[\"Branch Code\"] = cat2num_encoding(new_df[\"Branch Code\"], mapping_branch)"
   ]
  },
  {
   "cell_type": "code",
   "execution_count": 47,
   "id": "7f4fc596",
   "metadata": {},
   "outputs": [
    {
     "data": {
      "text/html": [
       "<div>\n",
       "<style scoped>\n",
       "    .dataframe tbody tr th:only-of-type {\n",
       "        vertical-align: middle;\n",
       "    }\n",
       "\n",
       "    .dataframe tbody tr th {\n",
       "        vertical-align: top;\n",
       "    }\n",
       "\n",
       "    .dataframe thead th {\n",
       "        text-align: right;\n",
       "    }\n",
       "</style>\n",
       "<table border=\"1\" class=\"dataframe\">\n",
       "  <thead>\n",
       "    <tr style=\"text-align: right;\">\n",
       "      <th></th>\n",
       "      <th>Year</th>\n",
       "      <th>College Code</th>\n",
       "      <th>Branch Code</th>\n",
       "      <th>Caste</th>\n",
       "      <th>Mark</th>\n",
       "    </tr>\n",
       "  </thead>\n",
       "  <tbody>\n",
       "    <tr>\n",
       "      <th>0</th>\n",
       "      <td>2017</td>\n",
       "      <td>1</td>\n",
       "      <td>0</td>\n",
       "      <td>0</td>\n",
       "      <td>196.25</td>\n",
       "    </tr>\n",
       "    <tr>\n",
       "      <th>1</th>\n",
       "      <td>2017</td>\n",
       "      <td>1</td>\n",
       "      <td>0</td>\n",
       "      <td>1</td>\n",
       "      <td>195.25</td>\n",
       "    </tr>\n",
       "    <tr>\n",
       "      <th>2</th>\n",
       "      <td>2017</td>\n",
       "      <td>1</td>\n",
       "      <td>0</td>\n",
       "      <td>2</td>\n",
       "      <td>193.25</td>\n",
       "    </tr>\n",
       "    <tr>\n",
       "      <th>3</th>\n",
       "      <td>2017</td>\n",
       "      <td>1</td>\n",
       "      <td>0</td>\n",
       "      <td>3</td>\n",
       "      <td>194.25</td>\n",
       "    </tr>\n",
       "    <tr>\n",
       "      <th>4</th>\n",
       "      <td>2017</td>\n",
       "      <td>1</td>\n",
       "      <td>0</td>\n",
       "      <td>4</td>\n",
       "      <td>188.75</td>\n",
       "    </tr>\n",
       "  </tbody>\n",
       "</table>\n",
       "</div>"
      ],
      "text/plain": [
       "   Year  College Code Branch Code Caste    Mark\n",
       "0  2017             1           0     0  196.25\n",
       "1  2017             1           0     1  195.25\n",
       "2  2017             1           0     2  193.25\n",
       "3  2017             1           0     3  194.25\n",
       "4  2017             1           0     4  188.75"
      ]
     },
     "execution_count": 47,
     "metadata": {},
     "output_type": "execute_result"
    }
   ],
   "source": [
    "new_df.head()"
   ]
  },
  {
   "cell_type": "code",
   "execution_count": 48,
   "id": "accb2b2f",
   "metadata": {},
   "outputs": [],
   "source": [
    "from sklearn.multioutput import MultiOutputClassifier\n",
    "from sklearn.ensemble import RandomForestClassifier"
   ]
  },
  {
   "cell_type": "code",
   "execution_count": 51,
   "id": "d0274c09",
   "metadata": {},
   "outputs": [],
   "source": [
    "for label, content in new_df.items():\n",
    "    if pd.api.types.is_numeric_dtype(content):\n",
    "        if pd.isnull(content).sum():\n",
    "            #df_tmp[label+\"_is_missing\"] = pd.isnull(content)\n",
    "            new_df[label] = content.fillna(content.median())"
   ]
  },
  {
   "cell_type": "code",
   "execution_count": 52,
   "id": "b7bfa9cf",
   "metadata": {},
   "outputs": [],
   "source": [
    "X = new_df.drop(columns = [\"College Code\", \"Branch Code\"])\n",
    "Y = new_df.drop(columns = [\"Year\", \"Caste\", \"Mark\"])"
   ]
  },
  {
   "cell_type": "code",
   "execution_count": 53,
   "id": "2a100c58",
   "metadata": {},
   "outputs": [
    {
     "data": {
      "text/html": [
       "<div>\n",
       "<style scoped>\n",
       "    .dataframe tbody tr th:only-of-type {\n",
       "        vertical-align: middle;\n",
       "    }\n",
       "\n",
       "    .dataframe tbody tr th {\n",
       "        vertical-align: top;\n",
       "    }\n",
       "\n",
       "    .dataframe thead th {\n",
       "        text-align: right;\n",
       "    }\n",
       "</style>\n",
       "<table border=\"1\" class=\"dataframe\">\n",
       "  <thead>\n",
       "    <tr style=\"text-align: right;\">\n",
       "      <th></th>\n",
       "      <th>Year</th>\n",
       "      <th>Caste</th>\n",
       "      <th>Mark</th>\n",
       "    </tr>\n",
       "  </thead>\n",
       "  <tbody>\n",
       "    <tr>\n",
       "      <th>0</th>\n",
       "      <td>2017</td>\n",
       "      <td>0</td>\n",
       "      <td>196.25</td>\n",
       "    </tr>\n",
       "    <tr>\n",
       "      <th>1</th>\n",
       "      <td>2017</td>\n",
       "      <td>1</td>\n",
       "      <td>195.25</td>\n",
       "    </tr>\n",
       "    <tr>\n",
       "      <th>2</th>\n",
       "      <td>2017</td>\n",
       "      <td>2</td>\n",
       "      <td>193.25</td>\n",
       "    </tr>\n",
       "    <tr>\n",
       "      <th>3</th>\n",
       "      <td>2017</td>\n",
       "      <td>3</td>\n",
       "      <td>194.25</td>\n",
       "    </tr>\n",
       "    <tr>\n",
       "      <th>4</th>\n",
       "      <td>2017</td>\n",
       "      <td>4</td>\n",
       "      <td>188.75</td>\n",
       "    </tr>\n",
       "  </tbody>\n",
       "</table>\n",
       "</div>"
      ],
      "text/plain": [
       "   Year Caste    Mark\n",
       "0  2017     0  196.25\n",
       "1  2017     1  195.25\n",
       "2  2017     2  193.25\n",
       "3  2017     3  194.25\n",
       "4  2017     4  188.75"
      ]
     },
     "execution_count": 53,
     "metadata": {},
     "output_type": "execute_result"
    }
   ],
   "source": [
    "X.head()"
   ]
  },
  {
   "cell_type": "code",
   "execution_count": 54,
   "id": "80071111",
   "metadata": {},
   "outputs": [
    {
     "data": {
      "text/html": [
       "<div>\n",
       "<style scoped>\n",
       "    .dataframe tbody tr th:only-of-type {\n",
       "        vertical-align: middle;\n",
       "    }\n",
       "\n",
       "    .dataframe tbody tr th {\n",
       "        vertical-align: top;\n",
       "    }\n",
       "\n",
       "    .dataframe thead th {\n",
       "        text-align: right;\n",
       "    }\n",
       "</style>\n",
       "<table border=\"1\" class=\"dataframe\">\n",
       "  <thead>\n",
       "    <tr style=\"text-align: right;\">\n",
       "      <th></th>\n",
       "      <th>College Code</th>\n",
       "      <th>Branch Code</th>\n",
       "    </tr>\n",
       "  </thead>\n",
       "  <tbody>\n",
       "    <tr>\n",
       "      <th>0</th>\n",
       "      <td>1</td>\n",
       "      <td>0</td>\n",
       "    </tr>\n",
       "    <tr>\n",
       "      <th>1</th>\n",
       "      <td>1</td>\n",
       "      <td>0</td>\n",
       "    </tr>\n",
       "    <tr>\n",
       "      <th>2</th>\n",
       "      <td>1</td>\n",
       "      <td>0</td>\n",
       "    </tr>\n",
       "    <tr>\n",
       "      <th>3</th>\n",
       "      <td>1</td>\n",
       "      <td>0</td>\n",
       "    </tr>\n",
       "    <tr>\n",
       "      <th>4</th>\n",
       "      <td>1</td>\n",
       "      <td>0</td>\n",
       "    </tr>\n",
       "  </tbody>\n",
       "</table>\n",
       "</div>"
      ],
      "text/plain": [
       "   College Code Branch Code\n",
       "0             1           0\n",
       "1             1           0\n",
       "2             1           0\n",
       "3             1           0\n",
       "4             1           0"
      ]
     },
     "execution_count": 54,
     "metadata": {},
     "output_type": "execute_result"
    }
   ],
   "source": [
    "Y.head()"
   ]
  },
  {
   "cell_type": "code",
   "execution_count": 55,
   "id": "90ae745b",
   "metadata": {},
   "outputs": [
    {
     "name": "stdout",
     "output_type": "stream",
     "text": [
      "<class 'pandas.core.frame.DataFrame'>\n",
      "RangeIndex: 1680 entries, 0 to 1679\n",
      "Data columns (total 2 columns):\n",
      " #   Column        Non-Null Count  Dtype \n",
      "---  ------        --------------  ----- \n",
      " 0   College Code  1680 non-null   int64 \n",
      " 1   Branch Code   1680 non-null   object\n",
      "dtypes: int64(1), object(1)\n",
      "memory usage: 26.4+ KB\n"
     ]
    }
   ],
   "source": [
    "Y.info()"
   ]
  },
  {
   "cell_type": "code",
   "execution_count": 56,
   "id": "a716284f",
   "metadata": {},
   "outputs": [],
   "source": [
    "Y[\"Branch Code\"] =Y[\"Branch Code\"].astype('int')"
   ]
  },
  {
   "cell_type": "code",
   "execution_count": 57,
   "id": "e09edf3a",
   "metadata": {},
   "outputs": [],
   "source": [
    "clf = MultiOutputClassifier(RandomForestClassifier()).fit(X, Y)"
   ]
  },
  {
   "cell_type": "code",
   "execution_count": 58,
   "id": "9fa299f4",
   "metadata": {},
   "outputs": [
    {
     "data": {
      "text/plain": [
       "array([[5, 5],\n",
       "       [5, 4]], dtype=int64)"
      ]
     },
     "execution_count": 58,
     "metadata": {},
     "output_type": "execute_result"
    }
   ],
   "source": [
    "clf.predict(X[-2:])"
   ]
  },
  {
   "cell_type": "code",
   "execution_count": null,
   "id": "f72189a7",
   "metadata": {},
   "outputs": [],
   "source": []
  },
  {
   "cell_type": "code",
   "execution_count": null,
   "id": "9e3944ce",
   "metadata": {},
   "outputs": [],
   "source": []
  }
 ],
 "metadata": {
  "kernelspec": {
   "display_name": "Python 3",
   "language": "python",
   "name": "python3"
  },
  "language_info": {
   "codemirror_mode": {
    "name": "ipython",
    "version": 3
   },
   "file_extension": ".py",
   "mimetype": "text/x-python",
   "name": "python",
   "nbconvert_exporter": "python",
   "pygments_lexer": "ipython3",
   "version": "3.10.6"
  }
 },
 "nbformat": 4,
 "nbformat_minor": 5
}
