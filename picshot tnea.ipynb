{
 "cells": [
  {
   "cell_type": "code",
   "execution_count": null,
   "id": "b30cc32a",
   "metadata": {},
   "outputs": [],
   "source": [
    "import pandas as pd\n",
    "import numpy as np \n",
    "import matplotlib.pyplot as plt\n",
    "import sklearn"
   ]
  },
  {
   "cell_type": "code",
   "execution_count": null,
   "id": "5e85751f",
   "metadata": {},
   "outputs": [],
   "source": [
    "#importing 2017-2020 data\n",
    "df = pd.read_csv(\"data/2017-2020.csv\",low_memory=False)"
   ]
  },
  {
   "cell_type": "code",
   "execution_count": null,
   "id": "35101772",
   "metadata": {},
   "outputs": [],
   "source": [
    "df.info()"
   ]
  },
  {
   "cell_type": "code",
   "execution_count": null,
   "id": "d396e8a5",
   "metadata": {},
   "outputs": [],
   "source": [
    "df.isna().sum()"
   ]
  },
  {
   "cell_type": "code",
   "execution_count": null,
   "id": "258a3811",
   "metadata": {},
   "outputs": [],
   "source": [
    "df.columns"
   ]
  },
  {
   "cell_type": "code",
   "execution_count": null,
   "id": "9d17f144",
   "metadata": {},
   "outputs": [],
   "source": [
    "fig, ax = plt.subplots()\n",
    "ax.scatter(df[\"Year\"][:1000], df[\"OC\"][:1000])"
   ]
  },
  {
   "cell_type": "code",
   "execution_count": null,
   "id": "ec464715",
   "metadata": {},
   "outputs": [],
   "source": [
    "df.Year[:1000]"
   ]
  },
  {
   "cell_type": "code",
   "execution_count": null,
   "id": "0d23688c",
   "metadata": {},
   "outputs": [],
   "source": [
    "df.Year.dtype"
   ]
  },
  {
   "cell_type": "code",
   "execution_count": null,
   "id": "46998ce1",
   "metadata": {},
   "outputs": [],
   "source": [
    "df.OC.plot.hist()"
   ]
  },
  {
   "cell_type": "code",
   "execution_count": null,
   "id": "5a87bbbc",
   "metadata": {},
   "outputs": [],
   "source": [
    "df = pd.read_csv(\"data/2017-2020.csv\",\n",
    "                 low_memory=False,\n",
    "                 parse_dates=[\"Year\"])"
   ]
  },
  {
   "cell_type": "code",
   "execution_count": null,
   "id": "f9960d80",
   "metadata": {},
   "outputs": [],
   "source": [
    "df.Year.dtype"
   ]
  },
  {
   "cell_type": "code",
   "execution_count": null,
   "id": "010d67e5",
   "metadata": {},
   "outputs": [],
   "source": [
    "df.Year[:1000]"
   ]
  },
  {
   "cell_type": "code",
   "execution_count": null,
   "id": "3a5d4dd9",
   "metadata": {},
   "outputs": [],
   "source": [
    "fig, ax = plt.subplots()\n",
    "ax.scatter(df[\"Year\"][:1000], df[\"OC\"][:1000])"
   ]
  },
  {
   "cell_type": "code",
   "execution_count": null,
   "id": "6a1677fe",
   "metadata": {},
   "outputs": [],
   "source": [
    "df.head()"
   ]
  },
  {
   "cell_type": "code",
   "execution_count": null,
   "id": "dd280c1d",
   "metadata": {},
   "outputs": [],
   "source": [
    "#transpose\n",
    "df.head().T"
   ]
  },
  {
   "cell_type": "code",
   "execution_count": null,
   "id": "c80ac457",
   "metadata": {},
   "outputs": [],
   "source": [
    "df.Year.head(20)"
   ]
  },
  {
   "cell_type": "code",
   "execution_count": null,
   "id": "1ce6cc45",
   "metadata": {},
   "outputs": [],
   "source": [
    "df.sort_values(by=[\"Year\"], inplace=True, ascending=True)\n",
    "df.Year.head(20)"
   ]
  },
  {
   "cell_type": "code",
   "execution_count": null,
   "id": "328d1d66",
   "metadata": {},
   "outputs": [],
   "source": [
    "df_tmp = df.copy()"
   ]
  },
  {
   "cell_type": "code",
   "execution_count": null,
   "id": "fd6d5c3a",
   "metadata": {},
   "outputs": [],
   "source": [
    "df_tmp[\"tYear\"] = df_tmp.Year.dt.year"
   ]
  },
  {
   "cell_type": "code",
   "execution_count": null,
   "id": "fdd63248",
   "metadata": {},
   "outputs": [],
   "source": [
    "df_tmp.head().T"
   ]
  },
  {
   "cell_type": "code",
   "execution_count": null,
   "id": "04e85056",
   "metadata": {},
   "outputs": [],
   "source": [
    "df_tmp.drop(\"Year\", axis=1, inplace=True)"
   ]
  },
  {
   "cell_type": "code",
   "execution_count": null,
   "id": "4d77740a",
   "metadata": {},
   "outputs": [],
   "source": [
    "df_tmp.College_Name.value_counts()"
   ]
  },
  {
   "cell_type": "code",
   "execution_count": null,
   "id": "15d5d36c",
   "metadata": {},
   "outputs": [],
   "source": [
    "df_tmp.head()"
   ]
  },
  {
   "cell_type": "code",
   "execution_count": null,
   "id": "434e9e45",
   "metadata": {},
   "outputs": [],
   "source": [
    "len(df_tmp)"
   ]
  },
  {
   "cell_type": "code",
   "execution_count": null,
   "id": "037a840c",
   "metadata": {},
   "outputs": [],
   "source": [
    "df_tmp.OC.sort_values()"
   ]
  },
  {
   "cell_type": "code",
   "execution_count": null,
   "id": "0e52929d",
   "metadata": {},
   "outputs": [],
   "source": [
    "df_tmp.ST.sort_values()"
   ]
  },
  {
   "cell_type": "code",
   "execution_count": null,
   "id": "d3f7fbd4",
   "metadata": {},
   "outputs": [],
   "source": [
    "len(df_tmp)"
   ]
  },
  {
   "cell_type": "code",
   "execution_count": null,
   "id": "a4d7ecbd",
   "metadata": {},
   "outputs": [],
   "source": [
    "from sklearn.ensemble import RandomForestRegressor\n",
    "\n",
    "model = RandomForestRegressor(n_jobs=-1,random_state=42)\n",
    "\n",
    "model.fit(df_tmp.drop(\"OC\", axis=1), df_tmp[\"OC\"])"
   ]
  },
  {
   "cell_type": "code",
   "execution_count": null,
   "id": "dd238ad7",
   "metadata": {},
   "outputs": [],
   "source": [
    "df_tmp.info()"
   ]
  },
  {
   "cell_type": "code",
   "execution_count": null,
   "id": "61027e2c",
   "metadata": {},
   "outputs": [],
   "source": [
    "df_tmp[\"College_Name\"].dtype"
   ]
  },
  {
   "cell_type": "code",
   "execution_count": null,
   "id": "2b3f854d",
   "metadata": {},
   "outputs": [],
   "source": [
    "df.isna().sum()"
   ]
  },
  {
   "cell_type": "code",
   "execution_count": null,
   "id": "b7f026f3",
   "metadata": {},
   "outputs": [],
   "source": [
    "df_tmp.head().T"
   ]
  },
  {
   "cell_type": "code",
   "execution_count": null,
   "id": "22b555d8",
   "metadata": {},
   "outputs": [],
   "source": [
    "pd.api.types.is_string_dtype(df_tmp[\"College_Name\"])"
   ]
  },
  {
   "cell_type": "code",
   "execution_count": null,
   "id": "bd5cc423",
   "metadata": {},
   "outputs": [],
   "source": [
    "for label, content in df_tmp.items():\n",
    "    if pd.api.types.is_string_dtype(content):\n",
    "        print(label)"
   ]
  },
  {
   "cell_type": "code",
   "execution_count": null,
   "id": "a7fb824d",
   "metadata": {},
   "outputs": [],
   "source": [
    "for label, content in df_tmp.items():\n",
    "    if pd.api.types.is_string_dtype(content):\n",
    "        df_tmp[label] = content.astype(\"category\").cat.as_ordered()"
   ]
  },
  {
   "cell_type": "code",
   "execution_count": null,
   "id": "92db8fdb",
   "metadata": {},
   "outputs": [],
   "source": [
    "df_tmp.info() "
   ]
  },
  {
   "cell_type": "code",
   "execution_count": null,
   "id": "96c3cec2",
   "metadata": {},
   "outputs": [],
   "source": [
    "df_tmp.College_Name.cat.categories"
   ]
  },
  {
   "cell_type": "code",
   "execution_count": null,
   "id": "0581641e",
   "metadata": {},
   "outputs": [],
   "source": [
    "df_tmp.College_Name.cat.codes"
   ]
  },
  {
   "cell_type": "code",
   "execution_count": null,
   "id": "9580728f",
   "metadata": {},
   "outputs": [],
   "source": [
    "df_tmp.isnull().sum()/len(df_tmp)"
   ]
  },
  {
   "cell_type": "code",
   "execution_count": null,
   "id": "829a7909",
   "metadata": {},
   "outputs": [],
   "source": [
    "df_tmp.to_csv(\"data/train_tmp.csv\",index=False)"
   ]
  },
  {
   "cell_type": "code",
   "execution_count": null,
   "id": "a78b1ef3",
   "metadata": {},
   "outputs": [],
   "source": [
    "df_tmp = pd.read_csv(\"data/train_tmp.csv\",low_memory=False)\n",
    "df_tmp.head().T"
   ]
  },
  {
   "cell_type": "code",
   "execution_count": null,
   "id": "3609cd1e",
   "metadata": {},
   "outputs": [],
   "source": [
    "df_tmp.isna().sum()"
   ]
  },
  {
   "cell_type": "code",
   "execution_count": null,
   "id": "cc5dc4a5",
   "metadata": {},
   "outputs": [],
   "source": [
    "for label, content in df_tmp.items():\n",
    "    if pd.api.types.is_numeric_dtype(content):\n",
    "        print(label)"
   ]
  },
  {
   "cell_type": "code",
   "execution_count": null,
   "id": "76470b18",
   "metadata": {},
   "outputs": [],
   "source": [
    "df_tmp.BCM"
   ]
  },
  {
   "cell_type": "code",
   "execution_count": null,
   "id": "ec6f707a",
   "metadata": {},
   "outputs": [],
   "source": [
    "for label, content in df_tmp.items():\n",
    "    if pd.api.types.is_numeric_dtype(content):\n",
    "        if pd.isnull(content).sum():\n",
    "            print(label)"
   ]
  },
  {
   "cell_type": "code",
   "execution_count": null,
   "id": "835a71f6",
   "metadata": {},
   "outputs": [],
   "source": [
    "for label, content in df_tmp.items():\n",
    "    if pd.api.types.is_numeric_dtype(content):\n",
    "        if pd.isnull(content).sum():\n",
    "\n",
    "            df_tmp[label+\"_is_missing\"] = pd.isnull(content)\n",
    "            \n",
    "            df_tmp[label] = content.fillna(content.median())"
   ]
  },
  {
   "cell_type": "code",
   "execution_count": null,
   "id": "c38215d9",
   "metadata": {},
   "outputs": [],
   "source": [
    "for label, content in df_tmp.items():\n",
    "    if pd.api.types.is_numeric_dtype(content):\n",
    "        if pd.isnull(content).sum():\n",
    "            print(label)"
   ]
  },
  {
   "cell_type": "code",
   "execution_count": null,
   "id": "744a4f1d",
   "metadata": {},
   "outputs": [],
   "source": [
    "df_tmp.MBCDNC_is_missing.value_counts()"
   ]
  },
  {
   "cell_type": "code",
   "execution_count": null,
   "id": "97ef5cac",
   "metadata": {},
   "outputs": [],
   "source": [
    "df_tmp.isna().sum()"
   ]
  },
  {
   "cell_type": "code",
   "execution_count": null,
   "id": "3d985c5d",
   "metadata": {},
   "outputs": [],
   "source": [
    "for label, content in df_tmp.items():\n",
    "    if not pd.api.types.is_numeric_dtype(content):\n",
    "        print(label)"
   ]
  },
  {
   "cell_type": "code",
   "execution_count": null,
   "id": "df706e31",
   "metadata": {},
   "outputs": [],
   "source": [
    "for label, content in df_tmp.items():\n",
    "    if not pd.api.types.is_numeric_dtype(content):\n",
    "        # Add binary column to indicate whether sample had missing value\n",
    "        df_tmp[label+\"_is_missing\"] = pd.isnull(content)\n",
    "        # Turn categories into numbers and add +1\n",
    "        df_tmp[label] = pd.Categorical(content).codes+1"
   ]
  },
  {
   "cell_type": "code",
   "execution_count": null,
   "id": "8f522880",
   "metadata": {},
   "outputs": [],
   "source": [
    "pd.Categorical(df_tmp[\"College_Name\"]).codes+1"
   ]
  },
  {
   "cell_type": "code",
   "execution_count": null,
   "id": "d298eeb0",
   "metadata": {},
   "outputs": [],
   "source": [
    "df_tmp.info()"
   ]
  },
  {
   "cell_type": "code",
   "execution_count": null,
   "id": "431797a0",
   "metadata": {},
   "outputs": [],
   "source": [
    "df_tmp.head().T"
   ]
  },
  {
   "cell_type": "code",
   "execution_count": null,
   "id": "8789a4c1",
   "metadata": {},
   "outputs": [],
   "source": [
    "df_tmp.isna().sum()"
   ]
  },
  {
   "cell_type": "code",
   "execution_count": null,
   "id": "26b06bd6",
   "metadata": {},
   "outputs": [],
   "source": [
    "df_tmp.head()"
   ]
  },
  {
   "cell_type": "code",
   "execution_count": null,
   "id": "c1715e3c",
   "metadata": {},
   "outputs": [],
   "source": [
    "len(df_tmp)"
   ]
  },
  {
   "cell_type": "code",
   "execution_count": null,
   "id": "86d97d85",
   "metadata": {},
   "outputs": [],
   "source": [
    "%%time\n",
    "# Instantiate model\n",
    "model = RandomForestRegressor(n_jobs=-1, random_state=42)\n",
    "\n",
    "# Fit the model\n",
    "model.fit(df_tmp.drop(\"OC\", axis=1), df_tmp[\"OC\"])"
   ]
  },
  {
   "cell_type": "code",
   "execution_count": null,
   "id": "bc2c4099",
   "metadata": {},
   "outputs": [],
   "source": [
    "# Score the model\n",
    "model.score(df_tmp.drop(\"OC\", axis=1), df_tmp[\"OC\"])"
   ]
  },
  {
   "cell_type": "code",
   "execution_count": null,
   "id": "f019947d",
   "metadata": {},
   "outputs": [],
   "source": [
    "df_tmp.tYear"
   ]
  },
  {
   "cell_type": "code",
   "execution_count": null,
   "id": "e53d575c",
   "metadata": {},
   "outputs": [],
   "source": [
    "df_tmp.tYear.value_counts()"
   ]
  },
  {
   "cell_type": "code",
   "execution_count": null,
   "id": "4dd96a23",
   "metadata": {},
   "outputs": [],
   "source": [
    "df_val = df_tmp[df_tmp.tYear == 2017]\n",
    "df_train = df_tmp[df_tmp.tYear != 2017]\n",
    "\n",
    "len(df_val), len(df_train)"
   ]
  },
  {
   "cell_type": "code",
   "execution_count": null,
   "id": "b312c890",
   "metadata": {},
   "outputs": [],
   "source": [
    "X_train, y_train = df_train.drop(\"OC\", axis=1), df_train.OC\n",
    "X_valid, y_valid = df_val.drop(\"OC\", axis=1), df_val.OC\n",
    "\n",
    "X_train.shape, y_train.shape, X_valid.shape, y_valid.shape"
   ]
  },
  {
   "cell_type": "code",
   "execution_count": null,
   "id": "62f779ca",
   "metadata": {},
   "outputs": [],
   "source": [
    "y_train"
   ]
  },
  {
   "cell_type": "code",
   "execution_count": null,
   "id": "055cdfd0",
   "metadata": {},
   "outputs": [],
   "source": [
    "df_test = pd.read_csv(\"data/2021 - Sheet1.csv\",\n",
    "                      low_memory=False,\n",
    "                      parse_dates=[\"Year\"])\n",
    "\n",
    "df_test.head()"
   ]
  },
  {
   "cell_type": "code",
   "execution_count": null,
   "id": "75421ea1",
   "metadata": {},
   "outputs": [],
   "source": [
    "def preprocess_data(df):\n",
    "    \"\"\"\n",
    "    Performs transformations on df and returns transformed df.\n",
    "    \"\"\"\n",
    "    df[\"tYear\"] = df.Year.dt.year\n",
    "  \n",
    "    \n",
    "    df.drop(\"Year\", axis=1, inplace=True)\n",
    "    \n",
    "  \n",
    "    for label, content in df.items():\n",
    "        if pd.api.types.is_numeric_dtype(content):\n",
    "            if pd.isnull(content).sum():\n",
    "              \n",
    "                df[label+\"_is_missing\"] = pd.isnull(content)\n",
    "               \n",
    "                df[label] = content.fillna(content.median())\n",
    "    \n",
    "      \n",
    "        if not pd.api.types.is_numeric_dtype(content):\n",
    "            df[label+\"_is_missing\"] = pd.isnull(content)\n",
    "           \n",
    "            df[label] = pd.Categorical(content).codes+1\n",
    "    \n",
    "    return df"
   ]
  },
  {
   "cell_type": "code",
   "execution_count": null,
   "id": "fef5272d",
   "metadata": {},
   "outputs": [],
   "source": [
    "df_test = preprocess_data(df_test)\n",
    "df_test.head()"
   ]
  },
  {
   "cell_type": "code",
   "execution_count": null,
   "id": "336a00ad",
   "metadata": {},
   "outputs": [],
   "source": [
    "test_preds = ideal_model.predict(df_test)"
   ]
  },
  {
   "cell_type": "code",
   "execution_count": null,
   "id": "8ef45b72",
   "metadata": {},
   "outputs": [],
   "source": [
    "X_train.head()"
   ]
  },
  {
   "cell_type": "code",
   "execution_count": null,
   "id": "b30f7253",
   "metadata": {},
   "outputs": [],
   "source": [
    "set(X_train.columns) - set(df_test.columns)"
   ]
  },
  {
   "cell_type": "code",
   "execution_count": null,
   "id": "cf37741e",
   "metadata": {},
   "outputs": [],
   "source": [
    "test_preds = ideal_model.predict(df_test)"
   ]
  },
  {
   "cell_type": "code",
   "execution_count": null,
   "id": "9e7a40d2",
   "metadata": {},
   "outputs": [],
   "source": [
    "test_preds"
   ]
  },
  {
   "cell_type": "code",
   "execution_count": null,
   "id": "1b51842d",
   "metadata": {},
   "outputs": [],
   "source": [
    "df_preds = pd.DataFrame()\n",
    "df_preds[\"College_Name\"] = df_test[\"College_Name\"]\n",
    "df_preds[\"OC\"] = test_preds\n",
    "df_preds"
   ]
  },
  {
   "cell_type": "code",
   "execution_count": null,
   "id": "1daf9436",
   "metadata": {},
   "outputs": [],
   "source": [
    "df_preds.to_csv(\"data/predictions.csv\", index=False)"
   ]
  },
  {
   "cell_type": "code",
   "execution_count": null,
   "id": "e5486562",
   "metadata": {},
   "outputs": [],
   "source": [
    "dff = pd.read_csv(\"data/predictions.csv\",low_memory=False)"
   ]
  },
  {
   "cell_type": "code",
   "execution_count": null,
   "id": "89f7c1a6",
   "metadata": {},
   "outputs": [],
   "source": [
    "fig, ax = plt.subplots()\n",
    "ax.scatter(dff[\"College_Name\"][:1000], dff[\"OC\"][:1000])\n",
    "plt.xlabel(\"College Codes\")\n",
    "plt.ylabel(\"Cutoff mark\")\n",
    "plt.title(\"Predicted Cutoff Marks of OC category 2021\")"
   ]
  }
 ],
 "metadata": {
  "kernelspec": {
   "display_name": "Python 3",
   "language": "python",
   "name": "python3"
  },
  "language_info": {
   "codemirror_mode": {
    "name": "ipython",
    "version": 3
   },
   "file_extension": ".py",
   "mimetype": "text/x-python",
   "name": "python",
   "nbconvert_exporter": "python",
   "pygments_lexer": "ipython3",
   "version": "3.10.6"
  }
 },
 "nbformat": 4,
 "nbformat_minor": 5
}
